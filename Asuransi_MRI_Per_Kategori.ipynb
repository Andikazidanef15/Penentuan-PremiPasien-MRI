{
  "nbformat": 4,
  "nbformat_minor": 0,
  "metadata": {
    "colab": {
      "name": "Asuransi MRI 2.ipynb",
      "provenance": [],
      "collapsed_sections": [],
      "toc_visible": true
    },
    "kernelspec": {
      "name": "python3",
      "display_name": "Python 3"
    },
    "language_info": {
      "name": "python"
    }
  },
  "cells": [
    {
      "cell_type": "markdown",
      "source": [
        "# Notebook Kelompok 18 Proyek MA3271 Pemodelan Matematika \n",
        "* Topik : Pemodelan Biaya Magnetic Resonance Imaging (MRI)\n",
        "* Kelompok 18 : \n",
        "  * 10119001 - Sekar Annasya H\n",
        "  * 10119013 - Alfini Ridatillah\n",
        "  * 10119015 - Alfina Rahmadina\n",
        "  * 10119055 - Muhammad Pudja Gemilang\n",
        "  * 10119111 - Andika Zidane Faturrahman\n",
        "* Notebook ini membahas pemodelan premi asuransi kesehatan khusus MRI untuk setiap pasien serta menentukan rate of return dari investasi di pelayanan jasa MRI\n",
        "* Asumsi yang digunakan :    \n",
        "  * Biaya yang digunakan adalah biaya masa kini\n",
        "  * Jumlah klaim antara 1, 2 atau berbanding lurus dengan total biaya \n",
        "  * Suku bunganya adalah 8.17% per tahun (Berdasarkan web Prudential)\n",
        "\n"
      ],
      "metadata": {
        "id": "iGxwLy7r2JwW"
      }
    },
    {
      "cell_type": "markdown",
      "source": [
        "## Import Package dan Dataset\n",
        "Keterangan package yang digunakan dan kegunaannya\n",
        "* **pandas** : Import data dan melakukan manipulasi dataset \n",
        "* **matplotlib** dan **seaborn** : Visualisasi data\n",
        "* **numpy** : Menerapkan basic aljabar linear, statistika dan operasi matematika secara umum\n",
        "\n",
        "\n"
      ],
      "metadata": {
        "id": "vcPfdDf_y8oT"
      }
    },
    {
      "cell_type": "code",
      "execution_count": null,
      "metadata": {
        "colab": {
          "base_uri": "https://localhost:8080/"
        },
        "id": "aJPONoegNkom",
        "outputId": "2aec1cba-4242-43a1-ac58-228bd7fa7d1e"
      },
      "outputs": [
        {
          "output_type": "execute_result",
          "data": {
            "text/plain": [
              "Index(['rtglast', 'umur', 'bl_th', 'rjenis', 'rnmbos', 'biaya', 'biaya3',\n",
              "       'rdisc', 'bayar', 'selisih', 'selisihx', 'bayarx', 'rkdjasa', 'rnmjasa',\n",
              "       'rfee', 'diskon', 'disc', 'total_biaya_pelayanan'],\n",
              "      dtype='object')"
            ]
          },
          "metadata": {},
          "execution_count": 1
        }
      ],
      "source": [
        "# Import package\n",
        "import pandas as pd\n",
        "import matplotlib.pyplot as plt\n",
        "import numpy as np\n",
        "import seaborn as sns\n",
        "\n",
        "# Gunakan style ggplot dalam visualisasi\n",
        "plt.style.use('ggplot')\n",
        "\n",
        "# Import dataset\n",
        "df = pd.read_excel('Data MRI.xlsx')\n",
        "\n",
        "# Print jenis kolom\n",
        "df.columns"
      ]
    },
    {
      "cell_type": "code",
      "source": [
        "# Menampilkan 5 data pasien teratas\n",
        "df.head()"
      ],
      "metadata": {
        "colab": {
          "base_uri": "https://localhost:8080/",
          "height": 206
        },
        "id": "mom7ak09OnB3",
        "outputId": "d9981907-7254-44a6-8ee8-1684d5daf1e2"
      },
      "execution_count": null,
      "outputs": [
        {
          "output_type": "execute_result",
          "data": {
            "text/plain": [
              "     rtglast  umur  bl_th rjenis   rnmbos    biaya   biaya3  rdisc    bayar  \\\n",
              "0  03-Jan-11  54.0  Tahun      L  Pribadi  4400000  4400000      0  4400000   \n",
              "1  03-Jan-11  54.0  Tahun      L  Pribadi  4400000  4400000      0  4400000   \n",
              "2  04-Jan-11  70.0  Tahun      L  Pribadi  2200000  2200000      0  2200000   \n",
              "3  04-Jan-11  49.0  Tahun      P  Pribadi  3200000  3200000      0  3200000   \n",
              "4  04-Jan-11  49.0  Tahun      P  Pribadi  3200000  3200000      0  3200000   \n",
              "\n",
              "   selisih  selisihx   bayarx  rkdjasa       rnmjasa     rfee  diskon  disc  \\\n",
              "0        0         0  4400000   900010   LUMBOSACRAL  2200000       0     0   \n",
              "1        0         0  4400000   900006      CERVICAL  2200000       0     0   \n",
              "2        0         0  2200000   900010   LUMBOSACRAL  2200000       0     0   \n",
              "3        0         0  3200000   900044   MRA 1 REGIO  2200000       0     0   \n",
              "4        0         0  3200000   900046     KONTRAS I  1000000       0     0   \n",
              "\n",
              "   total_biaya_pelayanan  \n",
              "0                2200000  \n",
              "1                2200000  \n",
              "2                2200000  \n",
              "3                2200000  \n",
              "4                1000000  "
            ],
            "text/html": [
              "\n",
              "  <div id=\"df-c3f4d3fd-b87b-4d82-98a2-882eb269a94b\">\n",
              "    <div class=\"colab-df-container\">\n",
              "      <div>\n",
              "<style scoped>\n",
              "    .dataframe tbody tr th:only-of-type {\n",
              "        vertical-align: middle;\n",
              "    }\n",
              "\n",
              "    .dataframe tbody tr th {\n",
              "        vertical-align: top;\n",
              "    }\n",
              "\n",
              "    .dataframe thead th {\n",
              "        text-align: right;\n",
              "    }\n",
              "</style>\n",
              "<table border=\"1\" class=\"dataframe\">\n",
              "  <thead>\n",
              "    <tr style=\"text-align: right;\">\n",
              "      <th></th>\n",
              "      <th>rtglast</th>\n",
              "      <th>umur</th>\n",
              "      <th>bl_th</th>\n",
              "      <th>rjenis</th>\n",
              "      <th>rnmbos</th>\n",
              "      <th>biaya</th>\n",
              "      <th>biaya3</th>\n",
              "      <th>rdisc</th>\n",
              "      <th>bayar</th>\n",
              "      <th>selisih</th>\n",
              "      <th>selisihx</th>\n",
              "      <th>bayarx</th>\n",
              "      <th>rkdjasa</th>\n",
              "      <th>rnmjasa</th>\n",
              "      <th>rfee</th>\n",
              "      <th>diskon</th>\n",
              "      <th>disc</th>\n",
              "      <th>total_biaya_pelayanan</th>\n",
              "    </tr>\n",
              "  </thead>\n",
              "  <tbody>\n",
              "    <tr>\n",
              "      <th>0</th>\n",
              "      <td>03-Jan-11</td>\n",
              "      <td>54.0</td>\n",
              "      <td>Tahun</td>\n",
              "      <td>L</td>\n",
              "      <td>Pribadi</td>\n",
              "      <td>4400000</td>\n",
              "      <td>4400000</td>\n",
              "      <td>0</td>\n",
              "      <td>4400000</td>\n",
              "      <td>0</td>\n",
              "      <td>0</td>\n",
              "      <td>4400000</td>\n",
              "      <td>900010</td>\n",
              "      <td>LUMBOSACRAL</td>\n",
              "      <td>2200000</td>\n",
              "      <td>0</td>\n",
              "      <td>0</td>\n",
              "      <td>2200000</td>\n",
              "    </tr>\n",
              "    <tr>\n",
              "      <th>1</th>\n",
              "      <td>03-Jan-11</td>\n",
              "      <td>54.0</td>\n",
              "      <td>Tahun</td>\n",
              "      <td>L</td>\n",
              "      <td>Pribadi</td>\n",
              "      <td>4400000</td>\n",
              "      <td>4400000</td>\n",
              "      <td>0</td>\n",
              "      <td>4400000</td>\n",
              "      <td>0</td>\n",
              "      <td>0</td>\n",
              "      <td>4400000</td>\n",
              "      <td>900006</td>\n",
              "      <td>CERVICAL</td>\n",
              "      <td>2200000</td>\n",
              "      <td>0</td>\n",
              "      <td>0</td>\n",
              "      <td>2200000</td>\n",
              "    </tr>\n",
              "    <tr>\n",
              "      <th>2</th>\n",
              "      <td>04-Jan-11</td>\n",
              "      <td>70.0</td>\n",
              "      <td>Tahun</td>\n",
              "      <td>L</td>\n",
              "      <td>Pribadi</td>\n",
              "      <td>2200000</td>\n",
              "      <td>2200000</td>\n",
              "      <td>0</td>\n",
              "      <td>2200000</td>\n",
              "      <td>0</td>\n",
              "      <td>0</td>\n",
              "      <td>2200000</td>\n",
              "      <td>900010</td>\n",
              "      <td>LUMBOSACRAL</td>\n",
              "      <td>2200000</td>\n",
              "      <td>0</td>\n",
              "      <td>0</td>\n",
              "      <td>2200000</td>\n",
              "    </tr>\n",
              "    <tr>\n",
              "      <th>3</th>\n",
              "      <td>04-Jan-11</td>\n",
              "      <td>49.0</td>\n",
              "      <td>Tahun</td>\n",
              "      <td>P</td>\n",
              "      <td>Pribadi</td>\n",
              "      <td>3200000</td>\n",
              "      <td>3200000</td>\n",
              "      <td>0</td>\n",
              "      <td>3200000</td>\n",
              "      <td>0</td>\n",
              "      <td>0</td>\n",
              "      <td>3200000</td>\n",
              "      <td>900044</td>\n",
              "      <td>MRA 1 REGIO</td>\n",
              "      <td>2200000</td>\n",
              "      <td>0</td>\n",
              "      <td>0</td>\n",
              "      <td>2200000</td>\n",
              "    </tr>\n",
              "    <tr>\n",
              "      <th>4</th>\n",
              "      <td>04-Jan-11</td>\n",
              "      <td>49.0</td>\n",
              "      <td>Tahun</td>\n",
              "      <td>P</td>\n",
              "      <td>Pribadi</td>\n",
              "      <td>3200000</td>\n",
              "      <td>3200000</td>\n",
              "      <td>0</td>\n",
              "      <td>3200000</td>\n",
              "      <td>0</td>\n",
              "      <td>0</td>\n",
              "      <td>3200000</td>\n",
              "      <td>900046</td>\n",
              "      <td>KONTRAS I</td>\n",
              "      <td>1000000</td>\n",
              "      <td>0</td>\n",
              "      <td>0</td>\n",
              "      <td>1000000</td>\n",
              "    </tr>\n",
              "  </tbody>\n",
              "</table>\n",
              "</div>\n",
              "      <button class=\"colab-df-convert\" onclick=\"convertToInteractive('df-c3f4d3fd-b87b-4d82-98a2-882eb269a94b')\"\n",
              "              title=\"Convert this dataframe to an interactive table.\"\n",
              "              style=\"display:none;\">\n",
              "        \n",
              "  <svg xmlns=\"http://www.w3.org/2000/svg\" height=\"24px\"viewBox=\"0 0 24 24\"\n",
              "       width=\"24px\">\n",
              "    <path d=\"M0 0h24v24H0V0z\" fill=\"none\"/>\n",
              "    <path d=\"M18.56 5.44l.94 2.06.94-2.06 2.06-.94-2.06-.94-.94-2.06-.94 2.06-2.06.94zm-11 1L8.5 8.5l.94-2.06 2.06-.94-2.06-.94L8.5 2.5l-.94 2.06-2.06.94zm10 10l.94 2.06.94-2.06 2.06-.94-2.06-.94-.94-2.06-.94 2.06-2.06.94z\"/><path d=\"M17.41 7.96l-1.37-1.37c-.4-.4-.92-.59-1.43-.59-.52 0-1.04.2-1.43.59L10.3 9.45l-7.72 7.72c-.78.78-.78 2.05 0 2.83L4 21.41c.39.39.9.59 1.41.59.51 0 1.02-.2 1.41-.59l7.78-7.78 2.81-2.81c.8-.78.8-2.07 0-2.86zM5.41 20L4 18.59l7.72-7.72 1.47 1.35L5.41 20z\"/>\n",
              "  </svg>\n",
              "      </button>\n",
              "      \n",
              "  <style>\n",
              "    .colab-df-container {\n",
              "      display:flex;\n",
              "      flex-wrap:wrap;\n",
              "      gap: 12px;\n",
              "    }\n",
              "\n",
              "    .colab-df-convert {\n",
              "      background-color: #E8F0FE;\n",
              "      border: none;\n",
              "      border-radius: 50%;\n",
              "      cursor: pointer;\n",
              "      display: none;\n",
              "      fill: #1967D2;\n",
              "      height: 32px;\n",
              "      padding: 0 0 0 0;\n",
              "      width: 32px;\n",
              "    }\n",
              "\n",
              "    .colab-df-convert:hover {\n",
              "      background-color: #E2EBFA;\n",
              "      box-shadow: 0px 1px 2px rgba(60, 64, 67, 0.3), 0px 1px 3px 1px rgba(60, 64, 67, 0.15);\n",
              "      fill: #174EA6;\n",
              "    }\n",
              "\n",
              "    [theme=dark] .colab-df-convert {\n",
              "      background-color: #3B4455;\n",
              "      fill: #D2E3FC;\n",
              "    }\n",
              "\n",
              "    [theme=dark] .colab-df-convert:hover {\n",
              "      background-color: #434B5C;\n",
              "      box-shadow: 0px 1px 3px 1px rgba(0, 0, 0, 0.15);\n",
              "      filter: drop-shadow(0px 1px 2px rgba(0, 0, 0, 0.3));\n",
              "      fill: #FFFFFF;\n",
              "    }\n",
              "  </style>\n",
              "\n",
              "      <script>\n",
              "        const buttonEl =\n",
              "          document.querySelector('#df-c3f4d3fd-b87b-4d82-98a2-882eb269a94b button.colab-df-convert');\n",
              "        buttonEl.style.display =\n",
              "          google.colab.kernel.accessAllowed ? 'block' : 'none';\n",
              "\n",
              "        async function convertToInteractive(key) {\n",
              "          const element = document.querySelector('#df-c3f4d3fd-b87b-4d82-98a2-882eb269a94b');\n",
              "          const dataTable =\n",
              "            await google.colab.kernel.invokeFunction('convertToInteractive',\n",
              "                                                     [key], {});\n",
              "          if (!dataTable) return;\n",
              "\n",
              "          const docLinkHtml = 'Like what you see? Visit the ' +\n",
              "            '<a target=\"_blank\" href=https://colab.research.google.com/notebooks/data_table.ipynb>data table notebook</a>'\n",
              "            + ' to learn more about interactive tables.';\n",
              "          element.innerHTML = '';\n",
              "          dataTable['output_type'] = 'display_data';\n",
              "          await google.colab.output.renderOutput(dataTable, element);\n",
              "          const docLink = document.createElement('div');\n",
              "          docLink.innerHTML = docLinkHtml;\n",
              "          element.appendChild(docLink);\n",
              "        }\n",
              "      </script>\n",
              "    </div>\n",
              "  </div>\n",
              "  "
            ]
          },
          "metadata": {},
          "execution_count": 2
        }
      ]
    },
    {
      "cell_type": "code",
      "source": [
        "df.drop(['rdisc','bayar','selisih','selisihx','bayarx'], axis = 1, inplace = True)"
      ],
      "metadata": {
        "id": "AiTWG_sY3wRg"
      },
      "execution_count": null,
      "outputs": []
    },
    {
      "cell_type": "code",
      "source": [
        "df.head()"
      ],
      "metadata": {
        "colab": {
          "base_uri": "https://localhost:8080/",
          "height": 206
        },
        "id": "3tw9NYhW4PyP",
        "outputId": "399c23fb-cebd-4b2a-a7a8-52dc9fe202e3"
      },
      "execution_count": null,
      "outputs": [
        {
          "output_type": "execute_result",
          "data": {
            "text/plain": [
              "     rtglast  umur  bl_th rjenis   rnmbos    biaya   biaya3  rkdjasa  \\\n",
              "0  03-Jan-11  54.0  Tahun      L  Pribadi  4400000  4400000   900010   \n",
              "1  03-Jan-11  54.0  Tahun      L  Pribadi  4400000  4400000   900006   \n",
              "2  04-Jan-11  70.0  Tahun      L  Pribadi  2200000  2200000   900010   \n",
              "3  04-Jan-11  49.0  Tahun      P  Pribadi  3200000  3200000   900044   \n",
              "4  04-Jan-11  49.0  Tahun      P  Pribadi  3200000  3200000   900046   \n",
              "\n",
              "        rnmjasa     rfee  diskon  disc  total_biaya_pelayanan  \n",
              "0   LUMBOSACRAL  2200000       0     0                2200000  \n",
              "1      CERVICAL  2200000       0     0                2200000  \n",
              "2   LUMBOSACRAL  2200000       0     0                2200000  \n",
              "3   MRA 1 REGIO  2200000       0     0                2200000  \n",
              "4     KONTRAS I  1000000       0     0                1000000  "
            ],
            "text/html": [
              "\n",
              "  <div id=\"df-bd57dc6e-69cd-4fde-859a-49b727dbfed0\">\n",
              "    <div class=\"colab-df-container\">\n",
              "      <div>\n",
              "<style scoped>\n",
              "    .dataframe tbody tr th:only-of-type {\n",
              "        vertical-align: middle;\n",
              "    }\n",
              "\n",
              "    .dataframe tbody tr th {\n",
              "        vertical-align: top;\n",
              "    }\n",
              "\n",
              "    .dataframe thead th {\n",
              "        text-align: right;\n",
              "    }\n",
              "</style>\n",
              "<table border=\"1\" class=\"dataframe\">\n",
              "  <thead>\n",
              "    <tr style=\"text-align: right;\">\n",
              "      <th></th>\n",
              "      <th>rtglast</th>\n",
              "      <th>umur</th>\n",
              "      <th>bl_th</th>\n",
              "      <th>rjenis</th>\n",
              "      <th>rnmbos</th>\n",
              "      <th>biaya</th>\n",
              "      <th>biaya3</th>\n",
              "      <th>rkdjasa</th>\n",
              "      <th>rnmjasa</th>\n",
              "      <th>rfee</th>\n",
              "      <th>diskon</th>\n",
              "      <th>disc</th>\n",
              "      <th>total_biaya_pelayanan</th>\n",
              "    </tr>\n",
              "  </thead>\n",
              "  <tbody>\n",
              "    <tr>\n",
              "      <th>0</th>\n",
              "      <td>03-Jan-11</td>\n",
              "      <td>54.0</td>\n",
              "      <td>Tahun</td>\n",
              "      <td>L</td>\n",
              "      <td>Pribadi</td>\n",
              "      <td>4400000</td>\n",
              "      <td>4400000</td>\n",
              "      <td>900010</td>\n",
              "      <td>LUMBOSACRAL</td>\n",
              "      <td>2200000</td>\n",
              "      <td>0</td>\n",
              "      <td>0</td>\n",
              "      <td>2200000</td>\n",
              "    </tr>\n",
              "    <tr>\n",
              "      <th>1</th>\n",
              "      <td>03-Jan-11</td>\n",
              "      <td>54.0</td>\n",
              "      <td>Tahun</td>\n",
              "      <td>L</td>\n",
              "      <td>Pribadi</td>\n",
              "      <td>4400000</td>\n",
              "      <td>4400000</td>\n",
              "      <td>900006</td>\n",
              "      <td>CERVICAL</td>\n",
              "      <td>2200000</td>\n",
              "      <td>0</td>\n",
              "      <td>0</td>\n",
              "      <td>2200000</td>\n",
              "    </tr>\n",
              "    <tr>\n",
              "      <th>2</th>\n",
              "      <td>04-Jan-11</td>\n",
              "      <td>70.0</td>\n",
              "      <td>Tahun</td>\n",
              "      <td>L</td>\n",
              "      <td>Pribadi</td>\n",
              "      <td>2200000</td>\n",
              "      <td>2200000</td>\n",
              "      <td>900010</td>\n",
              "      <td>LUMBOSACRAL</td>\n",
              "      <td>2200000</td>\n",
              "      <td>0</td>\n",
              "      <td>0</td>\n",
              "      <td>2200000</td>\n",
              "    </tr>\n",
              "    <tr>\n",
              "      <th>3</th>\n",
              "      <td>04-Jan-11</td>\n",
              "      <td>49.0</td>\n",
              "      <td>Tahun</td>\n",
              "      <td>P</td>\n",
              "      <td>Pribadi</td>\n",
              "      <td>3200000</td>\n",
              "      <td>3200000</td>\n",
              "      <td>900044</td>\n",
              "      <td>MRA 1 REGIO</td>\n",
              "      <td>2200000</td>\n",
              "      <td>0</td>\n",
              "      <td>0</td>\n",
              "      <td>2200000</td>\n",
              "    </tr>\n",
              "    <tr>\n",
              "      <th>4</th>\n",
              "      <td>04-Jan-11</td>\n",
              "      <td>49.0</td>\n",
              "      <td>Tahun</td>\n",
              "      <td>P</td>\n",
              "      <td>Pribadi</td>\n",
              "      <td>3200000</td>\n",
              "      <td>3200000</td>\n",
              "      <td>900046</td>\n",
              "      <td>KONTRAS I</td>\n",
              "      <td>1000000</td>\n",
              "      <td>0</td>\n",
              "      <td>0</td>\n",
              "      <td>1000000</td>\n",
              "    </tr>\n",
              "  </tbody>\n",
              "</table>\n",
              "</div>\n",
              "      <button class=\"colab-df-convert\" onclick=\"convertToInteractive('df-bd57dc6e-69cd-4fde-859a-49b727dbfed0')\"\n",
              "              title=\"Convert this dataframe to an interactive table.\"\n",
              "              style=\"display:none;\">\n",
              "        \n",
              "  <svg xmlns=\"http://www.w3.org/2000/svg\" height=\"24px\"viewBox=\"0 0 24 24\"\n",
              "       width=\"24px\">\n",
              "    <path d=\"M0 0h24v24H0V0z\" fill=\"none\"/>\n",
              "    <path d=\"M18.56 5.44l.94 2.06.94-2.06 2.06-.94-2.06-.94-.94-2.06-.94 2.06-2.06.94zm-11 1L8.5 8.5l.94-2.06 2.06-.94-2.06-.94L8.5 2.5l-.94 2.06-2.06.94zm10 10l.94 2.06.94-2.06 2.06-.94-2.06-.94-.94-2.06-.94 2.06-2.06.94z\"/><path d=\"M17.41 7.96l-1.37-1.37c-.4-.4-.92-.59-1.43-.59-.52 0-1.04.2-1.43.59L10.3 9.45l-7.72 7.72c-.78.78-.78 2.05 0 2.83L4 21.41c.39.39.9.59 1.41.59.51 0 1.02-.2 1.41-.59l7.78-7.78 2.81-2.81c.8-.78.8-2.07 0-2.86zM5.41 20L4 18.59l7.72-7.72 1.47 1.35L5.41 20z\"/>\n",
              "  </svg>\n",
              "      </button>\n",
              "      \n",
              "  <style>\n",
              "    .colab-df-container {\n",
              "      display:flex;\n",
              "      flex-wrap:wrap;\n",
              "      gap: 12px;\n",
              "    }\n",
              "\n",
              "    .colab-df-convert {\n",
              "      background-color: #E8F0FE;\n",
              "      border: none;\n",
              "      border-radius: 50%;\n",
              "      cursor: pointer;\n",
              "      display: none;\n",
              "      fill: #1967D2;\n",
              "      height: 32px;\n",
              "      padding: 0 0 0 0;\n",
              "      width: 32px;\n",
              "    }\n",
              "\n",
              "    .colab-df-convert:hover {\n",
              "      background-color: #E2EBFA;\n",
              "      box-shadow: 0px 1px 2px rgba(60, 64, 67, 0.3), 0px 1px 3px 1px rgba(60, 64, 67, 0.15);\n",
              "      fill: #174EA6;\n",
              "    }\n",
              "\n",
              "    [theme=dark] .colab-df-convert {\n",
              "      background-color: #3B4455;\n",
              "      fill: #D2E3FC;\n",
              "    }\n",
              "\n",
              "    [theme=dark] .colab-df-convert:hover {\n",
              "      background-color: #434B5C;\n",
              "      box-shadow: 0px 1px 3px 1px rgba(0, 0, 0, 0.15);\n",
              "      filter: drop-shadow(0px 1px 2px rgba(0, 0, 0, 0.3));\n",
              "      fill: #FFFFFF;\n",
              "    }\n",
              "  </style>\n",
              "\n",
              "      <script>\n",
              "        const buttonEl =\n",
              "          document.querySelector('#df-bd57dc6e-69cd-4fde-859a-49b727dbfed0 button.colab-df-convert');\n",
              "        buttonEl.style.display =\n",
              "          google.colab.kernel.accessAllowed ? 'block' : 'none';\n",
              "\n",
              "        async function convertToInteractive(key) {\n",
              "          const element = document.querySelector('#df-bd57dc6e-69cd-4fde-859a-49b727dbfed0');\n",
              "          const dataTable =\n",
              "            await google.colab.kernel.invokeFunction('convertToInteractive',\n",
              "                                                     [key], {});\n",
              "          if (!dataTable) return;\n",
              "\n",
              "          const docLinkHtml = 'Like what you see? Visit the ' +\n",
              "            '<a target=\"_blank\" href=https://colab.research.google.com/notebooks/data_table.ipynb>data table notebook</a>'\n",
              "            + ' to learn more about interactive tables.';\n",
              "          element.innerHTML = '';\n",
              "          dataTable['output_type'] = 'display_data';\n",
              "          await google.colab.output.renderOutput(dataTable, element);\n",
              "          const docLink = document.createElement('div');\n",
              "          docLink.innerHTML = docLinkHtml;\n",
              "          element.appendChild(docLink);\n",
              "        }\n",
              "      </script>\n",
              "    </div>\n",
              "  </div>\n",
              "  "
            ]
          },
          "metadata": {},
          "execution_count": 4
        }
      ]
    },
    {
      "cell_type": "markdown",
      "source": [
        "Keterangan dataset\n",
        "* rtglast : Tanggal kunjungan pasien\n",
        "* umur : Umur pasien\n",
        "* bl_th : Satuan dari umur pasien\n",
        "* rjenis : Jenis kelamin pasien (L : laki-laki, P : perempuan)\n",
        "* rnmbos : Jenis jaminan biaya pasien (Pribadi, RS)\n",
        "* biaya : Biaya total pengobatan pasien setelah didiskon\n",
        "* biaya3 : Biaya total pengobatan pasien sebelum didiskon\n",
        "* bayar dan bayarx : Besar nominal pembayaran oleh pasien atas tagihan/klaim\n",
        "* selisih dan selisihx : Sisa pembayaran\n",
        "* rkdjasa : Kode unik jenis pelayanan klinik yang diambil oleh pasien\n",
        "* rnmjasa : Jenis pelayanan klinik yang diambil oleh pasien\n",
        "* rfee : Besar biaya pelayanan klinik yang diambil oleh pasien\n",
        "* diskon & disc : Besar diskon biaya pelayanan klinik yang diambil oleh pasien\n",
        "* total_biaya_pelayanan : Biaya yang harus dibayar oleh pasien terkait pelayanan klinik"
      ],
      "metadata": {
        "id": "iBPijizen2pG"
      }
    },
    {
      "cell_type": "markdown",
      "source": [
        "## Data Cleaning"
      ],
      "metadata": {
        "id": "rbOOlv0z7t_-"
      }
    },
    {
      "cell_type": "markdown",
      "source": [
        "### Konversi usia \n",
        "\n",
        "Untuk memudahkan perhitungan nanti, pasien dengan satuan umur bulan akan diubah menjadi satuan tahun dengan membagi umur tersebut dengan 12"
      ],
      "metadata": {
        "id": "EInGUfKz7whq"
      }
    },
    {
      "cell_type": "code",
      "source": [
        "def konversi_umur(df):\n",
        "  # Fungsi konversi umur bulan ke tahun\n",
        "  for i in range(len(df)):\n",
        "    if df['bl_th'][i] == 'Bulan':\n",
        "      df['umur'][i] = np.floor(df['umur'][i]/12)\n",
        "    else:\n",
        "      continue\n",
        "  \n",
        "  return df"
      ],
      "metadata": {
        "id": "cmftsak57whs"
      },
      "execution_count": null,
      "outputs": []
    },
    {
      "cell_type": "code",
      "source": [
        "# Terapkan fungsi pada dataset\n",
        "df = konversi_umur(df)"
      ],
      "metadata": {
        "colab": {
          "base_uri": "https://localhost:8080/"
        },
        "outputId": "0a4feed3-e63e-4667-fcb2-dc5041aaefbc",
        "id": "kL0TyPlR7wht"
      },
      "execution_count": null,
      "outputs": [
        {
          "output_type": "stream",
          "name": "stderr",
          "text": [
            "/usr/local/lib/python3.7/dist-packages/ipykernel_launcher.py:5: SettingWithCopyWarning: \n",
            "A value is trying to be set on a copy of a slice from a DataFrame\n",
            "\n",
            "See the caveats in the documentation: https://pandas.pydata.org/pandas-docs/stable/user_guide/indexing.html#returning-a-view-versus-a-copy\n",
            "  \"\"\"\n"
          ]
        }
      ]
    },
    {
      "cell_type": "code",
      "source": [
        "# Drop fitur bl_th karena redundant\n",
        "df.drop(['bl_th'], axis = 1, inplace = True)"
      ],
      "metadata": {
        "id": "x1CbvDYc7whu"
      },
      "execution_count": null,
      "outputs": []
    },
    {
      "cell_type": "code",
      "source": [
        "# Tampilkan kembali 5 data teratas\n",
        "df.head()"
      ],
      "metadata": {
        "colab": {
          "base_uri": "https://localhost:8080/",
          "height": 206
        },
        "outputId": "5d1f20cd-c431-4d8e-e4b5-a040f5b9a361",
        "id": "-UWvUhIa7whu"
      },
      "execution_count": null,
      "outputs": [
        {
          "output_type": "execute_result",
          "data": {
            "text/plain": [
              "     rtglast  umur rjenis   rnmbos    biaya   biaya3  rkdjasa       rnmjasa  \\\n",
              "0  03-Jan-11  54.0      L  Pribadi  4400000  4400000   900010   LUMBOSACRAL   \n",
              "1  03-Jan-11  54.0      L  Pribadi  4400000  4400000   900006      CERVICAL   \n",
              "2  04-Jan-11  70.0      L  Pribadi  2200000  2200000   900010   LUMBOSACRAL   \n",
              "3  04-Jan-11  49.0      P  Pribadi  3200000  3200000   900044   MRA 1 REGIO   \n",
              "4  04-Jan-11  49.0      P  Pribadi  3200000  3200000   900046     KONTRAS I   \n",
              "\n",
              "      rfee  diskon  disc  total_biaya_pelayanan  \n",
              "0  2200000       0     0                2200000  \n",
              "1  2200000       0     0                2200000  \n",
              "2  2200000       0     0                2200000  \n",
              "3  2200000       0     0                2200000  \n",
              "4  1000000       0     0                1000000  "
            ],
            "text/html": [
              "\n",
              "  <div id=\"df-4b7a86e2-3f15-4047-8287-9fe6d48dbb18\">\n",
              "    <div class=\"colab-df-container\">\n",
              "      <div>\n",
              "<style scoped>\n",
              "    .dataframe tbody tr th:only-of-type {\n",
              "        vertical-align: middle;\n",
              "    }\n",
              "\n",
              "    .dataframe tbody tr th {\n",
              "        vertical-align: top;\n",
              "    }\n",
              "\n",
              "    .dataframe thead th {\n",
              "        text-align: right;\n",
              "    }\n",
              "</style>\n",
              "<table border=\"1\" class=\"dataframe\">\n",
              "  <thead>\n",
              "    <tr style=\"text-align: right;\">\n",
              "      <th></th>\n",
              "      <th>rtglast</th>\n",
              "      <th>umur</th>\n",
              "      <th>rjenis</th>\n",
              "      <th>rnmbos</th>\n",
              "      <th>biaya</th>\n",
              "      <th>biaya3</th>\n",
              "      <th>rkdjasa</th>\n",
              "      <th>rnmjasa</th>\n",
              "      <th>rfee</th>\n",
              "      <th>diskon</th>\n",
              "      <th>disc</th>\n",
              "      <th>total_biaya_pelayanan</th>\n",
              "    </tr>\n",
              "  </thead>\n",
              "  <tbody>\n",
              "    <tr>\n",
              "      <th>0</th>\n",
              "      <td>03-Jan-11</td>\n",
              "      <td>54.0</td>\n",
              "      <td>L</td>\n",
              "      <td>Pribadi</td>\n",
              "      <td>4400000</td>\n",
              "      <td>4400000</td>\n",
              "      <td>900010</td>\n",
              "      <td>LUMBOSACRAL</td>\n",
              "      <td>2200000</td>\n",
              "      <td>0</td>\n",
              "      <td>0</td>\n",
              "      <td>2200000</td>\n",
              "    </tr>\n",
              "    <tr>\n",
              "      <th>1</th>\n",
              "      <td>03-Jan-11</td>\n",
              "      <td>54.0</td>\n",
              "      <td>L</td>\n",
              "      <td>Pribadi</td>\n",
              "      <td>4400000</td>\n",
              "      <td>4400000</td>\n",
              "      <td>900006</td>\n",
              "      <td>CERVICAL</td>\n",
              "      <td>2200000</td>\n",
              "      <td>0</td>\n",
              "      <td>0</td>\n",
              "      <td>2200000</td>\n",
              "    </tr>\n",
              "    <tr>\n",
              "      <th>2</th>\n",
              "      <td>04-Jan-11</td>\n",
              "      <td>70.0</td>\n",
              "      <td>L</td>\n",
              "      <td>Pribadi</td>\n",
              "      <td>2200000</td>\n",
              "      <td>2200000</td>\n",
              "      <td>900010</td>\n",
              "      <td>LUMBOSACRAL</td>\n",
              "      <td>2200000</td>\n",
              "      <td>0</td>\n",
              "      <td>0</td>\n",
              "      <td>2200000</td>\n",
              "    </tr>\n",
              "    <tr>\n",
              "      <th>3</th>\n",
              "      <td>04-Jan-11</td>\n",
              "      <td>49.0</td>\n",
              "      <td>P</td>\n",
              "      <td>Pribadi</td>\n",
              "      <td>3200000</td>\n",
              "      <td>3200000</td>\n",
              "      <td>900044</td>\n",
              "      <td>MRA 1 REGIO</td>\n",
              "      <td>2200000</td>\n",
              "      <td>0</td>\n",
              "      <td>0</td>\n",
              "      <td>2200000</td>\n",
              "    </tr>\n",
              "    <tr>\n",
              "      <th>4</th>\n",
              "      <td>04-Jan-11</td>\n",
              "      <td>49.0</td>\n",
              "      <td>P</td>\n",
              "      <td>Pribadi</td>\n",
              "      <td>3200000</td>\n",
              "      <td>3200000</td>\n",
              "      <td>900046</td>\n",
              "      <td>KONTRAS I</td>\n",
              "      <td>1000000</td>\n",
              "      <td>0</td>\n",
              "      <td>0</td>\n",
              "      <td>1000000</td>\n",
              "    </tr>\n",
              "  </tbody>\n",
              "</table>\n",
              "</div>\n",
              "      <button class=\"colab-df-convert\" onclick=\"convertToInteractive('df-4b7a86e2-3f15-4047-8287-9fe6d48dbb18')\"\n",
              "              title=\"Convert this dataframe to an interactive table.\"\n",
              "              style=\"display:none;\">\n",
              "        \n",
              "  <svg xmlns=\"http://www.w3.org/2000/svg\" height=\"24px\"viewBox=\"0 0 24 24\"\n",
              "       width=\"24px\">\n",
              "    <path d=\"M0 0h24v24H0V0z\" fill=\"none\"/>\n",
              "    <path d=\"M18.56 5.44l.94 2.06.94-2.06 2.06-.94-2.06-.94-.94-2.06-.94 2.06-2.06.94zm-11 1L8.5 8.5l.94-2.06 2.06-.94-2.06-.94L8.5 2.5l-.94 2.06-2.06.94zm10 10l.94 2.06.94-2.06 2.06-.94-2.06-.94-.94-2.06-.94 2.06-2.06.94z\"/><path d=\"M17.41 7.96l-1.37-1.37c-.4-.4-.92-.59-1.43-.59-.52 0-1.04.2-1.43.59L10.3 9.45l-7.72 7.72c-.78.78-.78 2.05 0 2.83L4 21.41c.39.39.9.59 1.41.59.51 0 1.02-.2 1.41-.59l7.78-7.78 2.81-2.81c.8-.78.8-2.07 0-2.86zM5.41 20L4 18.59l7.72-7.72 1.47 1.35L5.41 20z\"/>\n",
              "  </svg>\n",
              "      </button>\n",
              "      \n",
              "  <style>\n",
              "    .colab-df-container {\n",
              "      display:flex;\n",
              "      flex-wrap:wrap;\n",
              "      gap: 12px;\n",
              "    }\n",
              "\n",
              "    .colab-df-convert {\n",
              "      background-color: #E8F0FE;\n",
              "      border: none;\n",
              "      border-radius: 50%;\n",
              "      cursor: pointer;\n",
              "      display: none;\n",
              "      fill: #1967D2;\n",
              "      height: 32px;\n",
              "      padding: 0 0 0 0;\n",
              "      width: 32px;\n",
              "    }\n",
              "\n",
              "    .colab-df-convert:hover {\n",
              "      background-color: #E2EBFA;\n",
              "      box-shadow: 0px 1px 2px rgba(60, 64, 67, 0.3), 0px 1px 3px 1px rgba(60, 64, 67, 0.15);\n",
              "      fill: #174EA6;\n",
              "    }\n",
              "\n",
              "    [theme=dark] .colab-df-convert {\n",
              "      background-color: #3B4455;\n",
              "      fill: #D2E3FC;\n",
              "    }\n",
              "\n",
              "    [theme=dark] .colab-df-convert:hover {\n",
              "      background-color: #434B5C;\n",
              "      box-shadow: 0px 1px 3px 1px rgba(0, 0, 0, 0.15);\n",
              "      filter: drop-shadow(0px 1px 2px rgba(0, 0, 0, 0.3));\n",
              "      fill: #FFFFFF;\n",
              "    }\n",
              "  </style>\n",
              "\n",
              "      <script>\n",
              "        const buttonEl =\n",
              "          document.querySelector('#df-4b7a86e2-3f15-4047-8287-9fe6d48dbb18 button.colab-df-convert');\n",
              "        buttonEl.style.display =\n",
              "          google.colab.kernel.accessAllowed ? 'block' : 'none';\n",
              "\n",
              "        async function convertToInteractive(key) {\n",
              "          const element = document.querySelector('#df-4b7a86e2-3f15-4047-8287-9fe6d48dbb18');\n",
              "          const dataTable =\n",
              "            await google.colab.kernel.invokeFunction('convertToInteractive',\n",
              "                                                     [key], {});\n",
              "          if (!dataTable) return;\n",
              "\n",
              "          const docLinkHtml = 'Like what you see? Visit the ' +\n",
              "            '<a target=\"_blank\" href=https://colab.research.google.com/notebooks/data_table.ipynb>data table notebook</a>'\n",
              "            + ' to learn more about interactive tables.';\n",
              "          element.innerHTML = '';\n",
              "          dataTable['output_type'] = 'display_data';\n",
              "          await google.colab.output.renderOutput(dataTable, element);\n",
              "          const docLink = document.createElement('div');\n",
              "          docLink.innerHTML = docLinkHtml;\n",
              "          element.appendChild(docLink);\n",
              "        }\n",
              "      </script>\n",
              "    </div>\n",
              "  </div>\n",
              "  "
            ]
          },
          "metadata": {},
          "execution_count": 8
        }
      ]
    },
    {
      "cell_type": "markdown",
      "source": [
        "## Bagi Kategori\n",
        "\n",
        "Dalam perhitungan premi nanti, perlu mengklasifikasikan umur setiap pasien terhadap selang umur yang ditetapkan"
      ],
      "metadata": {
        "id": "PKjdhFBh71Ee"
      }
    },
    {
      "cell_type": "code",
      "source": [
        "# Buat kolom baru berisi selang umur di mana umur pasien tersebut berada\n",
        "df['selang_umur'] = pd.qcut(df['umur'], 10)\n",
        "\n",
        "# Print hasilnya\n",
        "df['selang_umur'].to_frame()"
      ],
      "metadata": {
        "colab": {
          "base_uri": "https://localhost:8080/",
          "height": 424
        },
        "outputId": "62e00b52-8750-46d8-e3ab-54706a66ffa0",
        "id": "LaQYB8CC71Ef"
      },
      "execution_count": null,
      "outputs": [
        {
          "output_type": "execute_result",
          "data": {
            "text/plain": [
              "         selang_umur\n",
              "0       (53.0, 57.0]\n",
              "1       (53.0, 57.0]\n",
              "2       (69.0, 91.0]\n",
              "3       (48.0, 53.0]\n",
              "4       (48.0, 53.0]\n",
              "...              ...\n",
              "4616  (-0.001, 14.0]\n",
              "4617    (53.0, 57.0]\n",
              "4618    (53.0, 57.0]\n",
              "4619    (14.0, 27.0]\n",
              "4620    (14.0, 27.0]\n",
              "\n",
              "[4621 rows x 1 columns]"
            ],
            "text/html": [
              "\n",
              "  <div id=\"df-8376f17e-3354-4d1b-806f-1937758a06d8\">\n",
              "    <div class=\"colab-df-container\">\n",
              "      <div>\n",
              "<style scoped>\n",
              "    .dataframe tbody tr th:only-of-type {\n",
              "        vertical-align: middle;\n",
              "    }\n",
              "\n",
              "    .dataframe tbody tr th {\n",
              "        vertical-align: top;\n",
              "    }\n",
              "\n",
              "    .dataframe thead th {\n",
              "        text-align: right;\n",
              "    }\n",
              "</style>\n",
              "<table border=\"1\" class=\"dataframe\">\n",
              "  <thead>\n",
              "    <tr style=\"text-align: right;\">\n",
              "      <th></th>\n",
              "      <th>selang_umur</th>\n",
              "    </tr>\n",
              "  </thead>\n",
              "  <tbody>\n",
              "    <tr>\n",
              "      <th>0</th>\n",
              "      <td>(53.0, 57.0]</td>\n",
              "    </tr>\n",
              "    <tr>\n",
              "      <th>1</th>\n",
              "      <td>(53.0, 57.0]</td>\n",
              "    </tr>\n",
              "    <tr>\n",
              "      <th>2</th>\n",
              "      <td>(69.0, 91.0]</td>\n",
              "    </tr>\n",
              "    <tr>\n",
              "      <th>3</th>\n",
              "      <td>(48.0, 53.0]</td>\n",
              "    </tr>\n",
              "    <tr>\n",
              "      <th>4</th>\n",
              "      <td>(48.0, 53.0]</td>\n",
              "    </tr>\n",
              "    <tr>\n",
              "      <th>...</th>\n",
              "      <td>...</td>\n",
              "    </tr>\n",
              "    <tr>\n",
              "      <th>4616</th>\n",
              "      <td>(-0.001, 14.0]</td>\n",
              "    </tr>\n",
              "    <tr>\n",
              "      <th>4617</th>\n",
              "      <td>(53.0, 57.0]</td>\n",
              "    </tr>\n",
              "    <tr>\n",
              "      <th>4618</th>\n",
              "      <td>(53.0, 57.0]</td>\n",
              "    </tr>\n",
              "    <tr>\n",
              "      <th>4619</th>\n",
              "      <td>(14.0, 27.0]</td>\n",
              "    </tr>\n",
              "    <tr>\n",
              "      <th>4620</th>\n",
              "      <td>(14.0, 27.0]</td>\n",
              "    </tr>\n",
              "  </tbody>\n",
              "</table>\n",
              "<p>4621 rows × 1 columns</p>\n",
              "</div>\n",
              "      <button class=\"colab-df-convert\" onclick=\"convertToInteractive('df-8376f17e-3354-4d1b-806f-1937758a06d8')\"\n",
              "              title=\"Convert this dataframe to an interactive table.\"\n",
              "              style=\"display:none;\">\n",
              "        \n",
              "  <svg xmlns=\"http://www.w3.org/2000/svg\" height=\"24px\"viewBox=\"0 0 24 24\"\n",
              "       width=\"24px\">\n",
              "    <path d=\"M0 0h24v24H0V0z\" fill=\"none\"/>\n",
              "    <path d=\"M18.56 5.44l.94 2.06.94-2.06 2.06-.94-2.06-.94-.94-2.06-.94 2.06-2.06.94zm-11 1L8.5 8.5l.94-2.06 2.06-.94-2.06-.94L8.5 2.5l-.94 2.06-2.06.94zm10 10l.94 2.06.94-2.06 2.06-.94-2.06-.94-.94-2.06-.94 2.06-2.06.94z\"/><path d=\"M17.41 7.96l-1.37-1.37c-.4-.4-.92-.59-1.43-.59-.52 0-1.04.2-1.43.59L10.3 9.45l-7.72 7.72c-.78.78-.78 2.05 0 2.83L4 21.41c.39.39.9.59 1.41.59.51 0 1.02-.2 1.41-.59l7.78-7.78 2.81-2.81c.8-.78.8-2.07 0-2.86zM5.41 20L4 18.59l7.72-7.72 1.47 1.35L5.41 20z\"/>\n",
              "  </svg>\n",
              "      </button>\n",
              "      \n",
              "  <style>\n",
              "    .colab-df-container {\n",
              "      display:flex;\n",
              "      flex-wrap:wrap;\n",
              "      gap: 12px;\n",
              "    }\n",
              "\n",
              "    .colab-df-convert {\n",
              "      background-color: #E8F0FE;\n",
              "      border: none;\n",
              "      border-radius: 50%;\n",
              "      cursor: pointer;\n",
              "      display: none;\n",
              "      fill: #1967D2;\n",
              "      height: 32px;\n",
              "      padding: 0 0 0 0;\n",
              "      width: 32px;\n",
              "    }\n",
              "\n",
              "    .colab-df-convert:hover {\n",
              "      background-color: #E2EBFA;\n",
              "      box-shadow: 0px 1px 2px rgba(60, 64, 67, 0.3), 0px 1px 3px 1px rgba(60, 64, 67, 0.15);\n",
              "      fill: #174EA6;\n",
              "    }\n",
              "\n",
              "    [theme=dark] .colab-df-convert {\n",
              "      background-color: #3B4455;\n",
              "      fill: #D2E3FC;\n",
              "    }\n",
              "\n",
              "    [theme=dark] .colab-df-convert:hover {\n",
              "      background-color: #434B5C;\n",
              "      box-shadow: 0px 1px 3px 1px rgba(0, 0, 0, 0.15);\n",
              "      filter: drop-shadow(0px 1px 2px rgba(0, 0, 0, 0.3));\n",
              "      fill: #FFFFFF;\n",
              "    }\n",
              "  </style>\n",
              "\n",
              "      <script>\n",
              "        const buttonEl =\n",
              "          document.querySelector('#df-8376f17e-3354-4d1b-806f-1937758a06d8 button.colab-df-convert');\n",
              "        buttonEl.style.display =\n",
              "          google.colab.kernel.accessAllowed ? 'block' : 'none';\n",
              "\n",
              "        async function convertToInteractive(key) {\n",
              "          const element = document.querySelector('#df-8376f17e-3354-4d1b-806f-1937758a06d8');\n",
              "          const dataTable =\n",
              "            await google.colab.kernel.invokeFunction('convertToInteractive',\n",
              "                                                     [key], {});\n",
              "          if (!dataTable) return;\n",
              "\n",
              "          const docLinkHtml = 'Like what you see? Visit the ' +\n",
              "            '<a target=\"_blank\" href=https://colab.research.google.com/notebooks/data_table.ipynb>data table notebook</a>'\n",
              "            + ' to learn more about interactive tables.';\n",
              "          element.innerHTML = '';\n",
              "          dataTable['output_type'] = 'display_data';\n",
              "          await google.colab.output.renderOutput(dataTable, element);\n",
              "          const docLink = document.createElement('div');\n",
              "          docLink.innerHTML = docLinkHtml;\n",
              "          element.appendChild(docLink);\n",
              "        }\n",
              "      </script>\n",
              "    </div>\n",
              "  </div>\n",
              "  "
            ]
          },
          "metadata": {},
          "execution_count": 9
        }
      ]
    },
    {
      "cell_type": "code",
      "source": [
        "sns.countplot(data = df, y = 'selang_umur', hue = 'rjenis')\n",
        "plt.xlabel(\"Jumlah Pasien\")\n",
        "plt.ylabel(\"Selang Umur\")\n",
        "plt.show()"
      ],
      "metadata": {
        "colab": {
          "base_uri": "https://localhost:8080/",
          "height": 282
        },
        "id": "nr0SbfPY699W",
        "outputId": "7f588a35-a7b3-44a7-d102-26ee228750b3"
      },
      "execution_count": null,
      "outputs": [
        {
          "output_type": "display_data",
          "data": {
            "text/plain": [
              "<Figure size 432x288 with 1 Axes>"
            ],
            "image/png": "[encoded data removed]"
          },
          "metadata": {
            "needs_background": "light"
          }
        }
      ]
    },
    {
      "cell_type": "markdown",
      "source": [
        "Dapat dilihat dari bar plot di atas, jumlah pasien laki-laki berusia 0 - 14 tahun paling banyak, sementara jumlah pasien perempuan berusia 36 - 43 tahun paling banyak "
      ],
      "metadata": {
        "id": "cP7R4jxZ8Xh-"
      }
    },
    {
      "cell_type": "markdown",
      "source": [
        "## Exploratory Data Analysis (EDA)"
      ],
      "metadata": {
        "id": "oUjSsXpox9xj"
      }
    },
    {
      "cell_type": "markdown",
      "source": [
        "### Distribusi Biaya Pasien"
      ],
      "metadata": {
        "id": "Kc4d24MeyDHq"
      }
    },
    {
      "cell_type": "code",
      "source": [
        "# Melakukan visualisasi data\n",
        "import seaborn as sns\n",
        "\n",
        "sns.distplot(df['biaya'])\n",
        "plt.xlabel(\"Biaya Pasien (dalam juta)\")\n",
        "plt.show()"
      ],
      "metadata": {
        "colab": {
          "base_uri": "https://localhost:8080/",
          "height": 348
        },
        "id": "UmUfwQ_6yBB9",
        "outputId": "761f7afc-4bc7-4689-fd98-ed3fc5556928"
      },
      "execution_count": null,
      "outputs": [
        {
          "output_type": "stream",
          "name": "stderr",
          "text": [
            "/usr/local/lib/python3.7/dist-packages/seaborn/distributions.py:2619: FutureWarning: `distplot` is a deprecated function and will be removed in a future version. Please adapt your code to use either `displot` (a figure-level function with similar flexibility) or `histplot` (an axes-level function for histograms).\n",
            "  warnings.warn(msg, FutureWarning)\n"
          ]
        },
        {
          "output_type": "display_data",
          "data": {
            "text/plain": [
              "<Figure size 432x288 with 1 Axes>"
            ],
            "image/png": "[encoded data removed]"
          },
          "metadata": {
            "needs_background": "light"
          }
        }
      ]
    },
    {
      "cell_type": "markdown",
      "source": [
        "Distribusinya cenderung menceng kanan dengan pasien di klinik tersebut rata-rata  biaya pemeriksaannya adalah Rp 2 juta sampai dengan 3 juta"
      ],
      "metadata": {
        "id": "gxTGitc-yPRq"
      }
    },
    {
      "cell_type": "markdown",
      "source": [
        "### Rentang Usia Pasien"
      ],
      "metadata": {
        "id": "aRTN63zCyX1n"
      }
    },
    {
      "cell_type": "code",
      "source": [
        "# Melakukan visualisasi data\n",
        "import seaborn as sns\n",
        "\n",
        "sns.distplot(df['umur'])\n",
        "plt.show()"
      ],
      "metadata": {
        "colab": {
          "base_uri": "https://localhost:8080/",
          "height": 340
        },
        "id": "m1Kjl7euyY21",
        "outputId": "393dab03-7740-42cb-ca1e-f03f267bfdeb"
      },
      "execution_count": null,
      "outputs": [
        {
          "output_type": "stream",
          "name": "stderr",
          "text": [
            "/usr/local/lib/python3.7/dist-packages/seaborn/distributions.py:2619: FutureWarning: `distplot` is a deprecated function and will be removed in a future version. Please adapt your code to use either `displot` (a figure-level function with similar flexibility) or `histplot` (an axes-level function for histograms).\n",
            "  warnings.warn(msg, FutureWarning)\n"
          ]
        },
        {
          "output_type": "display_data",
          "data": {
            "text/plain": [
              "<Figure size 432x288 with 1 Axes>"
            ],
            "image/png": "[encoded data removed]"
          },
          "metadata": {
            "needs_background": "light"
          }
        }
      ]
    },
    {
      "cell_type": "markdown",
      "source": [
        "Kebanyakan pasien yang mengunjungi klinik tersebut berusia 40 - 60 tahun"
      ],
      "metadata": {
        "id": "sJ9NTFCsyc81"
      }
    },
    {
      "cell_type": "markdown",
      "source": [
        "## Besar Klaim rata-rata per kategori"
      ],
      "metadata": {
        "id": "Z2FhNbGAPhMC"
      }
    },
    {
      "cell_type": "markdown",
      "source": [
        "### Group by rerata total klaim\n",
        "\n",
        "Akan ditentukan besar klaim rata-rata dari setiap selang umur"
      ],
      "metadata": {
        "id": "IgAMAd6XUMHc"
      }
    },
    {
      "cell_type": "code",
      "source": [
        "df.head()"
      ],
      "metadata": {
        "colab": {
          "base_uri": "https://localhost:8080/",
          "height": 206
        },
        "id": "NFiAeDvrUF8r",
        "outputId": "9ef7bc14-3d1c-402f-f9e4-958a574c1563"
      },
      "execution_count": null,
      "outputs": [
        {
          "output_type": "execute_result",
          "data": {
            "text/plain": [
              "     rtglast  umur rjenis   rnmbos    biaya   biaya3  rkdjasa       rnmjasa  \\\n",
              "0  03-Jan-11  54.0      L  Pribadi  4400000  4400000   900010   LUMBOSACRAL   \n",
              "1  03-Jan-11  54.0      L  Pribadi  4400000  4400000   900006      CERVICAL   \n",
              "2  04-Jan-11  70.0      L  Pribadi  2200000  2200000   900010   LUMBOSACRAL   \n",
              "3  04-Jan-11  49.0      P  Pribadi  3200000  3200000   900044   MRA 1 REGIO   \n",
              "4  04-Jan-11  49.0      P  Pribadi  3200000  3200000   900046     KONTRAS I   \n",
              "\n",
              "      rfee  diskon  disc  total_biaya_pelayanan   selang_umur  \n",
              "0  2200000       0     0                2200000  (53.0, 57.0]  \n",
              "1  2200000       0     0                2200000  (53.0, 57.0]  \n",
              "2  2200000       0     0                2200000  (69.0, 91.0]  \n",
              "3  2200000       0     0                2200000  (48.0, 53.0]  \n",
              "4  1000000       0     0                1000000  (48.0, 53.0]  "
            ],
            "text/html": [
              "\n",
              "  <div id=\"df-9591fca2-85cc-4c48-bd97-970eb50fd02a\">\n",
              "    <div class=\"colab-df-container\">\n",
              "      <div>\n",
              "<style scoped>\n",
              "    .dataframe tbody tr th:only-of-type {\n",
              "        vertical-align: middle;\n",
              "    }\n",
              "\n",
              "    .dataframe tbody tr th {\n",
              "        vertical-align: top;\n",
              "    }\n",
              "\n",
              "    .dataframe thead th {\n",
              "        text-align: right;\n",
              "    }\n",
              "</style>\n",
              "<table border=\"1\" class=\"dataframe\">\n",
              "  <thead>\n",
              "    <tr style=\"text-align: right;\">\n",
              "      <th></th>\n",
              "      <th>rtglast</th>\n",
              "      <th>umur</th>\n",
              "      <th>rjenis</th>\n",
              "      <th>rnmbos</th>\n",
              "      <th>biaya</th>\n",
              "      <th>biaya3</th>\n",
              "      <th>rkdjasa</th>\n",
              "      <th>rnmjasa</th>\n",
              "      <th>rfee</th>\n",
              "      <th>diskon</th>\n",
              "      <th>disc</th>\n",
              "      <th>total_biaya_pelayanan</th>\n",
              "      <th>selang_umur</th>\n",
              "    </tr>\n",
              "  </thead>\n",
              "  <tbody>\n",
              "    <tr>\n",
              "      <th>0</th>\n",
              "      <td>03-Jan-11</td>\n",
              "      <td>54.0</td>\n",
              "      <td>L</td>\n",
              "      <td>Pribadi</td>\n",
              "      <td>4400000</td>\n",
              "      <td>4400000</td>\n",
              "      <td>900010</td>\n",
              "      <td>LUMBOSACRAL</td>\n",
              "      <td>2200000</td>\n",
              "      <td>0</td>\n",
              "      <td>0</td>\n",
              "      <td>2200000</td>\n",
              "      <td>(53.0, 57.0]</td>\n",
              "    </tr>\n",
              "    <tr>\n",
              "      <th>1</th>\n",
              "      <td>03-Jan-11</td>\n",
              "      <td>54.0</td>\n",
              "      <td>L</td>\n",
              "      <td>Pribadi</td>\n",
              "      <td>4400000</td>\n",
              "      <td>4400000</td>\n",
              "      <td>900006</td>\n",
              "      <td>CERVICAL</td>\n",
              "      <td>2200000</td>\n",
              "      <td>0</td>\n",
              "      <td>0</td>\n",
              "      <td>2200000</td>\n",
              "      <td>(53.0, 57.0]</td>\n",
              "    </tr>\n",
              "    <tr>\n",
              "      <th>2</th>\n",
              "      <td>04-Jan-11</td>\n",
              "      <td>70.0</td>\n",
              "      <td>L</td>\n",
              "      <td>Pribadi</td>\n",
              "      <td>2200000</td>\n",
              "      <td>2200000</td>\n",
              "      <td>900010</td>\n",
              "      <td>LUMBOSACRAL</td>\n",
              "      <td>2200000</td>\n",
              "      <td>0</td>\n",
              "      <td>0</td>\n",
              "      <td>2200000</td>\n",
              "      <td>(69.0, 91.0]</td>\n",
              "    </tr>\n",
              "    <tr>\n",
              "      <th>3</th>\n",
              "      <td>04-Jan-11</td>\n",
              "      <td>49.0</td>\n",
              "      <td>P</td>\n",
              "      <td>Pribadi</td>\n",
              "      <td>3200000</td>\n",
              "      <td>3200000</td>\n",
              "      <td>900044</td>\n",
              "      <td>MRA 1 REGIO</td>\n",
              "      <td>2200000</td>\n",
              "      <td>0</td>\n",
              "      <td>0</td>\n",
              "      <td>2200000</td>\n",
              "      <td>(48.0, 53.0]</td>\n",
              "    </tr>\n",
              "    <tr>\n",
              "      <th>4</th>\n",
              "      <td>04-Jan-11</td>\n",
              "      <td>49.0</td>\n",
              "      <td>P</td>\n",
              "      <td>Pribadi</td>\n",
              "      <td>3200000</td>\n",
              "      <td>3200000</td>\n",
              "      <td>900046</td>\n",
              "      <td>KONTRAS I</td>\n",
              "      <td>1000000</td>\n",
              "      <td>0</td>\n",
              "      <td>0</td>\n",
              "      <td>1000000</td>\n",
              "      <td>(48.0, 53.0]</td>\n",
              "    </tr>\n",
              "  </tbody>\n",
              "</table>\n",
              "</div>\n",
              "      <button class=\"colab-df-convert\" onclick=\"convertToInteractive('df-9591fca2-85cc-4c48-bd97-970eb50fd02a')\"\n",
              "              title=\"Convert this dataframe to an interactive table.\"\n",
              "              style=\"display:none;\">\n",
              "        \n",
              "  <svg xmlns=\"http://www.w3.org/2000/svg\" height=\"24px\"viewBox=\"0 0 24 24\"\n",
              "       width=\"24px\">\n",
              "    <path d=\"M0 0h24v24H0V0z\" fill=\"none\"/>\n",
              "    <path d=\"M18.56 5.44l.94 2.06.94-2.06 2.06-.94-2.06-.94-.94-2.06-.94 2.06-2.06.94zm-11 1L8.5 8.5l.94-2.06 2.06-.94-2.06-.94L8.5 2.5l-.94 2.06-2.06.94zm10 10l.94 2.06.94-2.06 2.06-.94-2.06-.94-.94-2.06-.94 2.06-2.06.94z\"/><path d=\"M17.41 7.96l-1.37-1.37c-.4-.4-.92-.59-1.43-.59-.52 0-1.04.2-1.43.59L10.3 9.45l-7.72 7.72c-.78.78-.78 2.05 0 2.83L4 21.41c.39.39.9.59 1.41.59.51 0 1.02-.2 1.41-.59l7.78-7.78 2.81-2.81c.8-.78.8-2.07 0-2.86zM5.41 20L4 18.59l7.72-7.72 1.47 1.35L5.41 20z\"/>\n",
              "  </svg>\n",
              "      </button>\n",
              "      \n",
              "  <style>\n",
              "    .colab-df-container {\n",
              "      display:flex;\n",
              "      flex-wrap:wrap;\n",
              "      gap: 12px;\n",
              "    }\n",
              "\n",
              "    .colab-df-convert {\n",
              "      background-color: #E8F0FE;\n",
              "      border: none;\n",
              "      border-radius: 50%;\n",
              "      cursor: pointer;\n",
              "      display: none;\n",
              "      fill: #1967D2;\n",
              "      height: 32px;\n",
              "      padding: 0 0 0 0;\n",
              "      width: 32px;\n",
              "    }\n",
              "\n",
              "    .colab-df-convert:hover {\n",
              "      background-color: #E2EBFA;\n",
              "      box-shadow: 0px 1px 2px rgba(60, 64, 67, 0.3), 0px 1px 3px 1px rgba(60, 64, 67, 0.15);\n",
              "      fill: #174EA6;\n",
              "    }\n",
              "\n",
              "    [theme=dark] .colab-df-convert {\n",
              "      background-color: #3B4455;\n",
              "      fill: #D2E3FC;\n",
              "    }\n",
              "\n",
              "    [theme=dark] .colab-df-convert:hover {\n",
              "      background-color: #434B5C;\n",
              "      box-shadow: 0px 1px 3px 1px rgba(0, 0, 0, 0.15);\n",
              "      filter: drop-shadow(0px 1px 2px rgba(0, 0, 0, 0.3));\n",
              "      fill: #FFFFFF;\n",
              "    }\n",
              "  </style>\n",
              "\n",
              "      <script>\n",
              "        const buttonEl =\n",
              "          document.querySelector('#df-9591fca2-85cc-4c48-bd97-970eb50fd02a button.colab-df-convert');\n",
              "        buttonEl.style.display =\n",
              "          google.colab.kernel.accessAllowed ? 'block' : 'none';\n",
              "\n",
              "        async function convertToInteractive(key) {\n",
              "          const element = document.querySelector('#df-9591fca2-85cc-4c48-bd97-970eb50fd02a');\n",
              "          const dataTable =\n",
              "            await google.colab.kernel.invokeFunction('convertToInteractive',\n",
              "                                                     [key], {});\n",
              "          if (!dataTable) return;\n",
              "\n",
              "          const docLinkHtml = 'Like what you see? Visit the ' +\n",
              "            '<a target=\"_blank\" href=https://colab.research.google.com/notebooks/data_table.ipynb>data table notebook</a>'\n",
              "            + ' to learn more about interactive tables.';\n",
              "          element.innerHTML = '';\n",
              "          dataTable['output_type'] = 'display_data';\n",
              "          await google.colab.output.renderOutput(dataTable, element);\n",
              "          const docLink = document.createElement('div');\n",
              "          docLink.innerHTML = docLinkHtml;\n",
              "          element.appendChild(docLink);\n",
              "        }\n",
              "      </script>\n",
              "    </div>\n",
              "  </div>\n",
              "  "
            ]
          },
          "metadata": {},
          "execution_count": 12
        }
      ]
    },
    {
      "cell_type": "code",
      "source": [
        "# Definisikan total biaya pengobatan sebagai biaya3 (biaya keseluruhan pengobatan pasien)\n",
        "df['total_biaya'] = df['biaya3']"
      ],
      "metadata": {
        "id": "2iYm5CXHUUQx"
      },
      "execution_count": null,
      "outputs": []
    },
    {
      "cell_type": "code",
      "source": [
        "df['rnmjasa'] = df['rnmjasa'].apply(lambda string : string.strip())\n",
        "df['rnmjasa'].unique()"
      ],
      "metadata": {
        "colab": {
          "base_uri": "https://localhost:8080/"
        },
        "id": "jiZXzTpjcNzQ",
        "outputId": "161f3752-4bac-47c6-cb74-5d55d4ae90f7"
      },
      "execution_count": null,
      "outputs": [
        {
          "output_type": "execute_result",
          "data": {
            "text/plain": [
              "array(['LUMBOSACRAL', 'CERVICAL', 'MRA 1 REGIO', 'KONTRAS I', 'KEPALA',\n",
              "       'WHOLE ABDOMEN', 'THORACAL', 'ANGIOGRAPHY PAKET I',\n",
              "       'ANGIOGRAPHY PAKET II', 'GENU', 'TINDAKAN ANASTESI', 'FEMUR',\n",
              "       'THORACO LUMBAL', 'SHOULDER', 'ABDOMEN + MRCP', 'CERVICO THORACAL',\n",
              "       'WHOLE SPINE', 'ABDOMEN ATAS', 'HIP / COXAE', 'PELVIC',\n",
              "       'GENU DEXTRA', 'GENU SINISTRA', 'TAMBAHAN FILM', 'FEMUR (MASKIN)',\n",
              "       'WRIST (MASKIN)', 'GENU (MASKIN)', 'MANUS', 'Oksigen', 'ANKLE',\n",
              "       'RADIOLOGI (KONSULTASI)', 'KEPALA CANGGIH', 'KONTRAS II', 'REVIEW',\n",
              "       'THORACO LUMBAL(MASKIN', 'MP KEPALA', 'HUMERUS', 'ADMINISTRASI',\n",
              "       'LUMBOSACRAL (MASKIN)', 'THORACOLUMBAL(MASKIN)',\n",
              "       'CERVICAL (MASKIN)', 'Pelvic', 'THORACAL (MASKIN)', 'Abdomen Atas',\n",
              "       'ABDOMEN + MRCP (MASKI', 'KONSULTASI RADIOLOGI', 'CRANIO CERVICAL',\n",
              "       'HUMERUS (MASKIN)', 'THORACOLUMBAL(JAMKESM', 'TRANSLATE',\n",
              "       'CRURIS (MASKIN)', 'CD', 'KEPALA+KONTRAS(MOU SOETOM',\n",
              "       'ANKLE (JAMKESMAS)', 'LUMBOSACRAL (MOU SOETOMO)',\n",
              "       'KEPALA (MOU SUTOMO)', 'CERVICAL (MOU SOETOMO)',\n",
              "       'CERVICOTHORACAL+KNTRS(MOU', 'THORACOLUMBAL+KONTRAS(MOU',\n",
              "       'THORACOLUMBAL(MOU-SOETOMO', 'KEPALA PAKET II',\n",
              "       'CERVICAL+KONTRAS(MOU SOET', 'CRURIS', 'ELBOW', 'ABDOMEN BAWAH',\n",
              "       'CRURIS DEXTRA', 'CRURIS SINISTRA', 'LUMBOSACRAL+KONTRAS(MOU S',\n",
              "       'SHOULDER (MASKIN)', 'BAHAN HABIS PAKAI', 'IV CATETER', 'WRIST',\n",
              "       'MIDAZOLAM', 'THORACAL (MOU SOETOMO)', 'FEMUR+KONTRAS (MOU SUTOMO',\n",
              "       'THORACAL+KONTRAS(MOU SUTO', 'CITO', 'PEDIS (MOU SOETOMO)',\n",
              "       'Pelvic (MOU SOETOMO)', 'FEMUR SINISTRA', 'FEMUR DEXTRA',\n",
              "       'GENU (MOU SOETOMO)'], dtype=object)"
            ]
          },
          "metadata": {},
          "execution_count": 14
        }
      ]
    },
    {
      "cell_type": "code",
      "source": [
        "import re\n",
        "\n",
        "kal = 'MRA 1 REGIO'\n",
        "kal_baru = re.sub(r'(WHOLE|SINISTRA|DEXTRA|PAKET\\sI{0,2}|CANGGIH|MP|ATAS|BAWAH|\\sI{0,2})','',kal)\n",
        "print(kal_baru)"
      ],
      "metadata": {
        "colab": {
          "base_uri": "https://localhost:8080/"
        },
        "id": "VaMeSQvZgxvW",
        "outputId": "cd84a1d9-4ff6-489d-f1b7-9146afb5a1c1"
      },
      "execution_count": null,
      "outputs": [
        {
          "output_type": "stream",
          "name": "stdout",
          "text": [
            "MRA1REGIO\n"
          ]
        }
      ]
    },
    {
      "cell_type": "code",
      "source": [
        "# Bersih-bersih string\n",
        "def layanan_cleaner(sentence):\n",
        "  # Membersihkan string layanan\n",
        "  sentence = sentence.upper()\n",
        "  sentence = re.sub(r'\\s*\\(\\w+(\\s|-)*\\w+\\)*','',sentence)\n",
        "  sentence = re.sub(r'(WHOLE|SINISTRA|DEXTRA|PAKET\\sI{0,2}|CANGGIH|MP|ATAS|BAWAH)','',sentence)\n",
        "  sentence = re.sub(r'\\s*\\+\\s*\\w+','',sentence)\n",
        "  sentence = sentence.strip()\n",
        "  return sentence"
      ],
      "metadata": {
        "id": "hYDnYnkrfq_x"
      },
      "execution_count": null,
      "outputs": []
    },
    {
      "cell_type": "code",
      "source": [
        "df['rnmjasa'] = df['rnmjasa'].apply(layanan_cleaner)\n",
        "df['rnmjasa'] = df['rnmjasa'].replace(['KONTRAS I','KONTRAS II'], 'KONTRAS')"
      ],
      "metadata": {
        "id": "_5r1QXpSkkyY"
      },
      "execution_count": null,
      "outputs": []
    },
    {
      "cell_type": "code",
      "source": [
        "len(df['rnmjasa'].unique())"
      ],
      "metadata": {
        "colab": {
          "base_uri": "https://localhost:8080/"
        },
        "id": "0-O1wMvNbdn4",
        "outputId": "d6f6df93-8246-445f-b53e-fc082bd97bb5"
      },
      "execution_count": null,
      "outputs": [
        {
          "output_type": "execute_result",
          "data": {
            "text/plain": [
              "39"
            ]
          },
          "metadata": {},
          "execution_count": 18
        }
      ]
    },
    {
      "cell_type": "code",
      "source": [
        "df['rnmjasa'].value_counts().to_frame()"
      ],
      "metadata": {
        "colab": {
          "base_uri": "https://localhost:8080/",
          "height": 1000
        },
        "id": "_yGi6TfWqQ3L",
        "outputId": "44816508-8f99-415a-e096-548165fb5737"
      },
      "execution_count": null,
      "outputs": [
        {
          "output_type": "execute_result",
          "data": {
            "text/plain": [
              "                      rnmjasa\n",
              "KEPALA                   1296\n",
              "LUMBOSACRAL               784\n",
              "KONTRAS                   739\n",
              "CERVICAL                  397\n",
              "ANGIOGRAPHY               341\n",
              "TINDAKAN ANASTESI         201\n",
              "TAMBAHAN FILM             141\n",
              "GENU                      123\n",
              "THORACO LUMBAL            119\n",
              "ABDOMEN                    92\n",
              "THORACAL                   65\n",
              "SHOULDER                   37\n",
              "PELVIC                     33\n",
              "THORACOLUMBAL              32\n",
              "CERVICO THORACAL           30\n",
              "OKSIGEN                    27\n",
              "ADMINISTRASI               20\n",
              "ANKLE                      18\n",
              "SPINE                      16\n",
              "FEMUR                      16\n",
              "REVIEW                     11\n",
              "HIP / COXAE                10\n",
              "CRURIS                      8\n",
              "CITO                        8\n",
              "CD                          8\n",
              "CRANIO CERVICAL             8\n",
              "BAHAN HABIS PAKAI           6\n",
              "RADIOLOGI                   6\n",
              "CERVICOTHORACAL             5\n",
              "MANUS                       4\n",
              "HUMERUS                     4\n",
              "KONSULTASI RADIOLOGI        3\n",
              "ELBOW                       3\n",
              "WRIST                       3\n",
              "TRANSLATE                   2\n",
              "MRA 1 REGIO                 2\n",
              "IV CATETER                  1\n",
              "MIDAZOLAM                   1\n",
              "PEDIS                       1"
            ],
            "text/html": [
              "\n",
              "  <div id=\"df-ccd90cff-5f40-4b36-9968-07cf02d26869\">\n",
              "    <div class=\"colab-df-container\">\n",
              "      <div>\n",
              "<style scoped>\n",
              "    .dataframe tbody tr th:only-of-type {\n",
              "        vertical-align: middle;\n",
              "    }\n",
              "\n",
              "    .dataframe tbody tr th {\n",
              "        vertical-align: top;\n",
              "    }\n",
              "\n",
              "    .dataframe thead th {\n",
              "        text-align: right;\n",
              "    }\n",
              "</style>\n",
              "<table border=\"1\" class=\"dataframe\">\n",
              "  <thead>\n",
              "    <tr style=\"text-align: right;\">\n",
              "      <th></th>\n",
              "      <th>rnmjasa</th>\n",
              "    </tr>\n",
              "  </thead>\n",
              "  <tbody>\n",
              "    <tr>\n",
              "      <th>KEPALA</th>\n",
              "      <td>1296</td>\n",
              "    </tr>\n",
              "    <tr>\n",
              "      <th>LUMBOSACRAL</th>\n",
              "      <td>784</td>\n",
              "    </tr>\n",
              "    <tr>\n",
              "      <th>KONTRAS</th>\n",
              "      <td>739</td>\n",
              "    </tr>\n",
              "    <tr>\n",
              "      <th>CERVICAL</th>\n",
              "      <td>397</td>\n",
              "    </tr>\n",
              "    <tr>\n",
              "      <th>ANGIOGRAPHY</th>\n",
              "      <td>341</td>\n",
              "    </tr>\n",
              "    <tr>\n",
              "      <th>TINDAKAN ANASTESI</th>\n",
              "      <td>201</td>\n",
              "    </tr>\n",
              "    <tr>\n",
              "      <th>TAMBAHAN FILM</th>\n",
              "      <td>141</td>\n",
              "    </tr>\n",
              "    <tr>\n",
              "      <th>GENU</th>\n",
              "      <td>123</td>\n",
              "    </tr>\n",
              "    <tr>\n",
              "      <th>THORACO LUMBAL</th>\n",
              "      <td>119</td>\n",
              "    </tr>\n",
              "    <tr>\n",
              "      <th>ABDOMEN</th>\n",
              "      <td>92</td>\n",
              "    </tr>\n",
              "    <tr>\n",
              "      <th>THORACAL</th>\n",
              "      <td>65</td>\n",
              "    </tr>\n",
              "    <tr>\n",
              "      <th>SHOULDER</th>\n",
              "      <td>37</td>\n",
              "    </tr>\n",
              "    <tr>\n",
              "      <th>PELVIC</th>\n",
              "      <td>33</td>\n",
              "    </tr>\n",
              "    <tr>\n",
              "      <th>THORACOLUMBAL</th>\n",
              "      <td>32</td>\n",
              "    </tr>\n",
              "    <tr>\n",
              "      <th>CERVICO THORACAL</th>\n",
              "      <td>30</td>\n",
              "    </tr>\n",
              "    <tr>\n",
              "      <th>OKSIGEN</th>\n",
              "      <td>27</td>\n",
              "    </tr>\n",
              "    <tr>\n",
              "      <th>ADMINISTRASI</th>\n",
              "      <td>20</td>\n",
              "    </tr>\n",
              "    <tr>\n",
              "      <th>ANKLE</th>\n",
              "      <td>18</td>\n",
              "    </tr>\n",
              "    <tr>\n",
              "      <th>SPINE</th>\n",
              "      <td>16</td>\n",
              "    </tr>\n",
              "    <tr>\n",
              "      <th>FEMUR</th>\n",
              "      <td>16</td>\n",
              "    </tr>\n",
              "    <tr>\n",
              "      <th>REVIEW</th>\n",
              "      <td>11</td>\n",
              "    </tr>\n",
              "    <tr>\n",
              "      <th>HIP / COXAE</th>\n",
              "      <td>10</td>\n",
              "    </tr>\n",
              "    <tr>\n",
              "      <th>CRURIS</th>\n",
              "      <td>8</td>\n",
              "    </tr>\n",
              "    <tr>\n",
              "      <th>CITO</th>\n",
              "      <td>8</td>\n",
              "    </tr>\n",
              "    <tr>\n",
              "      <th>CD</th>\n",
              "      <td>8</td>\n",
              "    </tr>\n",
              "    <tr>\n",
              "      <th>CRANIO CERVICAL</th>\n",
              "      <td>8</td>\n",
              "    </tr>\n",
              "    <tr>\n",
              "      <th>BAHAN HABIS PAKAI</th>\n",
              "      <td>6</td>\n",
              "    </tr>\n",
              "    <tr>\n",
              "      <th>RADIOLOGI</th>\n",
              "      <td>6</td>\n",
              "    </tr>\n",
              "    <tr>\n",
              "      <th>CERVICOTHORACAL</th>\n",
              "      <td>5</td>\n",
              "    </tr>\n",
              "    <tr>\n",
              "      <th>MANUS</th>\n",
              "      <td>4</td>\n",
              "    </tr>\n",
              "    <tr>\n",
              "      <th>HUMERUS</th>\n",
              "      <td>4</td>\n",
              "    </tr>\n",
              "    <tr>\n",
              "      <th>KONSULTASI RADIOLOGI</th>\n",
              "      <td>3</td>\n",
              "    </tr>\n",
              "    <tr>\n",
              "      <th>ELBOW</th>\n",
              "      <td>3</td>\n",
              "    </tr>\n",
              "    <tr>\n",
              "      <th>WRIST</th>\n",
              "      <td>3</td>\n",
              "    </tr>\n",
              "    <tr>\n",
              "      <th>TRANSLATE</th>\n",
              "      <td>2</td>\n",
              "    </tr>\n",
              "    <tr>\n",
              "      <th>MRA 1 REGIO</th>\n",
              "      <td>2</td>\n",
              "    </tr>\n",
              "    <tr>\n",
              "      <th>IV CATETER</th>\n",
              "      <td>1</td>\n",
              "    </tr>\n",
              "    <tr>\n",
              "      <th>MIDAZOLAM</th>\n",
              "      <td>1</td>\n",
              "    </tr>\n",
              "    <tr>\n",
              "      <th>PEDIS</th>\n",
              "      <td>1</td>\n",
              "    </tr>\n",
              "  </tbody>\n",
              "</table>\n",
              "</div>\n",
              "      <button class=\"colab-df-convert\" onclick=\"convertToInteractive('df-ccd90cff-5f40-4b36-9968-07cf02d26869')\"\n",
              "              title=\"Convert this dataframe to an interactive table.\"\n",
              "              style=\"display:none;\">\n",
              "        \n",
              "  <svg xmlns=\"http://www.w3.org/2000/svg\" height=\"24px\"viewBox=\"0 0 24 24\"\n",
              "       width=\"24px\">\n",
              "    <path d=\"M0 0h24v24H0V0z\" fill=\"none\"/>\n",
              "    <path d=\"M18.56 5.44l.94 2.06.94-2.06 2.06-.94-2.06-.94-.94-2.06-.94 2.06-2.06.94zm-11 1L8.5 8.5l.94-2.06 2.06-.94-2.06-.94L8.5 2.5l-.94 2.06-2.06.94zm10 10l.94 2.06.94-2.06 2.06-.94-2.06-.94-.94-2.06-.94 2.06-2.06.94z\"/><path d=\"M17.41 7.96l-1.37-1.37c-.4-.4-.92-.59-1.43-.59-.52 0-1.04.2-1.43.59L10.3 9.45l-7.72 7.72c-.78.78-.78 2.05 0 2.83L4 21.41c.39.39.9.59 1.41.59.51 0 1.02-.2 1.41-.59l7.78-7.78 2.81-2.81c.8-.78.8-2.07 0-2.86zM5.41 20L4 18.59l7.72-7.72 1.47 1.35L5.41 20z\"/>\n",
              "  </svg>\n",
              "      </button>\n",
              "      \n",
              "  <style>\n",
              "    .colab-df-container {\n",
              "      display:flex;\n",
              "      flex-wrap:wrap;\n",
              "      gap: 12px;\n",
              "    }\n",
              "\n",
              "    .colab-df-convert {\n",
              "      background-color: #E8F0FE;\n",
              "      border: none;\n",
              "      border-radius: 50%;\n",
              "      cursor: pointer;\n",
              "      display: none;\n",
              "      fill: #1967D2;\n",
              "      height: 32px;\n",
              "      padding: 0 0 0 0;\n",
              "      width: 32px;\n",
              "    }\n",
              "\n",
              "    .colab-df-convert:hover {\n",
              "      background-color: #E2EBFA;\n",
              "      box-shadow: 0px 1px 2px rgba(60, 64, 67, 0.3), 0px 1px 3px 1px rgba(60, 64, 67, 0.15);\n",
              "      fill: #174EA6;\n",
              "    }\n",
              "\n",
              "    [theme=dark] .colab-df-convert {\n",
              "      background-color: #3B4455;\n",
              "      fill: #D2E3FC;\n",
              "    }\n",
              "\n",
              "    [theme=dark] .colab-df-convert:hover {\n",
              "      background-color: #434B5C;\n",
              "      box-shadow: 0px 1px 3px 1px rgba(0, 0, 0, 0.15);\n",
              "      filter: drop-shadow(0px 1px 2px rgba(0, 0, 0, 0.3));\n",
              "      fill: #FFFFFF;\n",
              "    }\n",
              "  </style>\n",
              "\n",
              "      <script>\n",
              "        const buttonEl =\n",
              "          document.querySelector('#df-ccd90cff-5f40-4b36-9968-07cf02d26869 button.colab-df-convert');\n",
              "        buttonEl.style.display =\n",
              "          google.colab.kernel.accessAllowed ? 'block' : 'none';\n",
              "\n",
              "        async function convertToInteractive(key) {\n",
              "          const element = document.querySelector('#df-ccd90cff-5f40-4b36-9968-07cf02d26869');\n",
              "          const dataTable =\n",
              "            await google.colab.kernel.invokeFunction('convertToInteractive',\n",
              "                                                     [key], {});\n",
              "          if (!dataTable) return;\n",
              "\n",
              "          const docLinkHtml = 'Like what you see? Visit the ' +\n",
              "            '<a target=\"_blank\" href=https://colab.research.google.com/notebooks/data_table.ipynb>data table notebook</a>'\n",
              "            + ' to learn more about interactive tables.';\n",
              "          element.innerHTML = '';\n",
              "          dataTable['output_type'] = 'display_data';\n",
              "          await google.colab.output.renderOutput(dataTable, element);\n",
              "          const docLink = document.createElement('div');\n",
              "          docLink.innerHTML = docLinkHtml;\n",
              "          element.appendChild(docLink);\n",
              "        }\n",
              "      </script>\n",
              "    </div>\n",
              "  </div>\n",
              "  "
            ]
          },
          "metadata": {},
          "execution_count": 19
        }
      ]
    },
    {
      "cell_type": "code",
      "source": [
        "def biaya_rata_rata(kategori):\n",
        "  # Subset data\n",
        "  kategori_df = df[df['rnmjasa'] == kategori]\n",
        "\n",
        "  # Group by berdasarkan umur\n",
        "  kategori_umur_df = kategori_df.groupby(['selang_umur'])['total_biaya'].mean()\n",
        "\n",
        "  # Print hasilnya\n",
        "  return kategori_umur_df.to_frame()\n",
        "\n",
        "biaya_rata_rata('KEPALA').index"
      ],
      "metadata": {
        "colab": {
          "base_uri": "https://localhost:8080/"
        },
        "id": "-IpQM59SJFRQ",
        "outputId": "21c159fb-29dd-40b0-ea56-6efbdc4c6af4"
      },
      "execution_count": null,
      "outputs": [
        {
          "output_type": "execute_result",
          "data": {
            "text/plain": [
              "CategoricalIndex([(-0.001, 14.0],   (14.0, 27.0],   (27.0, 36.0],\n",
              "                    (36.0, 43.0],   (43.0, 48.0],   (48.0, 53.0],\n",
              "                    (53.0, 57.0],   (57.0, 62.0],   (62.0, 69.0],\n",
              "                    (69.0, 91.0]],\n",
              "                 categories=[(-0.001, 14.0], (14.0, 27.0], (27.0, 36.0], (36.0, 43.0], (43.0, 48.0], (48.0, 53.0], (53.0, 57.0], (57.0, 62.0], ...], ordered=True, dtype='category', name='selang_umur')"
            ]
          },
          "metadata": {},
          "execution_count": 20
        }
      ]
    },
    {
      "cell_type": "markdown",
      "source": [
        "## Premi\n",
        "\n",
        "Pada bagian ini, akan ditentukan besar premi untuk setiap pasiennya. Pada bagian premi level akan ditampilkan visualisasi biaya premi beserta biaya pasien dari sampel yang diambil dari data tersebut dengan usia yang berbeda antar pasiennya"
      ],
      "metadata": {
        "id": "q2v3w52PXCeV"
      }
    },
    {
      "cell_type": "markdown",
      "source": [
        "### Perhitungan premi tanpa menggunakan produk asuransi tertentu\n",
        "\n",
        "Kasus 1 adalah jika perhitungan premi murni menggunakan informasi dari datanya, yakni menggunakan rumus premi alami\n",
        "\n",
        "$\\Pi_x = \\overline{n}_x \\overline{y}_x (1+i)^{-1/2}$ (Untuk kasus 1.1, 1.2)\n",
        "\n",
        "$\\Pi_x = \\overline{n}_x y_x (1+i)^{-1/2}$ (Untuk kasus 1.3)\n",
        "\n",
        "dengan :   \n",
        "\n",
        "*   $\\Pi_x$ : Besar premi alami untuk pasien ke-$x$\n",
        "*   $\\overline{n}_x$ : Rata-rata jumlah klaim/tagihan pasien ke-$x$ di selang umurnya\n",
        "*   $\\overline{y}_x$ : Rata-rata besar biaya klaim/tagihan pasien ke-$x$ di selang umurnya\n",
        "* $y_x$ : Besar biaya klaim/tagihan pasien ke-$x$\n",
        "* $i$ : Besar suku bunga dalam 1 tahun (Asumsi $i = 8.27%$)\n",
        "\n",
        "Premi level adalah nilai rataan dari premi alami berdasarkan selang yang telah ditentukan\n"
      ],
      "metadata": {
        "id": "gfHYUhzip2yC"
      }
    },
    {
      "cell_type": "markdown",
      "source": [
        "#### Premi Hitung\n",
        "\n",
        "Dalam hal ini digunakan rumus yang kedua pada deskripsi premi di atas"
      ],
      "metadata": {
        "id": "VznPDgdxsPXR"
      }
    },
    {
      "cell_type": "code",
      "source": [
        "df['rnmjasa'].value_counts().to_frame().sort_values(by = 'rnmjasa').reset_index()"
      ],
      "metadata": {
        "id": "C43l5IO_qEBb",
        "outputId": "d45de6df-2894-4c88-97ca-d33fe57d83d3",
        "colab": {
          "base_uri": "https://localhost:8080/",
          "height": 1000
        }
      },
      "execution_count": null,
      "outputs": [
        {
          "output_type": "execute_result",
          "data": {
            "text/plain": [
              "                   index  rnmjasa\n",
              "0                  PEDIS        1\n",
              "1              MIDAZOLAM        1\n",
              "2             IV CATETER        1\n",
              "3            MRA 1 REGIO        2\n",
              "4              TRANSLATE        2\n",
              "5                  WRIST        3\n",
              "6                  ELBOW        3\n",
              "7   KONSULTASI RADIOLOGI        3\n",
              "8                HUMERUS        4\n",
              "9                  MANUS        4\n",
              "10       CERVICOTHORACAL        5\n",
              "11     BAHAN HABIS PAKAI        6\n",
              "12             RADIOLOGI        6\n",
              "13       CRANIO CERVICAL        8\n",
              "14                    CD        8\n",
              "15                  CITO        8\n",
              "16                CRURIS        8\n",
              "17           HIP / COXAE       10\n",
              "18                REVIEW       11\n",
              "19                 FEMUR       16\n",
              "20                 SPINE       16\n",
              "21                 ANKLE       18\n",
              "22          ADMINISTRASI       20\n",
              "23               OKSIGEN       27\n",
              "24      CERVICO THORACAL       30\n",
              "25         THORACOLUMBAL       32\n",
              "26                PELVIC       33\n",
              "27              SHOULDER       37\n",
              "28              THORACAL       65\n",
              "29               ABDOMEN       92\n",
              "30        THORACO LUMBAL      119\n",
              "31                  GENU      123\n",
              "32         TAMBAHAN FILM      141\n",
              "33     TINDAKAN ANASTESI      201\n",
              "34           ANGIOGRAPHY      341\n",
              "35              CERVICAL      397\n",
              "36               KONTRAS      739\n",
              "37           LUMBOSACRAL      784\n",
              "38                KEPALA     1296"
            ],
            "text/html": [
              "\n",
              "  <div id=\"df-6b7bb06c-def3-4749-96bf-3ff278fa7d72\">\n",
              "    <div class=\"colab-df-container\">\n",
              "      <div>\n",
              "<style scoped>\n",
              "    .dataframe tbody tr th:only-of-type {\n",
              "        vertical-align: middle;\n",
              "    }\n",
              "\n",
              "    .dataframe tbody tr th {\n",
              "        vertical-align: top;\n",
              "    }\n",
              "\n",
              "    .dataframe thead th {\n",
              "        text-align: right;\n",
              "    }\n",
              "</style>\n",
              "<table border=\"1\" class=\"dataframe\">\n",
              "  <thead>\n",
              "    <tr style=\"text-align: right;\">\n",
              "      <th></th>\n",
              "      <th>index</th>\n",
              "      <th>rnmjasa</th>\n",
              "    </tr>\n",
              "  </thead>\n",
              "  <tbody>\n",
              "    <tr>\n",
              "      <th>0</th>\n",
              "      <td>PEDIS</td>\n",
              "      <td>1</td>\n",
              "    </tr>\n",
              "    <tr>\n",
              "      <th>1</th>\n",
              "      <td>MIDAZOLAM</td>\n",
              "      <td>1</td>\n",
              "    </tr>\n",
              "    <tr>\n",
              "      <th>2</th>\n",
              "      <td>IV CATETER</td>\n",
              "      <td>1</td>\n",
              "    </tr>\n",
              "    <tr>\n",
              "      <th>3</th>\n",
              "      <td>MRA 1 REGIO</td>\n",
              "      <td>2</td>\n",
              "    </tr>\n",
              "    <tr>\n",
              "      <th>4</th>\n",
              "      <td>TRANSLATE</td>\n",
              "      <td>2</td>\n",
              "    </tr>\n",
              "    <tr>\n",
              "      <th>5</th>\n",
              "      <td>WRIST</td>\n",
              "      <td>3</td>\n",
              "    </tr>\n",
              "    <tr>\n",
              "      <th>6</th>\n",
              "      <td>ELBOW</td>\n",
              "      <td>3</td>\n",
              "    </tr>\n",
              "    <tr>\n",
              "      <th>7</th>\n",
              "      <td>KONSULTASI RADIOLOGI</td>\n",
              "      <td>3</td>\n",
              "    </tr>\n",
              "    <tr>\n",
              "      <th>8</th>\n",
              "      <td>HUMERUS</td>\n",
              "      <td>4</td>\n",
              "    </tr>\n",
              "    <tr>\n",
              "      <th>9</th>\n",
              "      <td>MANUS</td>\n",
              "      <td>4</td>\n",
              "    </tr>\n",
              "    <tr>\n",
              "      <th>10</th>\n",
              "      <td>CERVICOTHORACAL</td>\n",
              "      <td>5</td>\n",
              "    </tr>\n",
              "    <tr>\n",
              "      <th>11</th>\n",
              "      <td>BAHAN HABIS PAKAI</td>\n",
              "      <td>6</td>\n",
              "    </tr>\n",
              "    <tr>\n",
              "      <th>12</th>\n",
              "      <td>RADIOLOGI</td>\n",
              "      <td>6</td>\n",
              "    </tr>\n",
              "    <tr>\n",
              "      <th>13</th>\n",
              "      <td>CRANIO CERVICAL</td>\n",
              "      <td>8</td>\n",
              "    </tr>\n",
              "    <tr>\n",
              "      <th>14</th>\n",
              "      <td>CD</td>\n",
              "      <td>8</td>\n",
              "    </tr>\n",
              "    <tr>\n",
              "      <th>15</th>\n",
              "      <td>CITO</td>\n",
              "      <td>8</td>\n",
              "    </tr>\n",
              "    <tr>\n",
              "      <th>16</th>\n",
              "      <td>CRURIS</td>\n",
              "      <td>8</td>\n",
              "    </tr>\n",
              "    <tr>\n",
              "      <th>17</th>\n",
              "      <td>HIP / COXAE</td>\n",
              "      <td>10</td>\n",
              "    </tr>\n",
              "    <tr>\n",
              "      <th>18</th>\n",
              "      <td>REVIEW</td>\n",
              "      <td>11</td>\n",
              "    </tr>\n",
              "    <tr>\n",
              "      <th>19</th>\n",
              "      <td>FEMUR</td>\n",
              "      <td>16</td>\n",
              "    </tr>\n",
              "    <tr>\n",
              "      <th>20</th>\n",
              "      <td>SPINE</td>\n",
              "      <td>16</td>\n",
              "    </tr>\n",
              "    <tr>\n",
              "      <th>21</th>\n",
              "      <td>ANKLE</td>\n",
              "      <td>18</td>\n",
              "    </tr>\n",
              "    <tr>\n",
              "      <th>22</th>\n",
              "      <td>ADMINISTRASI</td>\n",
              "      <td>20</td>\n",
              "    </tr>\n",
              "    <tr>\n",
              "      <th>23</th>\n",
              "      <td>OKSIGEN</td>\n",
              "      <td>27</td>\n",
              "    </tr>\n",
              "    <tr>\n",
              "      <th>24</th>\n",
              "      <td>CERVICO THORACAL</td>\n",
              "      <td>30</td>\n",
              "    </tr>\n",
              "    <tr>\n",
              "      <th>25</th>\n",
              "      <td>THORACOLUMBAL</td>\n",
              "      <td>32</td>\n",
              "    </tr>\n",
              "    <tr>\n",
              "      <th>26</th>\n",
              "      <td>PELVIC</td>\n",
              "      <td>33</td>\n",
              "    </tr>\n",
              "    <tr>\n",
              "      <th>27</th>\n",
              "      <td>SHOULDER</td>\n",
              "      <td>37</td>\n",
              "    </tr>\n",
              "    <tr>\n",
              "      <th>28</th>\n",
              "      <td>THORACAL</td>\n",
              "      <td>65</td>\n",
              "    </tr>\n",
              "    <tr>\n",
              "      <th>29</th>\n",
              "      <td>ABDOMEN</td>\n",
              "      <td>92</td>\n",
              "    </tr>\n",
              "    <tr>\n",
              "      <th>30</th>\n",
              "      <td>THORACO LUMBAL</td>\n",
              "      <td>119</td>\n",
              "    </tr>\n",
              "    <tr>\n",
              "      <th>31</th>\n",
              "      <td>GENU</td>\n",
              "      <td>123</td>\n",
              "    </tr>\n",
              "    <tr>\n",
              "      <th>32</th>\n",
              "      <td>TAMBAHAN FILM</td>\n",
              "      <td>141</td>\n",
              "    </tr>\n",
              "    <tr>\n",
              "      <th>33</th>\n",
              "      <td>TINDAKAN ANASTESI</td>\n",
              "      <td>201</td>\n",
              "    </tr>\n",
              "    <tr>\n",
              "      <th>34</th>\n",
              "      <td>ANGIOGRAPHY</td>\n",
              "      <td>341</td>\n",
              "    </tr>\n",
              "    <tr>\n",
              "      <th>35</th>\n",
              "      <td>CERVICAL</td>\n",
              "      <td>397</td>\n",
              "    </tr>\n",
              "    <tr>\n",
              "      <th>36</th>\n",
              "      <td>KONTRAS</td>\n",
              "      <td>739</td>\n",
              "    </tr>\n",
              "    <tr>\n",
              "      <th>37</th>\n",
              "      <td>LUMBOSACRAL</td>\n",
              "      <td>784</td>\n",
              "    </tr>\n",
              "    <tr>\n",
              "      <th>38</th>\n",
              "      <td>KEPALA</td>\n",
              "      <td>1296</td>\n",
              "    </tr>\n",
              "  </tbody>\n",
              "</table>\n",
              "</div>\n",
              "      <button class=\"colab-df-convert\" onclick=\"convertToInteractive('df-6b7bb06c-def3-4749-96bf-3ff278fa7d72')\"\n",
              "              title=\"Convert this dataframe to an interactive table.\"\n",
              "              style=\"display:none;\">\n",
              "        \n",
              "  <svg xmlns=\"http://www.w3.org/2000/svg\" height=\"24px\"viewBox=\"0 0 24 24\"\n",
              "       width=\"24px\">\n",
              "    <path d=\"M0 0h24v24H0V0z\" fill=\"none\"/>\n",
              "    <path d=\"M18.56 5.44l.94 2.06.94-2.06 2.06-.94-2.06-.94-.94-2.06-.94 2.06-2.06.94zm-11 1L8.5 8.5l.94-2.06 2.06-.94-2.06-.94L8.5 2.5l-.94 2.06-2.06.94zm10 10l.94 2.06.94-2.06 2.06-.94-2.06-.94-.94-2.06-.94 2.06-2.06.94z\"/><path d=\"M17.41 7.96l-1.37-1.37c-.4-.4-.92-.59-1.43-.59-.52 0-1.04.2-1.43.59L10.3 9.45l-7.72 7.72c-.78.78-.78 2.05 0 2.83L4 21.41c.39.39.9.59 1.41.59.51 0 1.02-.2 1.41-.59l7.78-7.78 2.81-2.81c.8-.78.8-2.07 0-2.86zM5.41 20L4 18.59l7.72-7.72 1.47 1.35L5.41 20z\"/>\n",
              "  </svg>\n",
              "      </button>\n",
              "      \n",
              "  <style>\n",
              "    .colab-df-container {\n",
              "      display:flex;\n",
              "      flex-wrap:wrap;\n",
              "      gap: 12px;\n",
              "    }\n",
              "\n",
              "    .colab-df-convert {\n",
              "      background-color: #E8F0FE;\n",
              "      border: none;\n",
              "      border-radius: 50%;\n",
              "      cursor: pointer;\n",
              "      display: none;\n",
              "      fill: #1967D2;\n",
              "      height: 32px;\n",
              "      padding: 0 0 0 0;\n",
              "      width: 32px;\n",
              "    }\n",
              "\n",
              "    .colab-df-convert:hover {\n",
              "      background-color: #E2EBFA;\n",
              "      box-shadow: 0px 1px 2px rgba(60, 64, 67, 0.3), 0px 1px 3px 1px rgba(60, 64, 67, 0.15);\n",
              "      fill: #174EA6;\n",
              "    }\n",
              "\n",
              "    [theme=dark] .colab-df-convert {\n",
              "      background-color: #3B4455;\n",
              "      fill: #D2E3FC;\n",
              "    }\n",
              "\n",
              "    [theme=dark] .colab-df-convert:hover {\n",
              "      background-color: #434B5C;\n",
              "      box-shadow: 0px 1px 3px 1px rgba(0, 0, 0, 0.15);\n",
              "      filter: drop-shadow(0px 1px 2px rgba(0, 0, 0, 0.3));\n",
              "      fill: #FFFFFF;\n",
              "    }\n",
              "  </style>\n",
              "\n",
              "      <script>\n",
              "        const buttonEl =\n",
              "          document.querySelector('#df-6b7bb06c-def3-4749-96bf-3ff278fa7d72 button.colab-df-convert');\n",
              "        buttonEl.style.display =\n",
              "          google.colab.kernel.accessAllowed ? 'block' : 'none';\n",
              "\n",
              "        async function convertToInteractive(key) {\n",
              "          const element = document.querySelector('#df-6b7bb06c-def3-4749-96bf-3ff278fa7d72');\n",
              "          const dataTable =\n",
              "            await google.colab.kernel.invokeFunction('convertToInteractive',\n",
              "                                                     [key], {});\n",
              "          if (!dataTable) return;\n",
              "\n",
              "          const docLinkHtml = 'Like what you see? Visit the ' +\n",
              "            '<a target=\"_blank\" href=https://colab.research.google.com/notebooks/data_table.ipynb>data table notebook</a>'\n",
              "            + ' to learn more about interactive tables.';\n",
              "          element.innerHTML = '';\n",
              "          dataTable['output_type'] = 'display_data';\n",
              "          await google.colab.output.renderOutput(dataTable, element);\n",
              "          const docLink = document.createElement('div');\n",
              "          docLink.innerHTML = docLinkHtml;\n",
              "          element.appendChild(docLink);\n",
              "        }\n",
              "      </script>\n",
              "    </div>\n",
              "  </div>\n",
              "  "
            ]
          },
          "metadata": {},
          "execution_count": 26
        }
      ]
    },
    {
      "cell_type": "code",
      "source": [
        "class premi_pasien:\n",
        "  def __init__(self, nama, usia, layanan, biaya_pengobatan, kasus):\n",
        "    self.nama = nama\n",
        "    self.usia = usia\n",
        "    self.layanan = layanan\n",
        "    self.biaya_pengobatan = biaya_pengobatan\n",
        "    self.kasus = kasus\n",
        "    \n",
        "    # Subset data\n",
        "    data = df[df['rnmjasa'] == self.layanan]\n",
        "\n",
        "    # Group by Total Biaya\n",
        "    df1 = data.groupby(['selang_umur'])['total_biaya'].agg('mean')\n",
        "    dict_besar_klaim = df1.to_dict()\n",
        "    \n",
        "    data['besar_klaim_per_segmen'] = data['selang_umur'].map(dict_besar_klaim).astype('float64')\n",
        "\n",
        "    if self.kasus == 'KASUS 1.1':\n",
        "      data['jumlah_klaim'] = data['total_biaya']//data['rfee']\n",
        "\n",
        "      # Segmentasi jumlah klaim berdasarkan selang umur\n",
        "      df2 = data.groupby(['selang_umur'])['jumlah_klaim'].agg('mean')\n",
        "      dict_jumlah_klaim = df2.to_dict()\n",
        "      data['jumlah_klaim_per_segmen'] = data['selang_umur'].map(dict_jumlah_klaim).astype('float64')\n",
        "\n",
        "      data['natural_premium'] = data['besar_klaim_per_segmen']*data['jumlah_klaim_per_segmen']*(1+(8.17/100))**(-1/2)\n",
        "\n",
        "    elif self.kasus == 'KASUS 1.2':\n",
        "      # Buat fitur baru\n",
        "      data['jumlah_klaim'] = 0\n",
        "\n",
        "      # Tentukan jumlah klaim berdasarkan asumsi tersebut\n",
        "      for i in range(len(df)):\n",
        "        if data['biaya'][i] == data['rfee'][i]:\n",
        "          data['jumlah_klaim'][i] = 1\n",
        "        else:\n",
        "          data['jumlah_klaim'][i] = 2    \n",
        "\n",
        "       # Segmentasi jumlah klaim berdasarkan selang umur\n",
        "      df2 = data.groupby(['selang_umur'])['jumlah_klaim'].agg('mean')\n",
        "      dict_jumlah_klaim = df2.to_dict()\n",
        "      data['jumlah_klaim_per_segmen'] = data['selang_umur'].map(dict_jumlah_klaim).astype('float64')\n",
        "      data['natural_premium'] = data['besar_klaim_per_segmen']*data['jumlah_klaim_per_segmen']*(1+(8.17/100))**(-1/2)\n",
        "    \n",
        "    elif self.kasus == 'KASUS 1.3':\n",
        "      data['natural_premium'] = 2*data['total_biaya']*(1+(8.17/100))**(-1/2)\n",
        "\n",
        "    else :\n",
        "      raise TypeError(\"Pilih kasus berdasarkan pilihan : KASUS 1.1, KASUS 1.2, KASUS 1.3\")\n",
        "\n",
        "    data['selisih_klaim_premi'] = data['natural_premium'] - data['total_biaya']\n",
        "    data['persentase_selisih'] = data['selisih_klaim_premi']/data['total_biaya']*100\n",
        "\n",
        "    # Definisikan premi level\n",
        "    df3 = data.groupby(['selang_umur'])['natural_premium'].agg('mean')\n",
        "    dict_premi_level = df3.to_dict()\n",
        "    data['level_premium'] = data['selang_umur'].map(dict_premi_level).astype('float64')\n",
        "\n",
        "    self.data = data\n",
        "    self.df3 = df3\n",
        "\n",
        "  def introduksi_pasien(self):\n",
        "    # Perkenalan pasien\n",
        "    kalimat = \"Pasien bernama {0}, berusia {1} dan berobat di klinik MRI untuk pelayanan {2} dengan biaya pengobatan Rp{3}\".format(self.nama, self.usia,\n",
        "                                                                                                                   self.layanan, self.biaya_pengobatan)\n",
        "    return kalimat\n",
        "\n",
        "  def premi_yang_dibayarkan(self):\n",
        "    i = 0\n",
        "    while self.usia not in self.df3.index[i]:\n",
        "      i += 1\n",
        "    \n",
        "    if self.usia in self.df3.index[i]:\n",
        "      premi_level = self.df3[self.df3.index[i]]\n",
        "\n",
        "    kalimat = \"Asumsi pembayaran premi mengikuti {0}, untuk biaya pengobatan Rp{1}, {2} harus membayar premi sebesar Rp{3}\".format(self.kasus, self.biaya_pengobatan, self.nama, round(premi_level))\n",
        "    return kalimat\n",
        "  \n",
        "  def dinamika_premi(self):\n",
        "    # Buat plot premi terhadap total biaya pasien untuk kategori tertentu\n",
        "    umur_klaim2 = self.data[['umur','total_biaya','besar_klaim_per_segmen','natural_premium','level_premium']].drop_duplicates(subset = ['umur']).sort_values(by=['umur'], ascending = True)\n",
        "    plt.plot(umur_klaim2['umur'], umur_klaim2['total_biaya'], label = 'Jumlah Biaya')\n",
        "    plt.plot(umur_klaim2['umur'], umur_klaim2['level_premium'], color = 'black', linestyle = '--', label = 'Premi Level')\n",
        "    plt.plot(umur_klaim2['umur'], umur_klaim2['natural_premium'], label = 'Premi Alami')\n",
        "    plt.title('Besar klaim dan premi yang ditanggung pasien {}'.format(self.layanan), fontsize = 12)\n",
        "    plt.xlabel('usia')\n",
        "    plt.ylabel('besar biaya (puluhan juta rupiah)')\n",
        "    plt.legend()\n",
        "    plt.show()"
      ],
      "metadata": {
        "id": "i-tSQV76HCOa"
      },
      "execution_count": null,
      "outputs": []
    },
    {
      "cell_type": "code",
      "source": [
        "pasien_1 = premi_pasien(\"Andika\",30,\"LUMBOSACRAL\",3000000,\"KASUS 1.3\")"
      ],
      "metadata": {
        "colab": {
          "base_uri": "https://localhost:8080/"
        },
        "id": "_vpPvk5NLY13",
        "outputId": "80fee396-2e20-4247-ccf1-d2a3b469493f"
      },
      "execution_count": null,
      "outputs": [
        {
          "output_type": "stream",
          "name": "stderr",
          "text": [
            "/usr/local/lib/python3.7/dist-packages/ipykernel_launcher.py:16: SettingWithCopyWarning: \n",
            "A value is trying to be set on a copy of a slice from a DataFrame.\n",
            "Try using .loc[row_indexer,col_indexer] = value instead\n",
            "\n",
            "See the caveats in the documentation: https://pandas.pydata.org/pandas-docs/stable/user_guide/indexing.html#returning-a-view-versus-a-copy\n",
            "  app.launch_new_instance()\n",
            "/usr/local/lib/python3.7/dist-packages/ipykernel_launcher.py:46: SettingWithCopyWarning: \n",
            "A value is trying to be set on a copy of a slice from a DataFrame.\n",
            "Try using .loc[row_indexer,col_indexer] = value instead\n",
            "\n",
            "See the caveats in the documentation: https://pandas.pydata.org/pandas-docs/stable/user_guide/indexing.html#returning-a-view-versus-a-copy\n",
            "/usr/local/lib/python3.7/dist-packages/ipykernel_launcher.py:51: SettingWithCopyWarning: \n",
            "A value is trying to be set on a copy of a slice from a DataFrame.\n",
            "Try using .loc[row_indexer,col_indexer] = value instead\n",
            "\n",
            "See the caveats in the documentation: https://pandas.pydata.org/pandas-docs/stable/user_guide/indexing.html#returning-a-view-versus-a-copy\n",
            "/usr/local/lib/python3.7/dist-packages/ipykernel_launcher.py:52: SettingWithCopyWarning: \n",
            "A value is trying to be set on a copy of a slice from a DataFrame.\n",
            "Try using .loc[row_indexer,col_indexer] = value instead\n",
            "\n",
            "See the caveats in the documentation: https://pandas.pydata.org/pandas-docs/stable/user_guide/indexing.html#returning-a-view-versus-a-copy\n",
            "/usr/local/lib/python3.7/dist-packages/ipykernel_launcher.py:57: SettingWithCopyWarning: \n",
            "A value is trying to be set on a copy of a slice from a DataFrame.\n",
            "Try using .loc[row_indexer,col_indexer] = value instead\n",
            "\n",
            "See the caveats in the documentation: https://pandas.pydata.org/pandas-docs/stable/user_guide/indexing.html#returning-a-view-versus-a-copy\n"
          ]
        }
      ]
    },
    {
      "cell_type": "code",
      "source": [
        "pasien_1.introduksi_pasien()"
      ],
      "metadata": {
        "colab": {
          "base_uri": "https://localhost:8080/",
          "height": 35
        },
        "id": "AX-PP1bpMYX-",
        "outputId": "0d1f5f95-2d70-44d0-818b-14679a3398ac"
      },
      "execution_count": null,
      "outputs": [
        {
          "output_type": "execute_result",
          "data": {
            "text/plain": [
              "'Pasien bernama Andika, berusia 30 dan berobat di klinik MRI untuk pelayanan LUMBOSACRAL dengan biaya pengobatan Rp3000000'"
            ],
            "application/vnd.google.colaboratory.intrinsic+json": {
              "type": "string"
            }
          },
          "metadata": {},
          "execution_count": 33
        }
      ]
    },
    {
      "cell_type": "code",
      "source": [
        "pasien_1.premi_yang_dibayarkan()"
      ],
      "metadata": {
        "colab": {
          "base_uri": "https://localhost:8080/",
          "height": 35
        },
        "id": "bo3veod4MdZG",
        "outputId": "1f20c722-2dbb-47d5-952a-c5e7825ecaa6"
      },
      "execution_count": null,
      "outputs": [
        {
          "output_type": "execute_result",
          "data": {
            "text/plain": [
              "'Asumsi pembayaran premi mengikuti KASUS 1.3, untuk biaya pengobatan Rp3000000, Andika harus membayar premi sebesar Rp4486972'"
            ],
            "application/vnd.google.colaboratory.intrinsic+json": {
              "type": "string"
            }
          },
          "metadata": {},
          "execution_count": 34
        }
      ]
    },
    {
      "cell_type": "code",
      "source": [
        "pasien_1.dinamika_premi()"
      ],
      "metadata": {
        "colab": {
          "base_uri": "https://localhost:8080/",
          "height": 298
        },
        "id": "2ONRr_IeMm3i",
        "outputId": "1b853dba-9f95-4164-c668-c46152c5367e"
      },
      "execution_count": null,
      "outputs": [
        {
          "output_type": "display_data",
          "data": {
            "text/plain": [
              "<Figure size 432x288 with 1 Axes>"
            ],
            "image/png": "[encoded data removed]"
          },
          "metadata": {
            "needs_background": "light"
          }
        }
      ]
    },
    {
      "cell_type": "markdown",
      "source": [
        "##### Premi Alami"
      ],
      "metadata": {
        "id": "mLKIysVpsW5m"
      }
    },
    {
      "cell_type": "code",
      "source": [
        "data2 = df.copy()\n",
        "dict_besar_klaim = df1.to_dict()"
      ],
      "metadata": {
        "id": "5QYoAwxVsWFA"
      },
      "execution_count": null,
      "outputs": []
    },
    {
      "cell_type": "code",
      "source": [
        "df1.to_frame()"
      ],
      "metadata": {
        "id": "pYcN3IS3SW5n",
        "outputId": "7fd00149-fc61-4c8b-e39d-90258cbd8726",
        "colab": {
          "base_uri": "https://localhost:8080/",
          "height": 394
        }
      },
      "execution_count": null,
      "outputs": [
        {
          "output_type": "execute_result",
          "data": {
            "text/plain": [
              "                 total_biaya\n",
              "selang_umur                 \n",
              "(-0.001, 14.0]  3.138637e+06\n",
              "(14.0, 27.0]    2.788043e+06\n",
              "(27.0, 36.0]    2.690745e+06\n",
              "(36.0, 43.0]    2.633242e+06\n",
              "(43.0, 48.0]    2.746830e+06\n",
              "(48.0, 53.0]    2.708418e+06\n",
              "(53.0, 57.0]    2.820068e+06\n",
              "(57.0, 62.0]    2.620655e+06\n",
              "(62.0, 69.0]    2.761097e+06\n",
              "(69.0, 91.0]    2.635738e+06"
            ],
            "text/html": [
              "\n",
              "  <div id=\"df-c6aa234f-cf7c-47ca-8718-dbe9829bd7cf\">\n",
              "    <div class=\"colab-df-container\">\n",
              "      <div>\n",
              "<style scoped>\n",
              "    .dataframe tbody tr th:only-of-type {\n",
              "        vertical-align: middle;\n",
              "    }\n",
              "\n",
              "    .dataframe tbody tr th {\n",
              "        vertical-align: top;\n",
              "    }\n",
              "\n",
              "    .dataframe thead th {\n",
              "        text-align: right;\n",
              "    }\n",
              "</style>\n",
              "<table border=\"1\" class=\"dataframe\">\n",
              "  <thead>\n",
              "    <tr style=\"text-align: right;\">\n",
              "      <th></th>\n",
              "      <th>total_biaya</th>\n",
              "    </tr>\n",
              "    <tr>\n",
              "      <th>selang_umur</th>\n",
              "      <th></th>\n",
              "    </tr>\n",
              "  </thead>\n",
              "  <tbody>\n",
              "    <tr>\n",
              "      <th>(-0.001, 14.0]</th>\n",
              "      <td>3.138637e+06</td>\n",
              "    </tr>\n",
              "    <tr>\n",
              "      <th>(14.0, 27.0]</th>\n",
              "      <td>2.788043e+06</td>\n",
              "    </tr>\n",
              "    <tr>\n",
              "      <th>(27.0, 36.0]</th>\n",
              "      <td>2.690745e+06</td>\n",
              "    </tr>\n",
              "    <tr>\n",
              "      <th>(36.0, 43.0]</th>\n",
              "      <td>2.633242e+06</td>\n",
              "    </tr>\n",
              "    <tr>\n",
              "      <th>(43.0, 48.0]</th>\n",
              "      <td>2.746830e+06</td>\n",
              "    </tr>\n",
              "    <tr>\n",
              "      <th>(48.0, 53.0]</th>\n",
              "      <td>2.708418e+06</td>\n",
              "    </tr>\n",
              "    <tr>\n",
              "      <th>(53.0, 57.0]</th>\n",
              "      <td>2.820068e+06</td>\n",
              "    </tr>\n",
              "    <tr>\n",
              "      <th>(57.0, 62.0]</th>\n",
              "      <td>2.620655e+06</td>\n",
              "    </tr>\n",
              "    <tr>\n",
              "      <th>(62.0, 69.0]</th>\n",
              "      <td>2.761097e+06</td>\n",
              "    </tr>\n",
              "    <tr>\n",
              "      <th>(69.0, 91.0]</th>\n",
              "      <td>2.635738e+06</td>\n",
              "    </tr>\n",
              "  </tbody>\n",
              "</table>\n",
              "</div>\n",
              "      <button class=\"colab-df-convert\" onclick=\"convertToInteractive('df-c6aa234f-cf7c-47ca-8718-dbe9829bd7cf')\"\n",
              "              title=\"Convert this dataframe to an interactive table.\"\n",
              "              style=\"display:none;\">\n",
              "        \n",
              "  <svg xmlns=\"http://www.w3.org/2000/svg\" height=\"24px\"viewBox=\"0 0 24 24\"\n",
              "       width=\"24px\">\n",
              "    <path d=\"M0 0h24v24H0V0z\" fill=\"none\"/>\n",
              "    <path d=\"M18.56 5.44l.94 2.06.94-2.06 2.06-.94-2.06-.94-.94-2.06-.94 2.06-2.06.94zm-11 1L8.5 8.5l.94-2.06 2.06-.94-2.06-.94L8.5 2.5l-.94 2.06-2.06.94zm10 10l.94 2.06.94-2.06 2.06-.94-2.06-.94-.94-2.06-.94 2.06-2.06.94z\"/><path d=\"M17.41 7.96l-1.37-1.37c-.4-.4-.92-.59-1.43-.59-.52 0-1.04.2-1.43.59L10.3 9.45l-7.72 7.72c-.78.78-.78 2.05 0 2.83L4 21.41c.39.39.9.59 1.41.59.51 0 1.02-.2 1.41-.59l7.78-7.78 2.81-2.81c.8-.78.8-2.07 0-2.86zM5.41 20L4 18.59l7.72-7.72 1.47 1.35L5.41 20z\"/>\n",
              "  </svg>\n",
              "      </button>\n",
              "      \n",
              "  <style>\n",
              "    .colab-df-container {\n",
              "      display:flex;\n",
              "      flex-wrap:wrap;\n",
              "      gap: 12px;\n",
              "    }\n",
              "\n",
              "    .colab-df-convert {\n",
              "      background-color: #E8F0FE;\n",
              "      border: none;\n",
              "      border-radius: 50%;\n",
              "      cursor: pointer;\n",
              "      display: none;\n",
              "      fill: #1967D2;\n",
              "      height: 32px;\n",
              "      padding: 0 0 0 0;\n",
              "      width: 32px;\n",
              "    }\n",
              "\n",
              "    .colab-df-convert:hover {\n",
              "      background-color: #E2EBFA;\n",
              "      box-shadow: 0px 1px 2px rgba(60, 64, 67, 0.3), 0px 1px 3px 1px rgba(60, 64, 67, 0.15);\n",
              "      fill: #174EA6;\n",
              "    }\n",
              "\n",
              "    [theme=dark] .colab-df-convert {\n",
              "      background-color: #3B4455;\n",
              "      fill: #D2E3FC;\n",
              "    }\n",
              "\n",
              "    [theme=dark] .colab-df-convert:hover {\n",
              "      background-color: #434B5C;\n",
              "      box-shadow: 0px 1px 3px 1px rgba(0, 0, 0, 0.15);\n",
              "      filter: drop-shadow(0px 1px 2px rgba(0, 0, 0, 0.3));\n",
              "      fill: #FFFFFF;\n",
              "    }\n",
              "  </style>\n",
              "\n",
              "      <script>\n",
              "        const buttonEl =\n",
              "          document.querySelector('#df-c6aa234f-cf7c-47ca-8718-dbe9829bd7cf button.colab-df-convert');\n",
              "        buttonEl.style.display =\n",
              "          google.colab.kernel.accessAllowed ? 'block' : 'none';\n",
              "\n",
              "        async function convertToInteractive(key) {\n",
              "          const element = document.querySelector('#df-c6aa234f-cf7c-47ca-8718-dbe9829bd7cf');\n",
              "          const dataTable =\n",
              "            await google.colab.kernel.invokeFunction('convertToInteractive',\n",
              "                                                     [key], {});\n",
              "          if (!dataTable) return;\n",
              "\n",
              "          const docLinkHtml = 'Like what you see? Visit the ' +\n",
              "            '<a target=\"_blank\" href=https://colab.research.google.com/notebooks/data_table.ipynb>data table notebook</a>'\n",
              "            + ' to learn more about interactive tables.';\n",
              "          element.innerHTML = '';\n",
              "          dataTable['output_type'] = 'display_data';\n",
              "          await google.colab.output.renderOutput(dataTable, element);\n",
              "          const docLink = document.createElement('div');\n",
              "          docLink.innerHTML = docLinkHtml;\n",
              "          element.appendChild(docLink);\n",
              "        }\n",
              "      </script>\n",
              "    </div>\n",
              "  </div>\n",
              "  "
            ]
          },
          "metadata": {},
          "execution_count": 36
        }
      ]
    },
    {
      "cell_type": "code",
      "source": [
        ""
      ],
      "metadata": {
        "id": "JxZu_r3MSYQ6"
      },
      "execution_count": null,
      "outputs": []
    },
    {
      "cell_type": "code",
      "source": [
        "data2['besar_klaim_per_segmen'] = data2['selang_umur'].map(dict_besar_klaim).astype('float64')"
      ],
      "metadata": {
        "id": "mROpeHKWsbWE"
      },
      "execution_count": null,
      "outputs": []
    },
    {
      "cell_type": "code",
      "source": [
        "data2['natural_premium'] = data2['total_biaya']*2*(1+(8.17/100))**(-1/2)\n",
        "data2['selisih_klaim_premi'] = data2['natural_premium'] - data2['total_biaya']\n",
        "data2['persentase_selisih'] = data2['selisih_klaim_premi']/data2['total_biaya']*100\n",
        "\n",
        "data2[['total_biaya','natural_premium','selisih_klaim_premi','persentase_selisih']]"
      ],
      "metadata": {
        "colab": {
          "base_uri": "https://localhost:8080/",
          "height": 424
        },
        "id": "uzw8HkL-sgrv",
        "outputId": "a14cfb07-7b30-4a58-ce12-113fa44a8bb1"
      },
      "execution_count": null,
      "outputs": [
        {
          "output_type": "execute_result",
          "data": {
            "text/plain": [
              "      total_biaya  natural_premium  selisih_klaim_premi  persentase_selisih\n",
              "0         4400000     8.461147e+06         4.061147e+06           92.298803\n",
              "1         4400000     8.461147e+06         4.061147e+06           92.298803\n",
              "2         2200000     4.230574e+06         2.030574e+06           92.298803\n",
              "3         3200000     6.153562e+06         2.953562e+06           92.298803\n",
              "4         3200000     6.153562e+06         2.953562e+06           92.298803\n",
              "...           ...              ...                  ...                 ...\n",
              "4616      1200000     2.307586e+06         1.107586e+06           92.298803\n",
              "4617      3200000     6.153562e+06         2.953562e+06           92.298803\n",
              "4618      3200000     6.153562e+06         2.953562e+06           92.298803\n",
              "4619      3200000     6.153562e+06         2.953562e+06           92.298803\n",
              "4620      3200000     6.153562e+06         2.953562e+06           92.298803\n",
              "\n",
              "[4621 rows x 4 columns]"
            ],
            "text/html": [
              "\n",
              "  <div id=\"df-379b4017-f4e6-436a-bb24-adb037a7aef1\">\n",
              "    <div class=\"colab-df-container\">\n",
              "      <div>\n",
              "<style scoped>\n",
              "    .dataframe tbody tr th:only-of-type {\n",
              "        vertical-align: middle;\n",
              "    }\n",
              "\n",
              "    .dataframe tbody tr th {\n",
              "        vertical-align: top;\n",
              "    }\n",
              "\n",
              "    .dataframe thead th {\n",
              "        text-align: right;\n",
              "    }\n",
              "</style>\n",
              "<table border=\"1\" class=\"dataframe\">\n",
              "  <thead>\n",
              "    <tr style=\"text-align: right;\">\n",
              "      <th></th>\n",
              "      <th>total_biaya</th>\n",
              "      <th>natural_premium</th>\n",
              "      <th>selisih_klaim_premi</th>\n",
              "      <th>persentase_selisih</th>\n",
              "    </tr>\n",
              "  </thead>\n",
              "  <tbody>\n",
              "    <tr>\n",
              "      <th>0</th>\n",
              "      <td>4400000</td>\n",
              "      <td>8.461147e+06</td>\n",
              "      <td>4.061147e+06</td>\n",
              "      <td>92.298803</td>\n",
              "    </tr>\n",
              "    <tr>\n",
              "      <th>1</th>\n",
              "      <td>4400000</td>\n",
              "      <td>8.461147e+06</td>\n",
              "      <td>4.061147e+06</td>\n",
              "      <td>92.298803</td>\n",
              "    </tr>\n",
              "    <tr>\n",
              "      <th>2</th>\n",
              "      <td>2200000</td>\n",
              "      <td>4.230574e+06</td>\n",
              "      <td>2.030574e+06</td>\n",
              "      <td>92.298803</td>\n",
              "    </tr>\n",
              "    <tr>\n",
              "      <th>3</th>\n",
              "      <td>3200000</td>\n",
              "      <td>6.153562e+06</td>\n",
              "      <td>2.953562e+06</td>\n",
              "      <td>92.298803</td>\n",
              "    </tr>\n",
              "    <tr>\n",
              "      <th>4</th>\n",
              "      <td>3200000</td>\n",
              "      <td>6.153562e+06</td>\n",
              "      <td>2.953562e+06</td>\n",
              "      <td>92.298803</td>\n",
              "    </tr>\n",
              "    <tr>\n",
              "      <th>...</th>\n",
              "      <td>...</td>\n",
              "      <td>...</td>\n",
              "      <td>...</td>\n",
              "      <td>...</td>\n",
              "    </tr>\n",
              "    <tr>\n",
              "      <th>4616</th>\n",
              "      <td>1200000</td>\n",
              "      <td>2.307586e+06</td>\n",
              "      <td>1.107586e+06</td>\n",
              "      <td>92.298803</td>\n",
              "    </tr>\n",
              "    <tr>\n",
              "      <th>4617</th>\n",
              "      <td>3200000</td>\n",
              "      <td>6.153562e+06</td>\n",
              "      <td>2.953562e+06</td>\n",
              "      <td>92.298803</td>\n",
              "    </tr>\n",
              "    <tr>\n",
              "      <th>4618</th>\n",
              "      <td>3200000</td>\n",
              "      <td>6.153562e+06</td>\n",
              "      <td>2.953562e+06</td>\n",
              "      <td>92.298803</td>\n",
              "    </tr>\n",
              "    <tr>\n",
              "      <th>4619</th>\n",
              "      <td>3200000</td>\n",
              "      <td>6.153562e+06</td>\n",
              "      <td>2.953562e+06</td>\n",
              "      <td>92.298803</td>\n",
              "    </tr>\n",
              "    <tr>\n",
              "      <th>4620</th>\n",
              "      <td>3200000</td>\n",
              "      <td>6.153562e+06</td>\n",
              "      <td>2.953562e+06</td>\n",
              "      <td>92.298803</td>\n",
              "    </tr>\n",
              "  </tbody>\n",
              "</table>\n",
              "<p>4621 rows × 4 columns</p>\n",
              "</div>\n",
              "      <button class=\"colab-df-convert\" onclick=\"convertToInteractive('df-379b4017-f4e6-436a-bb24-adb037a7aef1')\"\n",
              "              title=\"Convert this dataframe to an interactive table.\"\n",
              "              style=\"display:none;\">\n",
              "        \n",
              "  <svg xmlns=\"http://www.w3.org/2000/svg\" height=\"24px\"viewBox=\"0 0 24 24\"\n",
              "       width=\"24px\">\n",
              "    <path d=\"M0 0h24v24H0V0z\" fill=\"none\"/>\n",
              "    <path d=\"M18.56 5.44l.94 2.06.94-2.06 2.06-.94-2.06-.94-.94-2.06-.94 2.06-2.06.94zm-11 1L8.5 8.5l.94-2.06 2.06-.94-2.06-.94L8.5 2.5l-.94 2.06-2.06.94zm10 10l.94 2.06.94-2.06 2.06-.94-2.06-.94-.94-2.06-.94 2.06-2.06.94z\"/><path d=\"M17.41 7.96l-1.37-1.37c-.4-.4-.92-.59-1.43-.59-.52 0-1.04.2-1.43.59L10.3 9.45l-7.72 7.72c-.78.78-.78 2.05 0 2.83L4 21.41c.39.39.9.59 1.41.59.51 0 1.02-.2 1.41-.59l7.78-7.78 2.81-2.81c.8-.78.8-2.07 0-2.86zM5.41 20L4 18.59l7.72-7.72 1.47 1.35L5.41 20z\"/>\n",
              "  </svg>\n",
              "      </button>\n",
              "      \n",
              "  <style>\n",
              "    .colab-df-container {\n",
              "      display:flex;\n",
              "      flex-wrap:wrap;\n",
              "      gap: 12px;\n",
              "    }\n",
              "\n",
              "    .colab-df-convert {\n",
              "      background-color: #E8F0FE;\n",
              "      border: none;\n",
              "      border-radius: 50%;\n",
              "      cursor: pointer;\n",
              "      display: none;\n",
              "      fill: #1967D2;\n",
              "      height: 32px;\n",
              "      padding: 0 0 0 0;\n",
              "      width: 32px;\n",
              "    }\n",
              "\n",
              "    .colab-df-convert:hover {\n",
              "      background-color: #E2EBFA;\n",
              "      box-shadow: 0px 1px 2px rgba(60, 64, 67, 0.3), 0px 1px 3px 1px rgba(60, 64, 67, 0.15);\n",
              "      fill: #174EA6;\n",
              "    }\n",
              "\n",
              "    [theme=dark] .colab-df-convert {\n",
              "      background-color: #3B4455;\n",
              "      fill: #D2E3FC;\n",
              "    }\n",
              "\n",
              "    [theme=dark] .colab-df-convert:hover {\n",
              "      background-color: #434B5C;\n",
              "      box-shadow: 0px 1px 3px 1px rgba(0, 0, 0, 0.15);\n",
              "      filter: drop-shadow(0px 1px 2px rgba(0, 0, 0, 0.3));\n",
              "      fill: #FFFFFF;\n",
              "    }\n",
              "  </style>\n",
              "\n",
              "      <script>\n",
              "        const buttonEl =\n",
              "          document.querySelector('#df-379b4017-f4e6-436a-bb24-adb037a7aef1 button.colab-df-convert');\n",
              "        buttonEl.style.display =\n",
              "          google.colab.kernel.accessAllowed ? 'block' : 'none';\n",
              "\n",
              "        async function convertToInteractive(key) {\n",
              "          const element = document.querySelector('#df-379b4017-f4e6-436a-bb24-adb037a7aef1');\n",
              "          const dataTable =\n",
              "            await google.colab.kernel.invokeFunction('convertToInteractive',\n",
              "                                                     [key], {});\n",
              "          if (!dataTable) return;\n",
              "\n",
              "          const docLinkHtml = 'Like what you see? Visit the ' +\n",
              "            '<a target=\"_blank\" href=https://colab.research.google.com/notebooks/data_table.ipynb>data table notebook</a>'\n",
              "            + ' to learn more about interactive tables.';\n",
              "          element.innerHTML = '';\n",
              "          dataTable['output_type'] = 'display_data';\n",
              "          await google.colab.output.renderOutput(dataTable, element);\n",
              "          const docLink = document.createElement('div');\n",
              "          docLink.innerHTML = docLinkHtml;\n",
              "          element.appendChild(docLink);\n",
              "        }\n",
              "      </script>\n",
              "    </div>\n",
              "  </div>\n",
              "  "
            ]
          },
          "metadata": {},
          "execution_count": 38
        }
      ]
    },
    {
      "cell_type": "markdown",
      "source": [
        "Persentase selisihnya sama karena premi alami dengan total biayannya hampir dua kali lipatnya. Keuntungan model ini, tidak ada pasien yang biaya pengobatannya tidak terkover oleh premi alaminya, tetapi untuk premi levelnya tetap ada pasien yang tidak terkover biayanya dikarenakan distribusi biaya pengobatan yang cukup menceng"
      ],
      "metadata": {
        "id": "U8dE5AQ1FjwI"
      }
    },
    {
      "cell_type": "markdown",
      "source": [
        "##### Premi Level"
      ],
      "metadata": {
        "id": "nNMWRyCDsr3J"
      }
    },
    {
      "cell_type": "code",
      "source": [
        "df3 = data2.groupby(['selang_umur'])['natural_premium'].agg('mean')\n",
        "df3"
      ],
      "metadata": {
        "colab": {
          "base_uri": "https://localhost:8080/"
        },
        "id": "0qaT5RKHsrG4",
        "outputId": "c201bef8-7419-4255-c646-e14d5bd6a8b9"
      },
      "execution_count": null,
      "outputs": [
        {
          "output_type": "execute_result",
          "data": {
            "text/plain": [
              "selang_umur\n",
              "(-0.001, 14.0]    6.035562e+06\n",
              "(14.0, 27.0]      5.361372e+06\n",
              "(27.0, 36.0]      5.174270e+06\n",
              "(36.0, 43.0]      5.063693e+06\n",
              "(43.0, 48.0]      5.282120e+06\n",
              "(48.0, 53.0]      5.208256e+06\n",
              "(53.0, 57.0]      5.422956e+06\n",
              "(57.0, 62.0]      5.039487e+06\n",
              "(62.0, 69.0]      5.309557e+06\n",
              "(69.0, 91.0]      5.068493e+06\n",
              "Name: natural_premium, dtype: float64"
            ]
          },
          "metadata": {},
          "execution_count": 39
        }
      ]
    },
    {
      "cell_type": "code",
      "source": [
        "dict_premi = df3.to_dict()\n",
        "data2['level_premium'] = data2['selang_umur'].map(dict_premi).astype('float64')"
      ],
      "metadata": {
        "id": "NSPVnvLisur4"
      },
      "execution_count": null,
      "outputs": []
    },
    {
      "cell_type": "code",
      "source": [
        "# Plot klaim untuk user-user dengan usia yang berbeda\n",
        "umur_klaim2 = data2[['umur','total_biaya','besar_klaim_per_segmen','natural_premium','level_premium']].drop_duplicates(subset = ['umur']).sort_values(by=['umur'], ascending = True)\n",
        "plt.plot(umur_klaim2['umur'], umur_klaim2['total_biaya'], label = 'Jumlah Biaya')\n",
        "plt.plot(umur_klaim2['umur'], umur_klaim2['level_premium'], color = 'black', linestyle = '--', label = 'Premi Level')\n",
        "plt.plot(umur_klaim2['umur'], umur_klaim2['natural_premium'], label = 'Premi Alami')\n",
        "plt.title('Besar klaim dan premi yang ditanggung pasien')\n",
        "plt.xlabel('usia')\n",
        "plt.ylabel('besar biaya (puluhan juta rupiah)')\n",
        "plt.legend()\n",
        "plt.show()"
      ],
      "metadata": {
        "colab": {
          "base_uri": "https://localhost:8080/",
          "height": 299
        },
        "id": "3I3UDm78swHG",
        "outputId": "bbd25aa8-09f4-4dba-ce2e-708c5ae40f4e"
      },
      "execution_count": null,
      "outputs": [
        {
          "output_type": "display_data",
          "data": {
            "text/plain": [
              "<Figure size 432x288 with 1 Axes>"
            ],
            "image/png": "[encoded data removed]"
          },
          "metadata": {
            "needs_background": "light"
          }
        }
      ]
    },
    {
      "cell_type": "markdown",
      "source": [
        "Bisa dilihat bahwa premi levelnya tidak dapat mengkover biaya pengobatan pasien yang merupakan pencilan. Keuntungannya adalah hanya 1 pasien yang tidak terkover biayanya"
      ],
      "metadata": {
        "id": "Qr5rs8aXGIE0"
      }
    },
    {
      "cell_type": "markdown",
      "source": [
        "List Biaya :\n",
        "- Biaya listrik \n",
        "- Biaya pelayanan dokter (?)\n",
        "- Biaya maintenance MRI (?) \n",
        "- Biaya beli MRI"
      ],
      "metadata": {
        "id": "P_ujUFYKjrll"
      }
    },
    {
      "cell_type": "markdown",
      "source": [
        "### Jika menggunakan asuransi smart health care premier plus\n",
        "\n",
        "Premi untuk pelayanan MRI ditentukan dari besar tagihan dari pasien tersebut, jadi besar preminya akan sama dengan tagihan pasien tersebut. Premi level dapat ditentukan dari rataan klaim per segmennya"
      ],
      "metadata": {
        "id": "WoRdVcm8pE2Y"
      }
    },
    {
      "cell_type": "code",
      "source": [
        "df1 = df.groupby(['selang_umur'])['total_biaya'].agg('mean')\n",
        "dict_besar_klaim = df1.to_dict()"
      ],
      "metadata": {
        "id": "JjaCFKP7oPf5"
      },
      "execution_count": null,
      "outputs": []
    },
    {
      "cell_type": "code",
      "source": [
        "df['besar_klaim_per_segmen'] = df['selang_umur'].map(dict_besar_klaim)"
      ],
      "metadata": {
        "id": "SELfA1hMoDcx"
      },
      "execution_count": null,
      "outputs": []
    },
    {
      "cell_type": "code",
      "source": [
        "umur_klaim = df[['umur','besar_klaim_per_segmen','total_biaya']].drop_duplicates(subset = ['umur']).sort_values(by=['umur'], ascending = True)\n",
        "\n",
        "plt.plot(umur_klaim['umur'], umur_klaim['besar_klaim_per_segmen'], label = 'Premi Level')\n",
        "plt.plot(umur_klaim['umur'], umur_klaim['total_biaya'], label = 'Besar klaim')\n",
        "\n",
        "plt.title('Besar klaim dan premi yang ditanggung pasien')\n",
        "plt.xlabel('Usia')\n",
        "plt.ylabel('Besar biaya (juta rupiah)')\n",
        "plt.legend()\n",
        "plt.show()"
      ],
      "metadata": {
        "colab": {
          "base_uri": "https://localhost:8080/",
          "height": 299
        },
        "id": "iZuKvatUxRLE",
        "outputId": "0683da06-5ceb-4474-d998-73031fed363a"
      },
      "execution_count": null,
      "outputs": [
        {
          "output_type": "display_data",
          "data": {
            "text/plain": [
              "<Figure size 432x288 with 1 Axes>"
            ],
            "image/png": "[encoded data removed]"
          },
          "metadata": {
            "needs_background": "light"
          }
        }
      ]
    },
    {
      "cell_type": "markdown",
      "source": [
        "Sebagian besar klaimnya tidak terkover oleh premi levelnya, "
      ],
      "metadata": {
        "id": "o9OxUjNox3dp"
      }
    },
    {
      "cell_type": "markdown",
      "source": [
        "## Fungsi Biaya\n",
        "\n",
        "Pada bagian ini akan ditentukan rate of return dari investasi di pelayanan jasa MRI, bagian ini akan dibagi menjadi 3, biaya pemasukan, biaya pengeluaran dan rate of returnnya"
      ],
      "metadata": {
        "id": "2eXr0KtvofTG"
      }
    },
    {
      "cell_type": "markdown",
      "source": [
        "### Pemasukan"
      ],
      "metadata": {
        "id": "TB8HkVjTq5kL"
      }
    },
    {
      "cell_type": "markdown",
      "source": [
        "#### Kasus 2.1 : Jika total pendapatan dari biaya pasien"
      ],
      "metadata": {
        "id": "rOlfPaCxq7XC"
      }
    },
    {
      "cell_type": "code",
      "source": [
        "total_pendapatan = df['biaya'].sum()\n",
        "print(total_pendapatan)"
      ],
      "metadata": {
        "colab": {
          "base_uri": "https://localhost:8080/"
        },
        "id": "8ilvZVfVq6eg",
        "outputId": "bf0a79b9-a5ab-4899-fb2f-9b21a47568cb"
      },
      "execution_count": null,
      "outputs": [
        {
          "output_type": "stream",
          "name": "stdout",
          "text": [
            "12714276750\n"
          ]
        }
      ]
    },
    {
      "cell_type": "markdown",
      "source": [
        "Total pendapatannya adalah Rp12.714.276.750,00 murni dari biaya pengobatan pasien dari data tsb"
      ],
      "metadata": {
        "id": "WWn58Mi6sJfG"
      }
    },
    {
      "cell_type": "markdown",
      "source": [
        "#### Kasus 2.2 : Jika total pendapatan dari premi kasus 1.3"
      ],
      "metadata": {
        "id": "b6bHTnZWHEQR"
      }
    },
    {
      "cell_type": "code",
      "source": [
        "total_pendapatan_1 = data2['level_premium'].sum()\n",
        "print(total_pendapatan_1)"
      ],
      "metadata": {
        "colab": {
          "base_uri": "https://localhost:8080/"
        },
        "id": "920ThDpXHG9r",
        "outputId": "584ab98f-c471-4cf4-ce2d-4dd821bee758"
      },
      "execution_count": null,
      "outputs": [
        {
          "output_type": "stream",
          "name": "stdout",
          "text": [
            "24486286347.984447\n"
          ]
        }
      ]
    },
    {
      "cell_type": "markdown",
      "source": [
        "Total pendapatannya adalah Rp24.486.286.348 (24 miliar rupiah) jika menggunakan premi kasus ketiga"
      ],
      "metadata": {
        "id": "XL9n3YJQHe7I"
      }
    },
    {
      "cell_type": "markdown",
      "source": [
        "#### Kasus 2.3 : Jika total pendapatannya dari premi asuransi Smart Health Care Premier Plus"
      ],
      "metadata": {
        "id": "D9M2MoVZJgF_"
      }
    },
    {
      "cell_type": "code",
      "source": [
        "total_pendapatan_2 = df['besar_klaim_per_segmen'].astype('float64').sum()\n",
        "print(total_pendapatan_2)"
      ],
      "metadata": {
        "colab": {
          "base_uri": "https://localhost:8080/"
        },
        "id": "cQMXujz2Jlfh",
        "outputId": "1aa948f6-1218-496b-81b7-6ceb74822e19"
      },
      "execution_count": null,
      "outputs": [
        {
          "output_type": "stream",
          "name": "stdout",
          "text": [
            "12733457500.0\n"
          ]
        }
      ]
    },
    {
      "cell_type": "markdown",
      "source": [
        "Total pendapatannya adalah Rp12.733.457.500 (12 miliar rupiah) jika menggunakan premi Smart Health Care Premier Plus\n",
        "\n"
      ],
      "metadata": {
        "id": "o-Xs_9OtJ8g_"
      }
    },
    {
      "cell_type": "markdown",
      "source": [
        "#### Kasus 2.4 : Jika mengikuti kasus 1.1"
      ],
      "metadata": {
        "id": "QycrsKFdBdPG"
      }
    },
    {
      "cell_type": "code",
      "source": [
        "total_pendapatan_3 = data['level_premium'].astype('float64').sum()\n",
        "print(total_pendapatan_3)"
      ],
      "metadata": {
        "colab": {
          "base_uri": "https://localhost:8080/"
        },
        "id": "1dTzTiabBxJ-",
        "outputId": "3442e6b4-5827-4ad0-8ff8-e7b41de14735"
      },
      "execution_count": null,
      "outputs": [
        {
          "output_type": "stream",
          "name": "stdout",
          "text": [
            "35160208562.0134\n"
          ]
        }
      ]
    },
    {
      "cell_type": "markdown",
      "source": [
        "Total pendapatannya adalah Rp35.160.208.562 (35 miliar rupiah)"
      ],
      "metadata": {
        "id": "y-5ajfBHB_K2"
      }
    },
    {
      "cell_type": "markdown",
      "source": [
        "#### Kasus 2.5 : Jika mengikuti kasus 1.2"
      ],
      "metadata": {
        "id": "NSqqEEJZCGUv"
      }
    },
    {
      "cell_type": "code",
      "source": [
        "total_pendapatan_4 = data1['level_premium'].astype('float64').sum()\n",
        "print(total_pendapatan_4)"
      ],
      "metadata": {
        "colab": {
          "base_uri": "https://localhost:8080/"
        },
        "id": "CKKlhytPCKwA",
        "outputId": "02f118e1-3514-4c01-eb64-c3f05726b80b"
      },
      "execution_count": null,
      "outputs": [
        {
          "output_type": "stream",
          "name": "stdout",
          "text": [
            "18155355038.55027\n"
          ]
        }
      ]
    },
    {
      "cell_type": "markdown",
      "source": [
        "Total pendapatannya adalah Rp18.155.355.038 (18 Miliar rupiah)"
      ],
      "metadata": {
        "id": "9bg2i8-yCXEY"
      }
    },
    {
      "cell_type": "markdown",
      "source": [
        "### Pengeluaran"
      ],
      "metadata": {
        "id": "rOqc4ENrIs8y"
      }
    },
    {
      "cell_type": "markdown",
      "source": [
        "#### Rata-rata Penggunaan Listrik MRI per harinya\n",
        "\n",
        "Asumsi 1 hari ada 32 pasien yang datang ke klinik (dengan mengambil jumlah pasien terbanyak dalam 1 hari), besar daya MRI 3T diketahui \n",
        "7160.31 watt/jam"
      ],
      "metadata": {
        "id": "krZn9YptohXw"
      }
    },
    {
      "cell_type": "code",
      "source": [
        "print(\"Jumlah kehadiran pasien :\",df['rtglast'].value_counts().sort_values(ascending = False))\n",
        "print(\"Rata-rata kehadiran pasien :\", np.floor(df['rtglast'].value_counts().values.mean()))"
      ],
      "metadata": {
        "colab": {
          "base_uri": "https://localhost:8080/"
        },
        "id": "SXzQLJZ2oigf",
        "outputId": "60173f82-08a7-4642-c56b-27237698bf4e"
      },
      "execution_count": null,
      "outputs": [
        {
          "output_type": "stream",
          "name": "stdout",
          "text": [
            "Jumlah kehadiran pasien : 11-Oct-11    32\n",
            "23-Nov-11    29\n",
            "16-Nov-11    25\n",
            "07-Jul-11    25\n",
            "14-Oct-11    25\n",
            "             ..\n",
            "30-Apr-11     6\n",
            "27-Aug-11     5\n",
            "20-Aug-11     5\n",
            "07-May-11     2\n",
            "03-Jan-11     2\n",
            "Name: rtglast, Length: 298, dtype: int64\n",
            "Rata-rata kehadiran pasien : 15.0\n"
          ]
        }
      ]
    },
    {
      "cell_type": "code",
      "source": [
        "# per hari\n",
        "besar_watt = 32*(7/60)*7160.31\n",
        "total_biaya_listrik = (besar_watt/1000)*1114.74\n",
        "print(\"Total biaya listrik per hari : \",total_biaya_listrik)"
      ],
      "metadata": {
        "colab": {
          "base_uri": "https://localhost:8080/"
        },
        "id": "xQSh7eTkpar3",
        "outputId": "b0618b9e-2e84-40e8-a531-bb62c783f9b4"
      },
      "execution_count": null,
      "outputs": [
        {
          "output_type": "stream",
          "name": "stdout",
          "text": [
            "Total biaya listrik per hari :  29799.03348576\n"
          ]
        }
      ]
    },
    {
      "cell_type": "code",
      "source": [
        "# Per tahun\n",
        "print(\"Total biaya per tahun : \",total_biaya_listrik*365)"
      ],
      "metadata": {
        "colab": {
          "base_uri": "https://localhost:8080/"
        },
        "id": "opRqarnFqs9l",
        "outputId": "738adf01-720e-451c-942d-100350e531af"
      },
      "execution_count": null,
      "outputs": [
        {
          "output_type": "stream",
          "name": "stdout",
          "text": [
            "Total biaya per tahun :  10876647.2223024\n"
          ]
        }
      ]
    },
    {
      "cell_type": "markdown",
      "source": [
        "Biaya listrik per tahun dengan asumsi sebelumnya adalah Rp10.876.648"
      ],
      "metadata": {
        "id": "bBPMwBqXsTDw"
      }
    },
    {
      "cell_type": "markdown",
      "source": [
        "#### Biaya alat MRI\n",
        "\n",
        "Jika menggunakan MRI 3T Signa Pioneer maka harga 1 alatnya adalah \n",
        "Rp20.479.004.321\n",
        "\n"
      ],
      "metadata": {
        "id": "LpCP84Sjs8PC"
      }
    },
    {
      "cell_type": "markdown",
      "source": [
        "#### Biaya Penanganan Dokter\n",
        "\n",
        "* New Brain Clinic :\n",
        "  * Rehabilitasi Medis : Rp200.000/sesi\n",
        "  * Saraf : Rp200.000/sesi\n",
        "* Umum : Rp250.000 - Rp750.000/sesi\n"
      ],
      "metadata": {
        "id": "slZvQyGJuA44"
      }
    },
    {
      "cell_type": "markdown",
      "source": [
        "#### Biaya Maintenance MRI\n",
        "\n",
        "Biaya maintenance MRI ada di kisaran 29 juta - 144 juta, untuk 3T ada di 144 juta"
      ],
      "metadata": {
        "id": "JTiywLlxunZw"
      }
    },
    {
      "cell_type": "markdown",
      "source": [
        "### Rate of Return\n",
        "Asumsi :    \n",
        "- Jumlah pasien 32 dalam suatu hari\n",
        "- Menggunakan 1 alat MRI\n",
        "- Modal hanya berasal dari pengadaan 1 alat MRI\n"
      ],
      "metadata": {
        "id": "8YRfkbOyvX48"
      }
    },
    {
      "cell_type": "code",
      "source": [
        "# Worst case:\n",
        "biaya_listrik = total_biaya_listrik\n",
        "biaya_alat_MRI = 20479004321\n",
        "biaya_penanganan_dokter = 312*32*200000 # dalam waktu kerja ada 312 hari dan asumsi 32 pasien dalam 1 hari\n",
        "biaya_maintenance = 4*144*10**6 # Asumsi maintenance 144 juta untuk setiap kuartal (1 tahun ada 4 kuartal)\n",
        "total_biaya_pengeluaran = biaya_listrik + biaya_alat_MRI + biaya_penanganan_dokter + biaya_maintenance\n",
        "print(\"Total Pengeluaran : \", total_biaya_pengeluaran)\n",
        "print(\"Total Pemasukan dari biaya pengobatan saja: \", total_pendapatan)\n",
        "print(\"Total Pemasukan dari premi level kasus 1.1: \", total_pendapatan_3)\n",
        "print(\"Total Pemasukan dari premi level kasus 1.2: \", total_pendapatan_4)\n",
        "print(\"Total Pemasukan dari premi level kasus 1.3: \", total_pendapatan_1)\n",
        "print(\"Total Pemasukan dari premi Smart Health Care Plus: \", total_pendapatan_2)\n",
        "print(\"\")\n",
        "\n",
        "## Persentase keuntungan/kerugian\n",
        "persen_keuntungan = (total_pendapatan - total_biaya_pengeluaran)/biaya_alat_MRI * 100\n",
        "persen_keuntungan_1 = (total_pendapatan_1 - total_biaya_pengeluaran)/biaya_alat_MRI * 100\n",
        "persen_keuntungan_2 = (total_pendapatan_2 - total_biaya_pengeluaran)/biaya_alat_MRI * 100\n",
        "persen_keuntungan_3 = (total_pendapatan_3 - total_biaya_pengeluaran)/biaya_alat_MRI * 100\n",
        "persen_keuntungan_4 = (total_pendapatan_4 - total_biaya_pengeluaran)/biaya_alat_MRI * 100\n",
        "\n",
        "print(\"Persentase keuntungan dalam 1 tahun jika dari biaya pengobatan saja: \",persen_keuntungan)\n",
        "print(\"Persentase keuntungan dalam 1 tahun jika dari premi level kasus 1.1 : \", persen_keuntungan_3)\n",
        "print(\"Persentase keuntungan dalam 1 tahun jika dari premi level kasus 1.2 : \", persen_keuntungan_4)\n",
        "print(\"Persentase keuntungan dalam 1 tahun jika dari premi level kasus 1.3 : \", persen_keuntungan_1)\n",
        "print(\"Persentase keuntungan dalam 1 tahun jika dari premi Smart Health Care Plus : \", persen_keuntungan_2)"
      ],
      "metadata": {
        "colab": {
          "base_uri": "https://localhost:8080/"
        },
        "id": "KLWGMG8wvZRY",
        "outputId": "37cfcbbd-ff33-42b6-e950-fe794a690730"
      },
      "execution_count": null,
      "outputs": [
        {
          "output_type": "stream",
          "name": "stdout",
          "text": [
            "Total Pengeluaran :  23051834120.033485\n",
            "Total Pemasukan dari biaya pengobatan saja:  12714276750\n",
            "Total Pemasukan dari premi level kasus 1.1:  35160208562.0134\n",
            "Total Pemasukan dari premi level kasus 1.2:  18155355038.55027\n",
            "Total Pemasukan dari premi level kasus 1.3:  24486286347.984447\n",
            "Total Pemasukan dari premi Smart Health Care Plus:  12733457500.0\n",
            "\n",
            "Persentase keuntungan dalam 1 tahun jika dari biaya pengobatan saja:  -50.47880848109855\n",
            "Persentase keuntungan dalam 1 tahun jika dari premi level kasus 1.1 :  59.12579660703277\n",
            "Persentase keuntungan dalam 1 tahun jika dari premi level kasus 1.2 :  -23.909751688768225\n",
            "Persentase keuntungan dalam 1 tahun jika dari premi level kasus 1.3 :  7.00450180812754\n",
            "Persentase keuntungan dalam 1 tahun jika dari premi Smart Health Care Plus :  -50.38514792173076\n"
          ]
        }
      ]
    },
    {
      "cell_type": "markdown",
      "source": [
        "Bisa dilihat bahwa jika klinik hanya menggunakan biaya pengobatan saja atau menggunakan premi Smart Health Care Plus maka mengalami kerugian sebesar -50% tapi jika klinik tersebut menetapkan premi level di kasus 1.3, maka keuntungannya sebesar 7.0%\n",
        "\n",
        "Jika menetapkan premi kasus 1.1, maka mendapatkan keuntungan 59%, tetapi perlu diingat bahwa premi yang ditetapkan jauh lebih tinggi dibandingkan biaya pengobatannya\n",
        "\n",
        "Premi kasus 1.2 mendatangkan kerugian yang lebih kecil dibandingkan biaya pengobatan dan Smart Health Care Premier Plus"
      ],
      "metadata": {
        "id": "HBShmzk4JMAO"
      }
    },
    {
      "cell_type": "markdown",
      "source": [
        "# Data Deret Waktu per Tanggal\n",
        "\n",
        "Kolom2nya:\n",
        "1. Tanggal\n",
        "2. Pendapatan/pemasukan\n",
        "  * Bayar MRI make premi atau biaya aslinya\n",
        "3. Pengeluaran \n",
        "  * Biaya rata2 penggunaan listrik (tiap hari)\n",
        "  * Biaya penanganan dokter (tiap hari kerja)\n",
        "  * Biaya maintenance MRI (tiap kuartal)\n",
        "\n",
        "Asumsi udah beli alat MRI "
      ],
      "metadata": {
        "id": "Xjvc1OYVQGjR"
      }
    },
    {
      "cell_type": "markdown",
      "source": [
        "## Kasus 2.1"
      ],
      "metadata": {
        "id": "e4skmxLiR0PM"
      }
    },
    {
      "cell_type": "code",
      "source": [
        "df.head()"
      ],
      "metadata": {
        "colab": {
          "base_uri": "https://localhost:8080/",
          "height": 206
        },
        "id": "DW8oPuN-Qi4v",
        "outputId": "d9dbea77-9775-404c-a1aa-ea5bf13415e9"
      },
      "execution_count": null,
      "outputs": [
        {
          "output_type": "execute_result",
          "data": {
            "text/plain": [
              "     rtglast  umur rjenis   rnmbos    biaya   biaya3  rkdjasa       rnmjasa  \\\n",
              "0 2011-01-03  54.0      L  Pribadi  4400000  4400000   900010   LUMBOSACRAL   \n",
              "1 2011-01-03  54.0      L  Pribadi  4400000  4400000   900006      CERVICAL   \n",
              "2 2011-01-04  70.0      L  Pribadi  2200000  2200000   900010   LUMBOSACRAL   \n",
              "3 2011-01-04  49.0      P  Pribadi  3200000  3200000   900044   MRA 1 REGIO   \n",
              "4 2011-01-04  49.0      P  Pribadi  3200000  3200000   900046     KONTRAS I   \n",
              "\n",
              "      rfee  diskon  disc  total_biaya_pelayanan   selang_umur  total_biaya  \\\n",
              "0  2200000       0     0                2200000  (53.0, 57.0]      4400000   \n",
              "1  2200000       0     0                2200000  (53.0, 57.0]      4400000   \n",
              "2  2200000       0     0                2200000  (69.0, 91.0]      2200000   \n",
              "3  2200000       0     0                2200000  (48.0, 53.0]      3200000   \n",
              "4  1000000       0     0                1000000  (48.0, 53.0]      3200000   \n",
              "\n",
              "  besar_klaim_per_segmen  \n",
              "0           2.820068e+06  \n",
              "1           2.820068e+06  \n",
              "2           2.635738e+06  \n",
              "3           2.708418e+06  \n",
              "4           2.708418e+06  "
            ],
            "text/html": [
              "\n",
              "  <div id=\"df-cdeff296-0a3d-4b94-942d-fc0b2f24f875\">\n",
              "    <div class=\"colab-df-container\">\n",
              "      <div>\n",
              "<style scoped>\n",
              "    .dataframe tbody tr th:only-of-type {\n",
              "        vertical-align: middle;\n",
              "    }\n",
              "\n",
              "    .dataframe tbody tr th {\n",
              "        vertical-align: top;\n",
              "    }\n",
              "\n",
              "    .dataframe thead th {\n",
              "        text-align: right;\n",
              "    }\n",
              "</style>\n",
              "<table border=\"1\" class=\"dataframe\">\n",
              "  <thead>\n",
              "    <tr style=\"text-align: right;\">\n",
              "      <th></th>\n",
              "      <th>rtglast</th>\n",
              "      <th>umur</th>\n",
              "      <th>rjenis</th>\n",
              "      <th>rnmbos</th>\n",
              "      <th>biaya</th>\n",
              "      <th>biaya3</th>\n",
              "      <th>rkdjasa</th>\n",
              "      <th>rnmjasa</th>\n",
              "      <th>rfee</th>\n",
              "      <th>diskon</th>\n",
              "      <th>disc</th>\n",
              "      <th>total_biaya_pelayanan</th>\n",
              "      <th>selang_umur</th>\n",
              "      <th>total_biaya</th>\n",
              "      <th>besar_klaim_per_segmen</th>\n",
              "    </tr>\n",
              "  </thead>\n",
              "  <tbody>\n",
              "    <tr>\n",
              "      <th>0</th>\n",
              "      <td>2011-01-03</td>\n",
              "      <td>54.0</td>\n",
              "      <td>L</td>\n",
              "      <td>Pribadi</td>\n",
              "      <td>4400000</td>\n",
              "      <td>4400000</td>\n",
              "      <td>900010</td>\n",
              "      <td>LUMBOSACRAL</td>\n",
              "      <td>2200000</td>\n",
              "      <td>0</td>\n",
              "      <td>0</td>\n",
              "      <td>2200000</td>\n",
              "      <td>(53.0, 57.0]</td>\n",
              "      <td>4400000</td>\n",
              "      <td>2.820068e+06</td>\n",
              "    </tr>\n",
              "    <tr>\n",
              "      <th>1</th>\n",
              "      <td>2011-01-03</td>\n",
              "      <td>54.0</td>\n",
              "      <td>L</td>\n",
              "      <td>Pribadi</td>\n",
              "      <td>4400000</td>\n",
              "      <td>4400000</td>\n",
              "      <td>900006</td>\n",
              "      <td>CERVICAL</td>\n",
              "      <td>2200000</td>\n",
              "      <td>0</td>\n",
              "      <td>0</td>\n",
              "      <td>2200000</td>\n",
              "      <td>(53.0, 57.0]</td>\n",
              "      <td>4400000</td>\n",
              "      <td>2.820068e+06</td>\n",
              "    </tr>\n",
              "    <tr>\n",
              "      <th>2</th>\n",
              "      <td>2011-01-04</td>\n",
              "      <td>70.0</td>\n",
              "      <td>L</td>\n",
              "      <td>Pribadi</td>\n",
              "      <td>2200000</td>\n",
              "      <td>2200000</td>\n",
              "      <td>900010</td>\n",
              "      <td>LUMBOSACRAL</td>\n",
              "      <td>2200000</td>\n",
              "      <td>0</td>\n",
              "      <td>0</td>\n",
              "      <td>2200000</td>\n",
              "      <td>(69.0, 91.0]</td>\n",
              "      <td>2200000</td>\n",
              "      <td>2.635738e+06</td>\n",
              "    </tr>\n",
              "    <tr>\n",
              "      <th>3</th>\n",
              "      <td>2011-01-04</td>\n",
              "      <td>49.0</td>\n",
              "      <td>P</td>\n",
              "      <td>Pribadi</td>\n",
              "      <td>3200000</td>\n",
              "      <td>3200000</td>\n",
              "      <td>900044</td>\n",
              "      <td>MRA 1 REGIO</td>\n",
              "      <td>2200000</td>\n",
              "      <td>0</td>\n",
              "      <td>0</td>\n",
              "      <td>2200000</td>\n",
              "      <td>(48.0, 53.0]</td>\n",
              "      <td>3200000</td>\n",
              "      <td>2.708418e+06</td>\n",
              "    </tr>\n",
              "    <tr>\n",
              "      <th>4</th>\n",
              "      <td>2011-01-04</td>\n",
              "      <td>49.0</td>\n",
              "      <td>P</td>\n",
              "      <td>Pribadi</td>\n",
              "      <td>3200000</td>\n",
              "      <td>3200000</td>\n",
              "      <td>900046</td>\n",
              "      <td>KONTRAS I</td>\n",
              "      <td>1000000</td>\n",
              "      <td>0</td>\n",
              "      <td>0</td>\n",
              "      <td>1000000</td>\n",
              "      <td>(48.0, 53.0]</td>\n",
              "      <td>3200000</td>\n",
              "      <td>2.708418e+06</td>\n",
              "    </tr>\n",
              "  </tbody>\n",
              "</table>\n",
              "</div>\n",
              "      <button class=\"colab-df-convert\" onclick=\"convertToInteractive('df-cdeff296-0a3d-4b94-942d-fc0b2f24f875')\"\n",
              "              title=\"Convert this dataframe to an interactive table.\"\n",
              "              style=\"display:none;\">\n",
              "        \n",
              "  <svg xmlns=\"http://www.w3.org/2000/svg\" height=\"24px\"viewBox=\"0 0 24 24\"\n",
              "       width=\"24px\">\n",
              "    <path d=\"M0 0h24v24H0V0z\" fill=\"none\"/>\n",
              "    <path d=\"M18.56 5.44l.94 2.06.94-2.06 2.06-.94-2.06-.94-.94-2.06-.94 2.06-2.06.94zm-11 1L8.5 8.5l.94-2.06 2.06-.94-2.06-.94L8.5 2.5l-.94 2.06-2.06.94zm10 10l.94 2.06.94-2.06 2.06-.94-2.06-.94-.94-2.06-.94 2.06-2.06.94z\"/><path d=\"M17.41 7.96l-1.37-1.37c-.4-.4-.92-.59-1.43-.59-.52 0-1.04.2-1.43.59L10.3 9.45l-7.72 7.72c-.78.78-.78 2.05 0 2.83L4 21.41c.39.39.9.59 1.41.59.51 0 1.02-.2 1.41-.59l7.78-7.78 2.81-2.81c.8-.78.8-2.07 0-2.86zM5.41 20L4 18.59l7.72-7.72 1.47 1.35L5.41 20z\"/>\n",
              "  </svg>\n",
              "      </button>\n",
              "      \n",
              "  <style>\n",
              "    .colab-df-container {\n",
              "      display:flex;\n",
              "      flex-wrap:wrap;\n",
              "      gap: 12px;\n",
              "    }\n",
              "\n",
              "    .colab-df-convert {\n",
              "      background-color: #E8F0FE;\n",
              "      border: none;\n",
              "      border-radius: 50%;\n",
              "      cursor: pointer;\n",
              "      display: none;\n",
              "      fill: #1967D2;\n",
              "      height: 32px;\n",
              "      padding: 0 0 0 0;\n",
              "      width: 32px;\n",
              "    }\n",
              "\n",
              "    .colab-df-convert:hover {\n",
              "      background-color: #E2EBFA;\n",
              "      box-shadow: 0px 1px 2px rgba(60, 64, 67, 0.3), 0px 1px 3px 1px rgba(60, 64, 67, 0.15);\n",
              "      fill: #174EA6;\n",
              "    }\n",
              "\n",
              "    [theme=dark] .colab-df-convert {\n",
              "      background-color: #3B4455;\n",
              "      fill: #D2E3FC;\n",
              "    }\n",
              "\n",
              "    [theme=dark] .colab-df-convert:hover {\n",
              "      background-color: #434B5C;\n",
              "      box-shadow: 0px 1px 3px 1px rgba(0, 0, 0, 0.15);\n",
              "      filter: drop-shadow(0px 1px 2px rgba(0, 0, 0, 0.3));\n",
              "      fill: #FFFFFF;\n",
              "    }\n",
              "  </style>\n",
              "\n",
              "      <script>\n",
              "        const buttonEl =\n",
              "          document.querySelector('#df-cdeff296-0a3d-4b94-942d-fc0b2f24f875 button.colab-df-convert');\n",
              "        buttonEl.style.display =\n",
              "          google.colab.kernel.accessAllowed ? 'block' : 'none';\n",
              "\n",
              "        async function convertToInteractive(key) {\n",
              "          const element = document.querySelector('#df-cdeff296-0a3d-4b94-942d-fc0b2f24f875');\n",
              "          const dataTable =\n",
              "            await google.colab.kernel.invokeFunction('convertToInteractive',\n",
              "                                                     [key], {});\n",
              "          if (!dataTable) return;\n",
              "\n",
              "          const docLinkHtml = 'Like what you see? Visit the ' +\n",
              "            '<a target=\"_blank\" href=https://colab.research.google.com/notebooks/data_table.ipynb>data table notebook</a>'\n",
              "            + ' to learn more about interactive tables.';\n",
              "          element.innerHTML = '';\n",
              "          dataTable['output_type'] = 'display_data';\n",
              "          await google.colab.output.renderOutput(dataTable, element);\n",
              "          const docLink = document.createElement('div');\n",
              "          docLink.innerHTML = docLinkHtml;\n",
              "          element.appendChild(docLink);\n",
              "        }\n",
              "      </script>\n",
              "    </div>\n",
              "  </div>\n",
              "  "
            ]
          },
          "metadata": {},
          "execution_count": 79
        }
      ]
    },
    {
      "cell_type": "code",
      "source": [
        "df_deret_waktu_1 = df[['rtglast']].drop_duplicates().reset_index().drop(['index'], axis = 1)\n",
        "df_deret_waktu_1['rtglast'] = pd.to_datetime(df_deret_waktu_1['rtglast'])\n",
        "df_deret_waktu_1['Total Pasien'] = 0\n",
        "df_deret_waktu_1['Pemasukan Pelayanan'] = 0\n",
        "df_deret_waktu_1['Biaya listrik'] = 0\n",
        "df_deret_waktu_1['Penanganan Dokter'] = 0\n",
        "df_deret_waktu_1['Biaya Maintenance MRI'] = 0"
      ],
      "metadata": {
        "id": "2pxiL0nWQ8kV"
      },
      "execution_count": null,
      "outputs": []
    },
    {
      "cell_type": "code",
      "source": [
        "df_deret_waktu_1.head()"
      ],
      "metadata": {
        "colab": {
          "base_uri": "https://localhost:8080/",
          "height": 206
        },
        "id": "6lXkUvSjRkJI",
        "outputId": "627f1dbc-e3ba-436a-8479-d0157e75567c"
      },
      "execution_count": null,
      "outputs": [
        {
          "output_type": "execute_result",
          "data": {
            "text/plain": [
              "     rtglast  Total Pasien  Pemasukan Pelayanan  Biaya listrik  \\\n",
              "0 2011-01-03             0                    0              0   \n",
              "1 2011-01-04             0                    0              0   \n",
              "2 2011-01-05             0                    0              0   \n",
              "3 2011-01-06             0                    0              0   \n",
              "4 2011-01-07             0                    0              0   \n",
              "\n",
              "   Penanganan Dokter  Biaya Maintenance MRI  \n",
              "0                  0                      0  \n",
              "1                  0                      0  \n",
              "2                  0                      0  \n",
              "3                  0                      0  \n",
              "4                  0                      0  "
            ],
            "text/html": [
              "\n",
              "  <div id=\"df-766d3170-82bd-4209-b569-228dad255629\">\n",
              "    <div class=\"colab-df-container\">\n",
              "      <div>\n",
              "<style scoped>\n",
              "    .dataframe tbody tr th:only-of-type {\n",
              "        vertical-align: middle;\n",
              "    }\n",
              "\n",
              "    .dataframe tbody tr th {\n",
              "        vertical-align: top;\n",
              "    }\n",
              "\n",
              "    .dataframe thead th {\n",
              "        text-align: right;\n",
              "    }\n",
              "</style>\n",
              "<table border=\"1\" class=\"dataframe\">\n",
              "  <thead>\n",
              "    <tr style=\"text-align: right;\">\n",
              "      <th></th>\n",
              "      <th>rtglast</th>\n",
              "      <th>Total Pasien</th>\n",
              "      <th>Pemasukan Pelayanan</th>\n",
              "      <th>Biaya listrik</th>\n",
              "      <th>Penanganan Dokter</th>\n",
              "      <th>Biaya Maintenance MRI</th>\n",
              "    </tr>\n",
              "  </thead>\n",
              "  <tbody>\n",
              "    <tr>\n",
              "      <th>0</th>\n",
              "      <td>2011-01-03</td>\n",
              "      <td>0</td>\n",
              "      <td>0</td>\n",
              "      <td>0</td>\n",
              "      <td>0</td>\n",
              "      <td>0</td>\n",
              "    </tr>\n",
              "    <tr>\n",
              "      <th>1</th>\n",
              "      <td>2011-01-04</td>\n",
              "      <td>0</td>\n",
              "      <td>0</td>\n",
              "      <td>0</td>\n",
              "      <td>0</td>\n",
              "      <td>0</td>\n",
              "    </tr>\n",
              "    <tr>\n",
              "      <th>2</th>\n",
              "      <td>2011-01-05</td>\n",
              "      <td>0</td>\n",
              "      <td>0</td>\n",
              "      <td>0</td>\n",
              "      <td>0</td>\n",
              "      <td>0</td>\n",
              "    </tr>\n",
              "    <tr>\n",
              "      <th>3</th>\n",
              "      <td>2011-01-06</td>\n",
              "      <td>0</td>\n",
              "      <td>0</td>\n",
              "      <td>0</td>\n",
              "      <td>0</td>\n",
              "      <td>0</td>\n",
              "    </tr>\n",
              "    <tr>\n",
              "      <th>4</th>\n",
              "      <td>2011-01-07</td>\n",
              "      <td>0</td>\n",
              "      <td>0</td>\n",
              "      <td>0</td>\n",
              "      <td>0</td>\n",
              "      <td>0</td>\n",
              "    </tr>\n",
              "  </tbody>\n",
              "</table>\n",
              "</div>\n",
              "      <button class=\"colab-df-convert\" onclick=\"convertToInteractive('df-766d3170-82bd-4209-b569-228dad255629')\"\n",
              "              title=\"Convert this dataframe to an interactive table.\"\n",
              "              style=\"display:none;\">\n",
              "        \n",
              "  <svg xmlns=\"http://www.w3.org/2000/svg\" height=\"24px\"viewBox=\"0 0 24 24\"\n",
              "       width=\"24px\">\n",
              "    <path d=\"M0 0h24v24H0V0z\" fill=\"none\"/>\n",
              "    <path d=\"M18.56 5.44l.94 2.06.94-2.06 2.06-.94-2.06-.94-.94-2.06-.94 2.06-2.06.94zm-11 1L8.5 8.5l.94-2.06 2.06-.94-2.06-.94L8.5 2.5l-.94 2.06-2.06.94zm10 10l.94 2.06.94-2.06 2.06-.94-2.06-.94-.94-2.06-.94 2.06-2.06.94z\"/><path d=\"M17.41 7.96l-1.37-1.37c-.4-.4-.92-.59-1.43-.59-.52 0-1.04.2-1.43.59L10.3 9.45l-7.72 7.72c-.78.78-.78 2.05 0 2.83L4 21.41c.39.39.9.59 1.41.59.51 0 1.02-.2 1.41-.59l7.78-7.78 2.81-2.81c.8-.78.8-2.07 0-2.86zM5.41 20L4 18.59l7.72-7.72 1.47 1.35L5.41 20z\"/>\n",
              "  </svg>\n",
              "      </button>\n",
              "      \n",
              "  <style>\n",
              "    .colab-df-container {\n",
              "      display:flex;\n",
              "      flex-wrap:wrap;\n",
              "      gap: 12px;\n",
              "    }\n",
              "\n",
              "    .colab-df-convert {\n",
              "      background-color: #E8F0FE;\n",
              "      border: none;\n",
              "      border-radius: 50%;\n",
              "      cursor: pointer;\n",
              "      display: none;\n",
              "      fill: #1967D2;\n",
              "      height: 32px;\n",
              "      padding: 0 0 0 0;\n",
              "      width: 32px;\n",
              "    }\n",
              "\n",
              "    .colab-df-convert:hover {\n",
              "      background-color: #E2EBFA;\n",
              "      box-shadow: 0px 1px 2px rgba(60, 64, 67, 0.3), 0px 1px 3px 1px rgba(60, 64, 67, 0.15);\n",
              "      fill: #174EA6;\n",
              "    }\n",
              "\n",
              "    [theme=dark] .colab-df-convert {\n",
              "      background-color: #3B4455;\n",
              "      fill: #D2E3FC;\n",
              "    }\n",
              "\n",
              "    [theme=dark] .colab-df-convert:hover {\n",
              "      background-color: #434B5C;\n",
              "      box-shadow: 0px 1px 3px 1px rgba(0, 0, 0, 0.15);\n",
              "      filter: drop-shadow(0px 1px 2px rgba(0, 0, 0, 0.3));\n",
              "      fill: #FFFFFF;\n",
              "    }\n",
              "  </style>\n",
              "\n",
              "      <script>\n",
              "        const buttonEl =\n",
              "          document.querySelector('#df-766d3170-82bd-4209-b569-228dad255629 button.colab-df-convert');\n",
              "        buttonEl.style.display =\n",
              "          google.colab.kernel.accessAllowed ? 'block' : 'none';\n",
              "\n",
              "        async function convertToInteractive(key) {\n",
              "          const element = document.querySelector('#df-766d3170-82bd-4209-b569-228dad255629');\n",
              "          const dataTable =\n",
              "            await google.colab.kernel.invokeFunction('convertToInteractive',\n",
              "                                                     [key], {});\n",
              "          if (!dataTable) return;\n",
              "\n",
              "          const docLinkHtml = 'Like what you see? Visit the ' +\n",
              "            '<a target=\"_blank\" href=https://colab.research.google.com/notebooks/data_table.ipynb>data table notebook</a>'\n",
              "            + ' to learn more about interactive tables.';\n",
              "          element.innerHTML = '';\n",
              "          dataTable['output_type'] = 'display_data';\n",
              "          await google.colab.output.renderOutput(dataTable, element);\n",
              "          const docLink = document.createElement('div');\n",
              "          docLink.innerHTML = docLinkHtml;\n",
              "          element.appendChild(docLink);\n",
              "        }\n",
              "      </script>\n",
              "    </div>\n",
              "  </div>\n",
              "  "
            ]
          },
          "metadata": {},
          "execution_count": 88
        }
      ]
    },
    {
      "cell_type": "code",
      "source": [
        "df['rtglast']"
      ],
      "metadata": {
        "colab": {
          "base_uri": "https://localhost:8080/"
        },
        "id": "X3DwSN5tSnjf",
        "outputId": "cebac767-ba39-4534-9445-134ff58e701b"
      },
      "execution_count": null,
      "outputs": [
        {
          "output_type": "execute_result",
          "data": {
            "text/plain": [
              "0      2011-01-03\n",
              "1      2011-01-03\n",
              "2      2011-01-04\n",
              "3      2011-01-04\n",
              "4      2011-01-04\n",
              "          ...    \n",
              "4616   2011-12-31\n",
              "4617   2011-12-31\n",
              "4618   2011-12-31\n",
              "4619   2011-12-31\n",
              "4620   2011-12-31\n",
              "Name: rtglast, Length: 4621, dtype: datetime64[ns]"
            ]
          },
          "metadata": {},
          "execution_count": 89
        }
      ]
    },
    {
      "cell_type": "code",
      "source": [
        "df['rtglast'] = pd.to_datetime(df['rtglast'])"
      ],
      "metadata": {
        "id": "_Ltu-9mWShKi"
      },
      "execution_count": null,
      "outputs": []
    },
    {
      "cell_type": "markdown",
      "source": [
        "### Total Pasien"
      ],
      "metadata": {
        "id": "_pOnbsz7Tje3"
      }
    },
    {
      "cell_type": "code",
      "source": [
        "pasien_per_hari = df.groupby(['rtglast'])['rkdjasa'].count().to_frame()\n",
        "df_deret_waktu_1['Total Pasien'] =  pasien_per_hari.values"
      ],
      "metadata": {
        "id": "cXfKxlz2TklA"
      },
      "execution_count": null,
      "outputs": []
    },
    {
      "cell_type": "code",
      "source": [
        ""
      ],
      "metadata": {
        "id": "Fas_MXaDT-Tx"
      },
      "execution_count": null,
      "outputs": []
    },
    {
      "cell_type": "markdown",
      "source": [
        "### Pemasukan"
      ],
      "metadata": {
        "id": "q3hyu_HORzUd"
      }
    },
    {
      "cell_type": "code",
      "source": [
        "# Group By\n",
        "pemasukan_per_hari = df.groupby(['rtglast'])['biaya'].sum()\n",
        "pemasukan_per_hari = pemasukan_per_hari.to_frame()\n",
        "pemasukan_per_hari"
      ],
      "metadata": {
        "colab": {
          "base_uri": "https://localhost:8080/",
          "height": 455
        },
        "id": "1aFQcPAJR4Jd",
        "outputId": "7ffc858f-3088-40d3-d8a6-27730fa4d1c4"
      },
      "execution_count": null,
      "outputs": [
        {
          "output_type": "execute_result",
          "data": {
            "text/plain": [
              "               biaya\n",
              "rtglast             \n",
              "2011-01-03   8800000\n",
              "2011-01-04  63400000\n",
              "2011-01-05  28280000\n",
              "2011-01-06  50650000\n",
              "2011-01-07  43950000\n",
              "...              ...\n",
              "2011-12-27  38100000\n",
              "2011-12-28  61750000\n",
              "2011-12-29  35209500\n",
              "2011-12-30  53599500\n",
              "2011-12-31  38450000\n",
              "\n",
              "[298 rows x 1 columns]"
            ],
            "text/html": [
              "\n",
              "  <div id=\"df-4cf2f460-3c49-490f-b2cf-5037777e6d1e\">\n",
              "    <div class=\"colab-df-container\">\n",
              "      <div>\n",
              "<style scoped>\n",
              "    .dataframe tbody tr th:only-of-type {\n",
              "        vertical-align: middle;\n",
              "    }\n",
              "\n",
              "    .dataframe tbody tr th {\n",
              "        vertical-align: top;\n",
              "    }\n",
              "\n",
              "    .dataframe thead th {\n",
              "        text-align: right;\n",
              "    }\n",
              "</style>\n",
              "<table border=\"1\" class=\"dataframe\">\n",
              "  <thead>\n",
              "    <tr style=\"text-align: right;\">\n",
              "      <th></th>\n",
              "      <th>biaya</th>\n",
              "    </tr>\n",
              "    <tr>\n",
              "      <th>rtglast</th>\n",
              "      <th></th>\n",
              "    </tr>\n",
              "  </thead>\n",
              "  <tbody>\n",
              "    <tr>\n",
              "      <th>2011-01-03</th>\n",
              "      <td>8800000</td>\n",
              "    </tr>\n",
              "    <tr>\n",
              "      <th>2011-01-04</th>\n",
              "      <td>63400000</td>\n",
              "    </tr>\n",
              "    <tr>\n",
              "      <th>2011-01-05</th>\n",
              "      <td>28280000</td>\n",
              "    </tr>\n",
              "    <tr>\n",
              "      <th>2011-01-06</th>\n",
              "      <td>50650000</td>\n",
              "    </tr>\n",
              "    <tr>\n",
              "      <th>2011-01-07</th>\n",
              "      <td>43950000</td>\n",
              "    </tr>\n",
              "    <tr>\n",
              "      <th>...</th>\n",
              "      <td>...</td>\n",
              "    </tr>\n",
              "    <tr>\n",
              "      <th>2011-12-27</th>\n",
              "      <td>38100000</td>\n",
              "    </tr>\n",
              "    <tr>\n",
              "      <th>2011-12-28</th>\n",
              "      <td>61750000</td>\n",
              "    </tr>\n",
              "    <tr>\n",
              "      <th>2011-12-29</th>\n",
              "      <td>35209500</td>\n",
              "    </tr>\n",
              "    <tr>\n",
              "      <th>2011-12-30</th>\n",
              "      <td>53599500</td>\n",
              "    </tr>\n",
              "    <tr>\n",
              "      <th>2011-12-31</th>\n",
              "      <td>38450000</td>\n",
              "    </tr>\n",
              "  </tbody>\n",
              "</table>\n",
              "<p>298 rows × 1 columns</p>\n",
              "</div>\n",
              "      <button class=\"colab-df-convert\" onclick=\"convertToInteractive('df-4cf2f460-3c49-490f-b2cf-5037777e6d1e')\"\n",
              "              title=\"Convert this dataframe to an interactive table.\"\n",
              "              style=\"display:none;\">\n",
              "        \n",
              "  <svg xmlns=\"http://www.w3.org/2000/svg\" height=\"24px\"viewBox=\"0 0 24 24\"\n",
              "       width=\"24px\">\n",
              "    <path d=\"M0 0h24v24H0V0z\" fill=\"none\"/>\n",
              "    <path d=\"M18.56 5.44l.94 2.06.94-2.06 2.06-.94-2.06-.94-.94-2.06-.94 2.06-2.06.94zm-11 1L8.5 8.5l.94-2.06 2.06-.94-2.06-.94L8.5 2.5l-.94 2.06-2.06.94zm10 10l.94 2.06.94-2.06 2.06-.94-2.06-.94-.94-2.06-.94 2.06-2.06.94z\"/><path d=\"M17.41 7.96l-1.37-1.37c-.4-.4-.92-.59-1.43-.59-.52 0-1.04.2-1.43.59L10.3 9.45l-7.72 7.72c-.78.78-.78 2.05 0 2.83L4 21.41c.39.39.9.59 1.41.59.51 0 1.02-.2 1.41-.59l7.78-7.78 2.81-2.81c.8-.78.8-2.07 0-2.86zM5.41 20L4 18.59l7.72-7.72 1.47 1.35L5.41 20z\"/>\n",
              "  </svg>\n",
              "      </button>\n",
              "      \n",
              "  <style>\n",
              "    .colab-df-container {\n",
              "      display:flex;\n",
              "      flex-wrap:wrap;\n",
              "      gap: 12px;\n",
              "    }\n",
              "\n",
              "    .colab-df-convert {\n",
              "      background-color: #E8F0FE;\n",
              "      border: none;\n",
              "      border-radius: 50%;\n",
              "      cursor: pointer;\n",
              "      display: none;\n",
              "      fill: #1967D2;\n",
              "      height: 32px;\n",
              "      padding: 0 0 0 0;\n",
              "      width: 32px;\n",
              "    }\n",
              "\n",
              "    .colab-df-convert:hover {\n",
              "      background-color: #E2EBFA;\n",
              "      box-shadow: 0px 1px 2px rgba(60, 64, 67, 0.3), 0px 1px 3px 1px rgba(60, 64, 67, 0.15);\n",
              "      fill: #174EA6;\n",
              "    }\n",
              "\n",
              "    [theme=dark] .colab-df-convert {\n",
              "      background-color: #3B4455;\n",
              "      fill: #D2E3FC;\n",
              "    }\n",
              "\n",
              "    [theme=dark] .colab-df-convert:hover {\n",
              "      background-color: #434B5C;\n",
              "      box-shadow: 0px 1px 3px 1px rgba(0, 0, 0, 0.15);\n",
              "      filter: drop-shadow(0px 1px 2px rgba(0, 0, 0, 0.3));\n",
              "      fill: #FFFFFF;\n",
              "    }\n",
              "  </style>\n",
              "\n",
              "      <script>\n",
              "        const buttonEl =\n",
              "          document.querySelector('#df-4cf2f460-3c49-490f-b2cf-5037777e6d1e button.colab-df-convert');\n",
              "        buttonEl.style.display =\n",
              "          google.colab.kernel.accessAllowed ? 'block' : 'none';\n",
              "\n",
              "        async function convertToInteractive(key) {\n",
              "          const element = document.querySelector('#df-4cf2f460-3c49-490f-b2cf-5037777e6d1e');\n",
              "          const dataTable =\n",
              "            await google.colab.kernel.invokeFunction('convertToInteractive',\n",
              "                                                     [key], {});\n",
              "          if (!dataTable) return;\n",
              "\n",
              "          const docLinkHtml = 'Like what you see? Visit the ' +\n",
              "            '<a target=\"_blank\" href=https://colab.research.google.com/notebooks/data_table.ipynb>data table notebook</a>'\n",
              "            + ' to learn more about interactive tables.';\n",
              "          element.innerHTML = '';\n",
              "          dataTable['output_type'] = 'display_data';\n",
              "          await google.colab.output.renderOutput(dataTable, element);\n",
              "          const docLink = document.createElement('div');\n",
              "          docLink.innerHTML = docLinkHtml;\n",
              "          element.appendChild(docLink);\n",
              "        }\n",
              "      </script>\n",
              "    </div>\n",
              "  </div>\n",
              "  "
            ]
          },
          "metadata": {},
          "execution_count": 91
        }
      ]
    },
    {
      "cell_type": "code",
      "source": [
        "df_deret_waktu_1['Pemasukan Pelayanan'] =  pemasukan_per_hari.values"
      ],
      "metadata": {
        "id": "QoVLOrYkSyxF"
      },
      "execution_count": null,
      "outputs": []
    },
    {
      "cell_type": "markdown",
      "source": [
        "### Biaya Listrik"
      ],
      "metadata": {
        "id": "iTMLhCSQUYoG"
      }
    },
    {
      "cell_type": "code",
      "source": [
        "besar_watt = df_deret_waktu_1['Total Pasien']*(7/60)*7160.31\n",
        "total_biaya_listrik = (besar_watt/1000)*1114.74\n",
        "\n",
        "df_deret_waktu_1['Biaya listrik'] = total_biaya_listrik"
      ],
      "metadata": {
        "id": "vZEkY56XTUVK"
      },
      "execution_count": null,
      "outputs": []
    },
    {
      "cell_type": "markdown",
      "source": [
        "### Penanganan Dokter"
      ],
      "metadata": {
        "id": "MO4cqVCJU0Wg"
      }
    },
    {
      "cell_type": "code",
      "source": [
        "df_deret_waktu_1['Penanganan Dokter'] = df_deret_waktu_1['Total Pasien'] * 200*10**3"
      ],
      "metadata": {
        "id": "j1NNGHtxU1h8"
      },
      "execution_count": null,
      "outputs": []
    },
    {
      "cell_type": "code",
      "source": [
        "df_deret_waktu_1.head()"
      ],
      "metadata": {
        "colab": {
          "base_uri": "https://localhost:8080/",
          "height": 206
        },
        "id": "O1xnmun7TOv_",
        "outputId": "a3d293f8-a53b-4616-b393-a3477380491f"
      },
      "execution_count": null,
      "outputs": [
        {
          "output_type": "execute_result",
          "data": {
            "text/plain": [
              "     rtglast  Total Pasien  Pemasukan Pelayanan  Biaya listrik  \\\n",
              "0 2011-01-03             2              8800000    1862.439593   \n",
              "1 2011-01-04            22             63400000   20486.835521   \n",
              "2 2011-01-05            11             28280000   10243.417761   \n",
              "3 2011-01-06            20             50650000   18624.395929   \n",
              "4 2011-01-07            16             43950000   14899.516743   \n",
              "\n",
              "   Penanganan Dokter  Biaya Maintenance MRI  Biaya Listrik  \n",
              "0             400000                      0    1862.439593  \n",
              "1            4400000                      0   20486.835521  \n",
              "2            2200000                      0   10243.417761  \n",
              "3            4000000                      0   18624.395929  \n",
              "4            3200000                      0   14899.516743  "
            ],
            "text/html": [
              "\n",
              "  <div id=\"df-cfd6f17f-91fe-4290-9c43-5d520b9ef871\">\n",
              "    <div class=\"colab-df-container\">\n",
              "      <div>\n",
              "<style scoped>\n",
              "    .dataframe tbody tr th:only-of-type {\n",
              "        vertical-align: middle;\n",
              "    }\n",
              "\n",
              "    .dataframe tbody tr th {\n",
              "        vertical-align: top;\n",
              "    }\n",
              "\n",
              "    .dataframe thead th {\n",
              "        text-align: right;\n",
              "    }\n",
              "</style>\n",
              "<table border=\"1\" class=\"dataframe\">\n",
              "  <thead>\n",
              "    <tr style=\"text-align: right;\">\n",
              "      <th></th>\n",
              "      <th>rtglast</th>\n",
              "      <th>Total Pasien</th>\n",
              "      <th>Pemasukan Pelayanan</th>\n",
              "      <th>Biaya listrik</th>\n",
              "      <th>Penanganan Dokter</th>\n",
              "      <th>Biaya Maintenance MRI</th>\n",
              "      <th>Biaya Listrik</th>\n",
              "    </tr>\n",
              "  </thead>\n",
              "  <tbody>\n",
              "    <tr>\n",
              "      <th>0</th>\n",
              "      <td>2011-01-03</td>\n",
              "      <td>2</td>\n",
              "      <td>8800000</td>\n",
              "      <td>1862.439593</td>\n",
              "      <td>400000</td>\n",
              "      <td>0</td>\n",
              "      <td>1862.439593</td>\n",
              "    </tr>\n",
              "    <tr>\n",
              "      <th>1</th>\n",
              "      <td>2011-01-04</td>\n",
              "      <td>22</td>\n",
              "      <td>63400000</td>\n",
              "      <td>20486.835521</td>\n",
              "      <td>4400000</td>\n",
              "      <td>0</td>\n",
              "      <td>20486.835521</td>\n",
              "    </tr>\n",
              "    <tr>\n",
              "      <th>2</th>\n",
              "      <td>2011-01-05</td>\n",
              "      <td>11</td>\n",
              "      <td>28280000</td>\n",
              "      <td>10243.417761</td>\n",
              "      <td>2200000</td>\n",
              "      <td>0</td>\n",
              "      <td>10243.417761</td>\n",
              "    </tr>\n",
              "    <tr>\n",
              "      <th>3</th>\n",
              "      <td>2011-01-06</td>\n",
              "      <td>20</td>\n",
              "      <td>50650000</td>\n",
              "      <td>18624.395929</td>\n",
              "      <td>4000000</td>\n",
              "      <td>0</td>\n",
              "      <td>18624.395929</td>\n",
              "    </tr>\n",
              "    <tr>\n",
              "      <th>4</th>\n",
              "      <td>2011-01-07</td>\n",
              "      <td>16</td>\n",
              "      <td>43950000</td>\n",
              "      <td>14899.516743</td>\n",
              "      <td>3200000</td>\n",
              "      <td>0</td>\n",
              "      <td>14899.516743</td>\n",
              "    </tr>\n",
              "  </tbody>\n",
              "</table>\n",
              "</div>\n",
              "      <button class=\"colab-df-convert\" onclick=\"convertToInteractive('df-cfd6f17f-91fe-4290-9c43-5d520b9ef871')\"\n",
              "              title=\"Convert this dataframe to an interactive table.\"\n",
              "              style=\"display:none;\">\n",
              "        \n",
              "  <svg xmlns=\"http://www.w3.org/2000/svg\" height=\"24px\"viewBox=\"0 0 24 24\"\n",
              "       width=\"24px\">\n",
              "    <path d=\"M0 0h24v24H0V0z\" fill=\"none\"/>\n",
              "    <path d=\"M18.56 5.44l.94 2.06.94-2.06 2.06-.94-2.06-.94-.94-2.06-.94 2.06-2.06.94zm-11 1L8.5 8.5l.94-2.06 2.06-.94-2.06-.94L8.5 2.5l-.94 2.06-2.06.94zm10 10l.94 2.06.94-2.06 2.06-.94-2.06-.94-.94-2.06-.94 2.06-2.06.94z\"/><path d=\"M17.41 7.96l-1.37-1.37c-.4-.4-.92-.59-1.43-.59-.52 0-1.04.2-1.43.59L10.3 9.45l-7.72 7.72c-.78.78-.78 2.05 0 2.83L4 21.41c.39.39.9.59 1.41.59.51 0 1.02-.2 1.41-.59l7.78-7.78 2.81-2.81c.8-.78.8-2.07 0-2.86zM5.41 20L4 18.59l7.72-7.72 1.47 1.35L5.41 20z\"/>\n",
              "  </svg>\n",
              "      </button>\n",
              "      \n",
              "  <style>\n",
              "    .colab-df-container {\n",
              "      display:flex;\n",
              "      flex-wrap:wrap;\n",
              "      gap: 12px;\n",
              "    }\n",
              "\n",
              "    .colab-df-convert {\n",
              "      background-color: #E8F0FE;\n",
              "      border: none;\n",
              "      border-radius: 50%;\n",
              "      cursor: pointer;\n",
              "      display: none;\n",
              "      fill: #1967D2;\n",
              "      height: 32px;\n",
              "      padding: 0 0 0 0;\n",
              "      width: 32px;\n",
              "    }\n",
              "\n",
              "    .colab-df-convert:hover {\n",
              "      background-color: #E2EBFA;\n",
              "      box-shadow: 0px 1px 2px rgba(60, 64, 67, 0.3), 0px 1px 3px 1px rgba(60, 64, 67, 0.15);\n",
              "      fill: #174EA6;\n",
              "    }\n",
              "\n",
              "    [theme=dark] .colab-df-convert {\n",
              "      background-color: #3B4455;\n",
              "      fill: #D2E3FC;\n",
              "    }\n",
              "\n",
              "    [theme=dark] .colab-df-convert:hover {\n",
              "      background-color: #434B5C;\n",
              "      box-shadow: 0px 1px 3px 1px rgba(0, 0, 0, 0.15);\n",
              "      filter: drop-shadow(0px 1px 2px rgba(0, 0, 0, 0.3));\n",
              "      fill: #FFFFFF;\n",
              "    }\n",
              "  </style>\n",
              "\n",
              "      <script>\n",
              "        const buttonEl =\n",
              "          document.querySelector('#df-cfd6f17f-91fe-4290-9c43-5d520b9ef871 button.colab-df-convert');\n",
              "        buttonEl.style.display =\n",
              "          google.colab.kernel.accessAllowed ? 'block' : 'none';\n",
              "\n",
              "        async function convertToInteractive(key) {\n",
              "          const element = document.querySelector('#df-cfd6f17f-91fe-4290-9c43-5d520b9ef871');\n",
              "          const dataTable =\n",
              "            await google.colab.kernel.invokeFunction('convertToInteractive',\n",
              "                                                     [key], {});\n",
              "          if (!dataTable) return;\n",
              "\n",
              "          const docLinkHtml = 'Like what you see? Visit the ' +\n",
              "            '<a target=\"_blank\" href=https://colab.research.google.com/notebooks/data_table.ipynb>data table notebook</a>'\n",
              "            + ' to learn more about interactive tables.';\n",
              "          element.innerHTML = '';\n",
              "          dataTable['output_type'] = 'display_data';\n",
              "          await google.colab.output.renderOutput(dataTable, element);\n",
              "          const docLink = document.createElement('div');\n",
              "          docLink.innerHTML = docLinkHtml;\n",
              "          element.appendChild(docLink);\n",
              "        }\n",
              "      </script>\n",
              "    </div>\n",
              "  </div>\n",
              "  "
            ]
          },
          "metadata": {},
          "execution_count": 107
        }
      ]
    },
    {
      "cell_type": "code",
      "source": [
        "df_deret_waktu_1[df_deret_waktu_1['rtglast'] == '2011-12-01']"
      ],
      "metadata": {
        "colab": {
          "base_uri": "https://localhost:8080/",
          "height": 81
        },
        "id": "ApFxkFqRVitk",
        "outputId": "8761c26b-79d4-4c9b-b2af-72d73decfe89"
      },
      "execution_count": null,
      "outputs": [
        {
          "output_type": "execute_result",
          "data": {
            "text/plain": [
              "       rtglast  Total Pasien  Pemasukan Pelayanan  Biaya listrik  \\\n",
              "272 2011-12-01            17             45101500   15830.736539   \n",
              "\n",
              "     Penanganan Dokter  Biaya Maintenance MRI  Biaya Listrik  \n",
              "272            3400000                      0   15830.736539  "
            ],
            "text/html": [
              "\n",
              "  <div id=\"df-c1b997ad-0942-4d5a-9395-1599bef1853c\">\n",
              "    <div class=\"colab-df-container\">\n",
              "      <div>\n",
              "<style scoped>\n",
              "    .dataframe tbody tr th:only-of-type {\n",
              "        vertical-align: middle;\n",
              "    }\n",
              "\n",
              "    .dataframe tbody tr th {\n",
              "        vertical-align: top;\n",
              "    }\n",
              "\n",
              "    .dataframe thead th {\n",
              "        text-align: right;\n",
              "    }\n",
              "</style>\n",
              "<table border=\"1\" class=\"dataframe\">\n",
              "  <thead>\n",
              "    <tr style=\"text-align: right;\">\n",
              "      <th></th>\n",
              "      <th>rtglast</th>\n",
              "      <th>Total Pasien</th>\n",
              "      <th>Pemasukan Pelayanan</th>\n",
              "      <th>Biaya listrik</th>\n",
              "      <th>Penanganan Dokter</th>\n",
              "      <th>Biaya Maintenance MRI</th>\n",
              "      <th>Biaya Listrik</th>\n",
              "    </tr>\n",
              "  </thead>\n",
              "  <tbody>\n",
              "    <tr>\n",
              "      <th>272</th>\n",
              "      <td>2011-12-01</td>\n",
              "      <td>17</td>\n",
              "      <td>45101500</td>\n",
              "      <td>15830.736539</td>\n",
              "      <td>3400000</td>\n",
              "      <td>0</td>\n",
              "      <td>15830.736539</td>\n",
              "    </tr>\n",
              "  </tbody>\n",
              "</table>\n",
              "</div>\n",
              "      <button class=\"colab-df-convert\" onclick=\"convertToInteractive('df-c1b997ad-0942-4d5a-9395-1599bef1853c')\"\n",
              "              title=\"Convert this dataframe to an interactive table.\"\n",
              "              style=\"display:none;\">\n",
              "        \n",
              "  <svg xmlns=\"http://www.w3.org/2000/svg\" height=\"24px\"viewBox=\"0 0 24 24\"\n",
              "       width=\"24px\">\n",
              "    <path d=\"M0 0h24v24H0V0z\" fill=\"none\"/>\n",
              "    <path d=\"M18.56 5.44l.94 2.06.94-2.06 2.06-.94-2.06-.94-.94-2.06-.94 2.06-2.06.94zm-11 1L8.5 8.5l.94-2.06 2.06-.94-2.06-.94L8.5 2.5l-.94 2.06-2.06.94zm10 10l.94 2.06.94-2.06 2.06-.94-2.06-.94-.94-2.06-.94 2.06-2.06.94z\"/><path d=\"M17.41 7.96l-1.37-1.37c-.4-.4-.92-.59-1.43-.59-.52 0-1.04.2-1.43.59L10.3 9.45l-7.72 7.72c-.78.78-.78 2.05 0 2.83L4 21.41c.39.39.9.59 1.41.59.51 0 1.02-.2 1.41-.59l7.78-7.78 2.81-2.81c.8-.78.8-2.07 0-2.86zM5.41 20L4 18.59l7.72-7.72 1.47 1.35L5.41 20z\"/>\n",
              "  </svg>\n",
              "      </button>\n",
              "      \n",
              "  <style>\n",
              "    .colab-df-container {\n",
              "      display:flex;\n",
              "      flex-wrap:wrap;\n",
              "      gap: 12px;\n",
              "    }\n",
              "\n",
              "    .colab-df-convert {\n",
              "      background-color: #E8F0FE;\n",
              "      border: none;\n",
              "      border-radius: 50%;\n",
              "      cursor: pointer;\n",
              "      display: none;\n",
              "      fill: #1967D2;\n",
              "      height: 32px;\n",
              "      padding: 0 0 0 0;\n",
              "      width: 32px;\n",
              "    }\n",
              "\n",
              "    .colab-df-convert:hover {\n",
              "      background-color: #E2EBFA;\n",
              "      box-shadow: 0px 1px 2px rgba(60, 64, 67, 0.3), 0px 1px 3px 1px rgba(60, 64, 67, 0.15);\n",
              "      fill: #174EA6;\n",
              "    }\n",
              "\n",
              "    [theme=dark] .colab-df-convert {\n",
              "      background-color: #3B4455;\n",
              "      fill: #D2E3FC;\n",
              "    }\n",
              "\n",
              "    [theme=dark] .colab-df-convert:hover {\n",
              "      background-color: #434B5C;\n",
              "      box-shadow: 0px 1px 3px 1px rgba(0, 0, 0, 0.15);\n",
              "      filter: drop-shadow(0px 1px 2px rgba(0, 0, 0, 0.3));\n",
              "      fill: #FFFFFF;\n",
              "    }\n",
              "  </style>\n",
              "\n",
              "      <script>\n",
              "        const buttonEl =\n",
              "          document.querySelector('#df-c1b997ad-0942-4d5a-9395-1599bef1853c button.colab-df-convert');\n",
              "        buttonEl.style.display =\n",
              "          google.colab.kernel.accessAllowed ? 'block' : 'none';\n",
              "\n",
              "        async function convertToInteractive(key) {\n",
              "          const element = document.querySelector('#df-c1b997ad-0942-4d5a-9395-1599bef1853c');\n",
              "          const dataTable =\n",
              "            await google.colab.kernel.invokeFunction('convertToInteractive',\n",
              "                                                     [key], {});\n",
              "          if (!dataTable) return;\n",
              "\n",
              "          const docLinkHtml = 'Like what you see? Visit the ' +\n",
              "            '<a target=\"_blank\" href=https://colab.research.google.com/notebooks/data_table.ipynb>data table notebook</a>'\n",
              "            + ' to learn more about interactive tables.';\n",
              "          element.innerHTML = '';\n",
              "          dataTable['output_type'] = 'display_data';\n",
              "          await google.colab.output.renderOutput(dataTable, element);\n",
              "          const docLink = document.createElement('div');\n",
              "          docLink.innerHTML = docLinkHtml;\n",
              "          element.appendChild(docLink);\n",
              "        }\n",
              "      </script>\n",
              "    </div>\n",
              "  </div>\n",
              "  "
            ]
          },
          "metadata": {},
          "execution_count": 113
        }
      ]
    },
    {
      "cell_type": "markdown",
      "source": [
        "### Maintenance\n",
        "\n",
        "Asumsi maintenance di awal bulan"
      ],
      "metadata": {
        "id": "ONcp_tb9VFAb"
      }
    },
    {
      "cell_type": "code",
      "source": [
        "list_kuartal = ['2011-03-01 00:00:00','2011-06-01 00:00:00','2011-09-02 00:00:00','2011-12-01 00:00:00']\n",
        "df_deret_waktu_1['Biaya Maintenance MRI'] = [144*10**6 if str(df_deret_waktu_1['rtglast'][i]) in list_kuartal else 0 for i in range(len(df_deret_waktu_1))]"
      ],
      "metadata": {
        "id": "Zn5IPz84VDsE"
      },
      "execution_count": null,
      "outputs": []
    },
    {
      "cell_type": "code",
      "source": [
        "df_deret_waktu_1[df_deret_waktu_1['rtglast'] == '2011-03-01']"
      ],
      "metadata": {
        "colab": {
          "base_uri": "https://localhost:8080/",
          "height": 81
        },
        "id": "Ju4KnY1mWWLG",
        "outputId": "caab6874-1197-4702-a60b-eb882adca41e"
      },
      "execution_count": null,
      "outputs": [
        {
          "output_type": "execute_result",
          "data": {
            "text/plain": [
              "      rtglast  Total Pasien  Pemasukan Pelayanan  Biaya listrik  \\\n",
              "47 2011-03-01            18             30255000   16761.956336   \n",
              "\n",
              "    Penanganan Dokter  Biaya Maintenance MRI  Biaya Listrik  \n",
              "47            3600000              144000000   16761.956336  "
            ],
            "text/html": [
              "\n",
              "  <div id=\"df-a0a0bb77-b129-49d9-aab5-c8af66069cf1\">\n",
              "    <div class=\"colab-df-container\">\n",
              "      <div>\n",
              "<style scoped>\n",
              "    .dataframe tbody tr th:only-of-type {\n",
              "        vertical-align: middle;\n",
              "    }\n",
              "\n",
              "    .dataframe tbody tr th {\n",
              "        vertical-align: top;\n",
              "    }\n",
              "\n",
              "    .dataframe thead th {\n",
              "        text-align: right;\n",
              "    }\n",
              "</style>\n",
              "<table border=\"1\" class=\"dataframe\">\n",
              "  <thead>\n",
              "    <tr style=\"text-align: right;\">\n",
              "      <th></th>\n",
              "      <th>rtglast</th>\n",
              "      <th>Total Pasien</th>\n",
              "      <th>Pemasukan Pelayanan</th>\n",
              "      <th>Biaya listrik</th>\n",
              "      <th>Penanganan Dokter</th>\n",
              "      <th>Biaya Maintenance MRI</th>\n",
              "      <th>Biaya Listrik</th>\n",
              "    </tr>\n",
              "  </thead>\n",
              "  <tbody>\n",
              "    <tr>\n",
              "      <th>47</th>\n",
              "      <td>2011-03-01</td>\n",
              "      <td>18</td>\n",
              "      <td>30255000</td>\n",
              "      <td>16761.956336</td>\n",
              "      <td>3600000</td>\n",
              "      <td>144000000</td>\n",
              "      <td>16761.956336</td>\n",
              "    </tr>\n",
              "  </tbody>\n",
              "</table>\n",
              "</div>\n",
              "      <button class=\"colab-df-convert\" onclick=\"convertToInteractive('df-a0a0bb77-b129-49d9-aab5-c8af66069cf1')\"\n",
              "              title=\"Convert this dataframe to an interactive table.\"\n",
              "              style=\"display:none;\">\n",
              "        \n",
              "  <svg xmlns=\"http://www.w3.org/2000/svg\" height=\"24px\"viewBox=\"0 0 24 24\"\n",
              "       width=\"24px\">\n",
              "    <path d=\"M0 0h24v24H0V0z\" fill=\"none\"/>\n",
              "    <path d=\"M18.56 5.44l.94 2.06.94-2.06 2.06-.94-2.06-.94-.94-2.06-.94 2.06-2.06.94zm-11 1L8.5 8.5l.94-2.06 2.06-.94-2.06-.94L8.5 2.5l-.94 2.06-2.06.94zm10 10l.94 2.06.94-2.06 2.06-.94-2.06-.94-.94-2.06-.94 2.06-2.06.94z\"/><path d=\"M17.41 7.96l-1.37-1.37c-.4-.4-.92-.59-1.43-.59-.52 0-1.04.2-1.43.59L10.3 9.45l-7.72 7.72c-.78.78-.78 2.05 0 2.83L4 21.41c.39.39.9.59 1.41.59.51 0 1.02-.2 1.41-.59l7.78-7.78 2.81-2.81c.8-.78.8-2.07 0-2.86zM5.41 20L4 18.59l7.72-7.72 1.47 1.35L5.41 20z\"/>\n",
              "  </svg>\n",
              "      </button>\n",
              "      \n",
              "  <style>\n",
              "    .colab-df-container {\n",
              "      display:flex;\n",
              "      flex-wrap:wrap;\n",
              "      gap: 12px;\n",
              "    }\n",
              "\n",
              "    .colab-df-convert {\n",
              "      background-color: #E8F0FE;\n",
              "      border: none;\n",
              "      border-radius: 50%;\n",
              "      cursor: pointer;\n",
              "      display: none;\n",
              "      fill: #1967D2;\n",
              "      height: 32px;\n",
              "      padding: 0 0 0 0;\n",
              "      width: 32px;\n",
              "    }\n",
              "\n",
              "    .colab-df-convert:hover {\n",
              "      background-color: #E2EBFA;\n",
              "      box-shadow: 0px 1px 2px rgba(60, 64, 67, 0.3), 0px 1px 3px 1px rgba(60, 64, 67, 0.15);\n",
              "      fill: #174EA6;\n",
              "    }\n",
              "\n",
              "    [theme=dark] .colab-df-convert {\n",
              "      background-color: #3B4455;\n",
              "      fill: #D2E3FC;\n",
              "    }\n",
              "\n",
              "    [theme=dark] .colab-df-convert:hover {\n",
              "      background-color: #434B5C;\n",
              "      box-shadow: 0px 1px 3px 1px rgba(0, 0, 0, 0.15);\n",
              "      filter: drop-shadow(0px 1px 2px rgba(0, 0, 0, 0.3));\n",
              "      fill: #FFFFFF;\n",
              "    }\n",
              "  </style>\n",
              "\n",
              "      <script>\n",
              "        const buttonEl =\n",
              "          document.querySelector('#df-a0a0bb77-b129-49d9-aab5-c8af66069cf1 button.colab-df-convert');\n",
              "        buttonEl.style.display =\n",
              "          google.colab.kernel.accessAllowed ? 'block' : 'none';\n",
              "\n",
              "        async function convertToInteractive(key) {\n",
              "          const element = document.querySelector('#df-a0a0bb77-b129-49d9-aab5-c8af66069cf1');\n",
              "          const dataTable =\n",
              "            await google.colab.kernel.invokeFunction('convertToInteractive',\n",
              "                                                     [key], {});\n",
              "          if (!dataTable) return;\n",
              "\n",
              "          const docLinkHtml = 'Like what you see? Visit the ' +\n",
              "            '<a target=\"_blank\" href=https://colab.research.google.com/notebooks/data_table.ipynb>data table notebook</a>'\n",
              "            + ' to learn more about interactive tables.';\n",
              "          element.innerHTML = '';\n",
              "          dataTable['output_type'] = 'display_data';\n",
              "          await google.colab.output.renderOutput(dataTable, element);\n",
              "          const docLink = document.createElement('div');\n",
              "          docLink.innerHTML = docLinkHtml;\n",
              "          element.appendChild(docLink);\n",
              "        }\n",
              "      </script>\n",
              "    </div>\n",
              "  </div>\n",
              "  "
            ]
          },
          "metadata": {},
          "execution_count": 127
        }
      ]
    },
    {
      "cell_type": "markdown",
      "source": [
        "### Tampilan"
      ],
      "metadata": {
        "id": "Geio-2uAXRRV"
      }
    },
    {
      "cell_type": "code",
      "source": [
        "df_deret_waktu_1['Total Pengeluaran'] =  df_deret_waktu_1['Biaya listrik'] + df_deret_waktu_1['Penanganan Dokter'] + df_deret_waktu_1['Biaya Maintenance MRI'] + df_deret_waktu_1['Biaya Listrik']"
      ],
      "metadata": {
        "id": "Rv7ZldbpXWm3"
      },
      "execution_count": null,
      "outputs": []
    },
    {
      "cell_type": "code",
      "source": [
        "df_deret_waktu_1.head()"
      ],
      "metadata": {
        "colab": {
          "base_uri": "https://localhost:8080/",
          "height": 238
        },
        "id": "YK4Z7EKQXQ6V",
        "outputId": "114d791d-0529-46d5-a545-0f94d84da2e0"
      },
      "execution_count": null,
      "outputs": [
        {
          "output_type": "execute_result",
          "data": {
            "text/plain": [
              "            Total Pasien  Pemasukan Pelayanan  Biaya listrik  \\\n",
              "rtglast                                                        \n",
              "2011-01-03             2              8800000    1862.439593   \n",
              "2011-01-04            22             63400000   20486.835521   \n",
              "2011-01-05            11             28280000   10243.417761   \n",
              "2011-01-06            20             50650000   18624.395929   \n",
              "2011-01-07            16             43950000   14899.516743   \n",
              "\n",
              "            Penanganan Dokter  Biaya Maintenance MRI  Biaya Listrik  \\\n",
              "rtglast                                                               \n",
              "2011-01-03             400000                      0    1862.439593   \n",
              "2011-01-04            4400000                      0   20486.835521   \n",
              "2011-01-05            2200000                      0   10243.417761   \n",
              "2011-01-06            4000000                      0   18624.395929   \n",
              "2011-01-07            3200000                      0   14899.516743   \n",
              "\n",
              "            Total Pengeluaran  \n",
              "rtglast                        \n",
              "2011-01-03       4.037249e+05  \n",
              "2011-01-04       4.440974e+06  \n",
              "2011-01-05       2.220487e+06  \n",
              "2011-01-06       4.037249e+06  \n",
              "2011-01-07       3.229799e+06  "
            ],
            "text/html": [
              "\n",
              "  <div id=\"df-2150ffe9-dbde-4705-9bc3-ad0ce2e4ea5c\">\n",
              "    <div class=\"colab-df-container\">\n",
              "      <div>\n",
              "<style scoped>\n",
              "    .dataframe tbody tr th:only-of-type {\n",
              "        vertical-align: middle;\n",
              "    }\n",
              "\n",
              "    .dataframe tbody tr th {\n",
              "        vertical-align: top;\n",
              "    }\n",
              "\n",
              "    .dataframe thead th {\n",
              "        text-align: right;\n",
              "    }\n",
              "</style>\n",
              "<table border=\"1\" class=\"dataframe\">\n",
              "  <thead>\n",
              "    <tr style=\"text-align: right;\">\n",
              "      <th></th>\n",
              "      <th>Total Pasien</th>\n",
              "      <th>Pemasukan Pelayanan</th>\n",
              "      <th>Biaya listrik</th>\n",
              "      <th>Penanganan Dokter</th>\n",
              "      <th>Biaya Maintenance MRI</th>\n",
              "      <th>Biaya Listrik</th>\n",
              "      <th>Total Pengeluaran</th>\n",
              "    </tr>\n",
              "    <tr>\n",
              "      <th>rtglast</th>\n",
              "      <th></th>\n",
              "      <th></th>\n",
              "      <th></th>\n",
              "      <th></th>\n",
              "      <th></th>\n",
              "      <th></th>\n",
              "      <th></th>\n",
              "    </tr>\n",
              "  </thead>\n",
              "  <tbody>\n",
              "    <tr>\n",
              "      <th>2011-01-03</th>\n",
              "      <td>2</td>\n",
              "      <td>8800000</td>\n",
              "      <td>1862.439593</td>\n",
              "      <td>400000</td>\n",
              "      <td>0</td>\n",
              "      <td>1862.439593</td>\n",
              "      <td>4.037249e+05</td>\n",
              "    </tr>\n",
              "    <tr>\n",
              "      <th>2011-01-04</th>\n",
              "      <td>22</td>\n",
              "      <td>63400000</td>\n",
              "      <td>20486.835521</td>\n",
              "      <td>4400000</td>\n",
              "      <td>0</td>\n",
              "      <td>20486.835521</td>\n",
              "      <td>4.440974e+06</td>\n",
              "    </tr>\n",
              "    <tr>\n",
              "      <th>2011-01-05</th>\n",
              "      <td>11</td>\n",
              "      <td>28280000</td>\n",
              "      <td>10243.417761</td>\n",
              "      <td>2200000</td>\n",
              "      <td>0</td>\n",
              "      <td>10243.417761</td>\n",
              "      <td>2.220487e+06</td>\n",
              "    </tr>\n",
              "    <tr>\n",
              "      <th>2011-01-06</th>\n",
              "      <td>20</td>\n",
              "      <td>50650000</td>\n",
              "      <td>18624.395929</td>\n",
              "      <td>4000000</td>\n",
              "      <td>0</td>\n",
              "      <td>18624.395929</td>\n",
              "      <td>4.037249e+06</td>\n",
              "    </tr>\n",
              "    <tr>\n",
              "      <th>2011-01-07</th>\n",
              "      <td>16</td>\n",
              "      <td>43950000</td>\n",
              "      <td>14899.516743</td>\n",
              "      <td>3200000</td>\n",
              "      <td>0</td>\n",
              "      <td>14899.516743</td>\n",
              "      <td>3.229799e+06</td>\n",
              "    </tr>\n",
              "  </tbody>\n",
              "</table>\n",
              "</div>\n",
              "      <button class=\"colab-df-convert\" onclick=\"convertToInteractive('df-2150ffe9-dbde-4705-9bc3-ad0ce2e4ea5c')\"\n",
              "              title=\"Convert this dataframe to an interactive table.\"\n",
              "              style=\"display:none;\">\n",
              "        \n",
              "  <svg xmlns=\"http://www.w3.org/2000/svg\" height=\"24px\"viewBox=\"0 0 24 24\"\n",
              "       width=\"24px\">\n",
              "    <path d=\"M0 0h24v24H0V0z\" fill=\"none\"/>\n",
              "    <path d=\"M18.56 5.44l.94 2.06.94-2.06 2.06-.94-2.06-.94-.94-2.06-.94 2.06-2.06.94zm-11 1L8.5 8.5l.94-2.06 2.06-.94-2.06-.94L8.5 2.5l-.94 2.06-2.06.94zm10 10l.94 2.06.94-2.06 2.06-.94-2.06-.94-.94-2.06-.94 2.06-2.06.94z\"/><path d=\"M17.41 7.96l-1.37-1.37c-.4-.4-.92-.59-1.43-.59-.52 0-1.04.2-1.43.59L10.3 9.45l-7.72 7.72c-.78.78-.78 2.05 0 2.83L4 21.41c.39.39.9.59 1.41.59.51 0 1.02-.2 1.41-.59l7.78-7.78 2.81-2.81c.8-.78.8-2.07 0-2.86zM5.41 20L4 18.59l7.72-7.72 1.47 1.35L5.41 20z\"/>\n",
              "  </svg>\n",
              "      </button>\n",
              "      \n",
              "  <style>\n",
              "    .colab-df-container {\n",
              "      display:flex;\n",
              "      flex-wrap:wrap;\n",
              "      gap: 12px;\n",
              "    }\n",
              "\n",
              "    .colab-df-convert {\n",
              "      background-color: #E8F0FE;\n",
              "      border: none;\n",
              "      border-radius: 50%;\n",
              "      cursor: pointer;\n",
              "      display: none;\n",
              "      fill: #1967D2;\n",
              "      height: 32px;\n",
              "      padding: 0 0 0 0;\n",
              "      width: 32px;\n",
              "    }\n",
              "\n",
              "    .colab-df-convert:hover {\n",
              "      background-color: #E2EBFA;\n",
              "      box-shadow: 0px 1px 2px rgba(60, 64, 67, 0.3), 0px 1px 3px 1px rgba(60, 64, 67, 0.15);\n",
              "      fill: #174EA6;\n",
              "    }\n",
              "\n",
              "    [theme=dark] .colab-df-convert {\n",
              "      background-color: #3B4455;\n",
              "      fill: #D2E3FC;\n",
              "    }\n",
              "\n",
              "    [theme=dark] .colab-df-convert:hover {\n",
              "      background-color: #434B5C;\n",
              "      box-shadow: 0px 1px 3px 1px rgba(0, 0, 0, 0.15);\n",
              "      filter: drop-shadow(0px 1px 2px rgba(0, 0, 0, 0.3));\n",
              "      fill: #FFFFFF;\n",
              "    }\n",
              "  </style>\n",
              "\n",
              "      <script>\n",
              "        const buttonEl =\n",
              "          document.querySelector('#df-2150ffe9-dbde-4705-9bc3-ad0ce2e4ea5c button.colab-df-convert');\n",
              "        buttonEl.style.display =\n",
              "          google.colab.kernel.accessAllowed ? 'block' : 'none';\n",
              "\n",
              "        async function convertToInteractive(key) {\n",
              "          const element = document.querySelector('#df-2150ffe9-dbde-4705-9bc3-ad0ce2e4ea5c');\n",
              "          const dataTable =\n",
              "            await google.colab.kernel.invokeFunction('convertToInteractive',\n",
              "                                                     [key], {});\n",
              "          if (!dataTable) return;\n",
              "\n",
              "          const docLinkHtml = 'Like what you see? Visit the ' +\n",
              "            '<a target=\"_blank\" href=https://colab.research.google.com/notebooks/data_table.ipynb>data table notebook</a>'\n",
              "            + ' to learn more about interactive tables.';\n",
              "          element.innerHTML = '';\n",
              "          dataTable['output_type'] = 'display_data';\n",
              "          await google.colab.output.renderOutput(dataTable, element);\n",
              "          const docLink = document.createElement('div');\n",
              "          docLink.innerHTML = docLinkHtml;\n",
              "          element.appendChild(docLink);\n",
              "        }\n",
              "      </script>\n",
              "    </div>\n",
              "  </div>\n",
              "  "
            ]
          },
          "metadata": {},
          "execution_count": 138
        }
      ]
    },
    {
      "cell_type": "code",
      "source": [
        "df_deret_waktu_1['Rate of Return'] = (df_deret_waktu_1['Pemasukan Pelayanan'] - df_deret_waktu_1['Total Pengeluaran'])/biaya_alat_MRI * 100"
      ],
      "metadata": {
        "id": "113usXk8Y0iB"
      },
      "execution_count": null,
      "outputs": []
    },
    {
      "cell_type": "code",
      "source": [
        "df_deret_waktu_1.head()"
      ],
      "metadata": {
        "colab": {
          "base_uri": "https://localhost:8080/",
          "height": 238
        },
        "id": "NwaRGD6MZQmq",
        "outputId": "5d797e31-0239-4729-c0a4-e59a4323f4df"
      },
      "execution_count": null,
      "outputs": [
        {
          "output_type": "execute_result",
          "data": {
            "text/plain": [
              "            Total Pasien  Pemasukan Pelayanan  Biaya listrik  \\\n",
              "rtglast                                                        \n",
              "2011-01-03             2              8800000    1862.439593   \n",
              "2011-01-04            22             63400000   20486.835521   \n",
              "2011-01-05            11             28280000   10243.417761   \n",
              "2011-01-06            20             50650000   18624.395929   \n",
              "2011-01-07            16             43950000   14899.516743   \n",
              "\n",
              "            Penanganan Dokter  Biaya Maintenance MRI  Biaya Listrik  \\\n",
              "rtglast                                                               \n",
              "2011-01-03             400000                      0    1862.439593   \n",
              "2011-01-04            4400000                      0   20486.835521   \n",
              "2011-01-05            2200000                      0   10243.417761   \n",
              "2011-01-06            4000000                      0   18624.395929   \n",
              "2011-01-07            3200000                      0   14899.516743   \n",
              "\n",
              "            Total Pengeluaran  Rate of Return  \n",
              "rtglast                                        \n",
              "2011-01-03       4.037249e+05        0.040999  \n",
              "2011-01-04       4.440974e+06        0.287900  \n",
              "2011-01-05       2.220487e+06        0.127250  \n",
              "2011-01-06       4.037249e+06        0.227612  \n",
              "2011-01-07       3.229799e+06        0.198839  "
            ],
            "text/html": [
              "\n",
              "  <div id=\"df-85d3d44d-f131-4094-8381-8c47d7bbae5b\">\n",
              "    <div class=\"colab-df-container\">\n",
              "      <div>\n",
              "<style scoped>\n",
              "    .dataframe tbody tr th:only-of-type {\n",
              "        vertical-align: middle;\n",
              "    }\n",
              "\n",
              "    .dataframe tbody tr th {\n",
              "        vertical-align: top;\n",
              "    }\n",
              "\n",
              "    .dataframe thead th {\n",
              "        text-align: right;\n",
              "    }\n",
              "</style>\n",
              "<table border=\"1\" class=\"dataframe\">\n",
              "  <thead>\n",
              "    <tr style=\"text-align: right;\">\n",
              "      <th></th>\n",
              "      <th>Total Pasien</th>\n",
              "      <th>Pemasukan Pelayanan</th>\n",
              "      <th>Biaya listrik</th>\n",
              "      <th>Penanganan Dokter</th>\n",
              "      <th>Biaya Maintenance MRI</th>\n",
              "      <th>Biaya Listrik</th>\n",
              "      <th>Total Pengeluaran</th>\n",
              "      <th>Rate of Return</th>\n",
              "    </tr>\n",
              "    <tr>\n",
              "      <th>rtglast</th>\n",
              "      <th></th>\n",
              "      <th></th>\n",
              "      <th></th>\n",
              "      <th></th>\n",
              "      <th></th>\n",
              "      <th></th>\n",
              "      <th></th>\n",
              "      <th></th>\n",
              "    </tr>\n",
              "  </thead>\n",
              "  <tbody>\n",
              "    <tr>\n",
              "      <th>2011-01-03</th>\n",
              "      <td>2</td>\n",
              "      <td>8800000</td>\n",
              "      <td>1862.439593</td>\n",
              "      <td>400000</td>\n",
              "      <td>0</td>\n",
              "      <td>1862.439593</td>\n",
              "      <td>4.037249e+05</td>\n",
              "      <td>0.040999</td>\n",
              "    </tr>\n",
              "    <tr>\n",
              "      <th>2011-01-04</th>\n",
              "      <td>22</td>\n",
              "      <td>63400000</td>\n",
              "      <td>20486.835521</td>\n",
              "      <td>4400000</td>\n",
              "      <td>0</td>\n",
              "      <td>20486.835521</td>\n",
              "      <td>4.440974e+06</td>\n",
              "      <td>0.287900</td>\n",
              "    </tr>\n",
              "    <tr>\n",
              "      <th>2011-01-05</th>\n",
              "      <td>11</td>\n",
              "      <td>28280000</td>\n",
              "      <td>10243.417761</td>\n",
              "      <td>2200000</td>\n",
              "      <td>0</td>\n",
              "      <td>10243.417761</td>\n",
              "      <td>2.220487e+06</td>\n",
              "      <td>0.127250</td>\n",
              "    </tr>\n",
              "    <tr>\n",
              "      <th>2011-01-06</th>\n",
              "      <td>20</td>\n",
              "      <td>50650000</td>\n",
              "      <td>18624.395929</td>\n",
              "      <td>4000000</td>\n",
              "      <td>0</td>\n",
              "      <td>18624.395929</td>\n",
              "      <td>4.037249e+06</td>\n",
              "      <td>0.227612</td>\n",
              "    </tr>\n",
              "    <tr>\n",
              "      <th>2011-01-07</th>\n",
              "      <td>16</td>\n",
              "      <td>43950000</td>\n",
              "      <td>14899.516743</td>\n",
              "      <td>3200000</td>\n",
              "      <td>0</td>\n",
              "      <td>14899.516743</td>\n",
              "      <td>3.229799e+06</td>\n",
              "      <td>0.198839</td>\n",
              "    </tr>\n",
              "  </tbody>\n",
              "</table>\n",
              "</div>\n",
              "      <button class=\"colab-df-convert\" onclick=\"convertToInteractive('df-85d3d44d-f131-4094-8381-8c47d7bbae5b')\"\n",
              "              title=\"Convert this dataframe to an interactive table.\"\n",
              "              style=\"display:none;\">\n",
              "        \n",
              "  <svg xmlns=\"http://www.w3.org/2000/svg\" height=\"24px\"viewBox=\"0 0 24 24\"\n",
              "       width=\"24px\">\n",
              "    <path d=\"M0 0h24v24H0V0z\" fill=\"none\"/>\n",
              "    <path d=\"M18.56 5.44l.94 2.06.94-2.06 2.06-.94-2.06-.94-.94-2.06-.94 2.06-2.06.94zm-11 1L8.5 8.5l.94-2.06 2.06-.94-2.06-.94L8.5 2.5l-.94 2.06-2.06.94zm10 10l.94 2.06.94-2.06 2.06-.94-2.06-.94-.94-2.06-.94 2.06-2.06.94z\"/><path d=\"M17.41 7.96l-1.37-1.37c-.4-.4-.92-.59-1.43-.59-.52 0-1.04.2-1.43.59L10.3 9.45l-7.72 7.72c-.78.78-.78 2.05 0 2.83L4 21.41c.39.39.9.59 1.41.59.51 0 1.02-.2 1.41-.59l7.78-7.78 2.81-2.81c.8-.78.8-2.07 0-2.86zM5.41 20L4 18.59l7.72-7.72 1.47 1.35L5.41 20z\"/>\n",
              "  </svg>\n",
              "      </button>\n",
              "      \n",
              "  <style>\n",
              "    .colab-df-container {\n",
              "      display:flex;\n",
              "      flex-wrap:wrap;\n",
              "      gap: 12px;\n",
              "    }\n",
              "\n",
              "    .colab-df-convert {\n",
              "      background-color: #E8F0FE;\n",
              "      border: none;\n",
              "      border-radius: 50%;\n",
              "      cursor: pointer;\n",
              "      display: none;\n",
              "      fill: #1967D2;\n",
              "      height: 32px;\n",
              "      padding: 0 0 0 0;\n",
              "      width: 32px;\n",
              "    }\n",
              "\n",
              "    .colab-df-convert:hover {\n",
              "      background-color: #E2EBFA;\n",
              "      box-shadow: 0px 1px 2px rgba(60, 64, 67, 0.3), 0px 1px 3px 1px rgba(60, 64, 67, 0.15);\n",
              "      fill: #174EA6;\n",
              "    }\n",
              "\n",
              "    [theme=dark] .colab-df-convert {\n",
              "      background-color: #3B4455;\n",
              "      fill: #D2E3FC;\n",
              "    }\n",
              "\n",
              "    [theme=dark] .colab-df-convert:hover {\n",
              "      background-color: #434B5C;\n",
              "      box-shadow: 0px 1px 3px 1px rgba(0, 0, 0, 0.15);\n",
              "      filter: drop-shadow(0px 1px 2px rgba(0, 0, 0, 0.3));\n",
              "      fill: #FFFFFF;\n",
              "    }\n",
              "  </style>\n",
              "\n",
              "      <script>\n",
              "        const buttonEl =\n",
              "          document.querySelector('#df-85d3d44d-f131-4094-8381-8c47d7bbae5b button.colab-df-convert');\n",
              "        buttonEl.style.display =\n",
              "          google.colab.kernel.accessAllowed ? 'block' : 'none';\n",
              "\n",
              "        async function convertToInteractive(key) {\n",
              "          const element = document.querySelector('#df-85d3d44d-f131-4094-8381-8c47d7bbae5b');\n",
              "          const dataTable =\n",
              "            await google.colab.kernel.invokeFunction('convertToInteractive',\n",
              "                                                     [key], {});\n",
              "          if (!dataTable) return;\n",
              "\n",
              "          const docLinkHtml = 'Like what you see? Visit the ' +\n",
              "            '<a target=\"_blank\" href=https://colab.research.google.com/notebooks/data_table.ipynb>data table notebook</a>'\n",
              "            + ' to learn more about interactive tables.';\n",
              "          element.innerHTML = '';\n",
              "          dataTable['output_type'] = 'display_data';\n",
              "          await google.colab.output.renderOutput(dataTable, element);\n",
              "          const docLink = document.createElement('div');\n",
              "          docLink.innerHTML = docLinkHtml;\n",
              "          element.appendChild(docLink);\n",
              "        }\n",
              "      </script>\n",
              "    </div>\n",
              "  </div>\n",
              "  "
            ]
          },
          "metadata": {},
          "execution_count": 140
        }
      ]
    },
    {
      "cell_type": "code",
      "source": [
        "df_deret_waktu_1.set_index('rtglast', inplace = True)"
      ],
      "metadata": {
        "id": "1QNRbwcUXqo_"
      },
      "execution_count": null,
      "outputs": []
    },
    {
      "cell_type": "code",
      "source": [
        "df_deret_waktu_1[['Pemasukan Pelayanan','Total Pengeluaran']].plot(subplots = True)\n",
        "plt.show()"
      ],
      "metadata": {
        "colab": {
          "base_uri": "https://localhost:8080/",
          "height": 291
        },
        "id": "8nkWZivmX2gL",
        "outputId": "257b0712-bb21-4f35-a6cd-c3b5d3438bb6"
      },
      "execution_count": null,
      "outputs": [
        {
          "output_type": "display_data",
          "data": {
            "text/plain": [
              "<Figure size 432x288 with 2 Axes>"
            ],
            "image/png": "[encoded data removed]"
          },
          "metadata": {
            "needs_background": "light"
          }
        }
      ]
    },
    {
      "cell_type": "code",
      "source": [
        "df_deret_waktu_1['Total Pengeluaran'].plot()\n",
        "plt.show()"
      ],
      "metadata": {
        "colab": {
          "base_uri": "https://localhost:8080/",
          "height": 291
        },
        "id": "Qd4y1q1NYZQt",
        "outputId": "202206ba-4ddd-4940-a2a0-12ea9441615a"
      },
      "execution_count": null,
      "outputs": [
        {
          "output_type": "display_data",
          "data": {
            "text/plain": [
              "<Figure size 432x288 with 1 Axes>"
            ],
            "image/png": "[encoded data removed]"
          },
          "metadata": {
            "needs_background": "light"
          }
        }
      ]
    },
    {
      "cell_type": "code",
      "source": [
        "df_deret_waktu_1['Rate of Return'].plot()\n",
        "plt.show()"
      ],
      "metadata": {
        "colab": {
          "base_uri": "https://localhost:8080/",
          "height": 280
        },
        "id": "ibOgU2OfZe6v",
        "outputId": "f626e634-3c9e-4479-c1d4-46222fe3e699"
      },
      "execution_count": null,
      "outputs": [
        {
          "output_type": "display_data",
          "data": {
            "text/plain": [
              "<Figure size 432x288 with 1 Axes>"
            ],
            "image/png": "[encoded data removed]"
          },
          "metadata": {
            "needs_background": "light"
          }
        }
      ]
    }
  ]
}